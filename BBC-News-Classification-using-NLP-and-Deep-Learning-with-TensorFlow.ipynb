{
  "cells": [
    {
      "cell_type": "markdown",
      "metadata": {
        "id": "-t6lyJo95oOr"
      },
      "source": [
        "## *PROJEKT BBC NEWS CLASIFICATION*\n",
        "Julia Żółtowska"
      ]
    },
    {
      "cell_type": "markdown",
      "source": [
        "Dataset: BBC articles fulltext and category. Zbiór zawiera 2225 artykułów ze strony BBC news\n",
        "website w formie dokumnetów tekstowych, podzielonych na 5 grup: business, tech, sport,\n",
        "entertaiment, politics. Atrybuty tesktowe: Kategoria, TekstArtykułuTytuł"
      ],
      "metadata": {
        "id": "6TZ06wFpM6Ee"
      }
    },
    {
      "cell_type": "code",
      "source": [
        "import numpy as np\n",
        "import pandas as pd\n",
        "import matplotlib.pyplot as plt\n",
        "import seaborn as sns\n",
        "import nltk\n",
        "import re\n",
        "from nltk.corpus import stopwords\n",
        "from nltk.stem import PorterStemmer\n",
        "from nltk.tokenize import word_tokenize\n",
        "from sklearn.feature_extraction.text import CountVectorizer, TfidfTransformer\n",
        "from sklearn.model_selection import train_test_split\n",
        "from sklearn.preprocessing import LabelEncoder\n",
        "from tensorflow.keras.models import Sequential\n",
        "from tensorflow.keras.layers import Dense\n",
        "from tensorflow.keras.utils import to_categorical\n",
        "import tensorflow as tf\n",
        "from tensorflow.keras.callbacks import EarlyStopping\n",
        "\n",
        "# Preprocessing text\n",
        "nltk.download('punkt')\n",
        "nltk.download('stopwords')\n",
        "nltk.download('wordnet')"
      ],
      "metadata": {
        "colab": {
          "base_uri": "https://localhost:8080/"
        },
        "id": "eHE9NKwv1Eox",
        "outputId": "99eed462-66ca-4e99-841b-b2f6c274329b"
      },
      "execution_count": 104,
      "outputs": [
        {
          "output_type": "stream",
          "name": "stderr",
          "text": [
            "[nltk_data] Downloading package punkt to /root/nltk_data...\n",
            "[nltk_data]   Package punkt is already up-to-date!\n",
            "[nltk_data] Downloading package stopwords to /root/nltk_data...\n",
            "[nltk_data]   Package stopwords is already up-to-date!\n",
            "[nltk_data] Downloading package wordnet to /root/nltk_data...\n",
            "[nltk_data]   Package wordnet is already up-to-date!\n"
          ]
        },
        {
          "output_type": "execute_result",
          "data": {
            "text/plain": [
              "True"
            ]
          },
          "metadata": {},
          "execution_count": 104
        }
      ]
    },
    {
      "cell_type": "code",
      "source": [
        "#Wczytanie danych\n",
        "articles = pd.read_csv('/content/drive/MyDrive/Projekt_WUM/dane/bbc-text.csv')\n",
        "articles.head()"
      ],
      "metadata": {
        "colab": {
          "base_uri": "https://localhost:8080/",
          "height": 206
        },
        "id": "aBEx3Zic1LC3",
        "outputId": "2e396cff-8868-4912-eff6-a7cb27d28ddd"
      },
      "execution_count": 105,
      "outputs": [
        {
          "output_type": "execute_result",
          "data": {
            "text/plain": [
              "        category                                               text\n",
              "0           tech  tv future in the hands of viewers with home th...\n",
              "1       business  worldcom boss  left books alone  former worldc...\n",
              "2          sport  tigers wary of farrell  gamble  leicester say ...\n",
              "3          sport  yeading face newcastle in fa cup premiership s...\n",
              "4  entertainment  ocean s twelve raids box office ocean s twelve..."
            ],
            "text/html": [
              "\n",
              "  <div id=\"df-d4b91230-b67b-406b-b24c-41b72bf3974d\">\n",
              "    <div class=\"colab-df-container\">\n",
              "      <div>\n",
              "<style scoped>\n",
              "    .dataframe tbody tr th:only-of-type {\n",
              "        vertical-align: middle;\n",
              "    }\n",
              "\n",
              "    .dataframe tbody tr th {\n",
              "        vertical-align: top;\n",
              "    }\n",
              "\n",
              "    .dataframe thead th {\n",
              "        text-align: right;\n",
              "    }\n",
              "</style>\n",
              "<table border=\"1\" class=\"dataframe\">\n",
              "  <thead>\n",
              "    <tr style=\"text-align: right;\">\n",
              "      <th></th>\n",
              "      <th>category</th>\n",
              "      <th>text</th>\n",
              "    </tr>\n",
              "  </thead>\n",
              "  <tbody>\n",
              "    <tr>\n",
              "      <th>0</th>\n",
              "      <td>tech</td>\n",
              "      <td>tv future in the hands of viewers with home th...</td>\n",
              "    </tr>\n",
              "    <tr>\n",
              "      <th>1</th>\n",
              "      <td>business</td>\n",
              "      <td>worldcom boss  left books alone  former worldc...</td>\n",
              "    </tr>\n",
              "    <tr>\n",
              "      <th>2</th>\n",
              "      <td>sport</td>\n",
              "      <td>tigers wary of farrell  gamble  leicester say ...</td>\n",
              "    </tr>\n",
              "    <tr>\n",
              "      <th>3</th>\n",
              "      <td>sport</td>\n",
              "      <td>yeading face newcastle in fa cup premiership s...</td>\n",
              "    </tr>\n",
              "    <tr>\n",
              "      <th>4</th>\n",
              "      <td>entertainment</td>\n",
              "      <td>ocean s twelve raids box office ocean s twelve...</td>\n",
              "    </tr>\n",
              "  </tbody>\n",
              "</table>\n",
              "</div>\n",
              "      <button class=\"colab-df-convert\" onclick=\"convertToInteractive('df-d4b91230-b67b-406b-b24c-41b72bf3974d')\"\n",
              "              title=\"Convert this dataframe to an interactive table.\"\n",
              "              style=\"display:none;\">\n",
              "        \n",
              "  <svg xmlns=\"http://www.w3.org/2000/svg\" height=\"24px\"viewBox=\"0 0 24 24\"\n",
              "       width=\"24px\">\n",
              "    <path d=\"M0 0h24v24H0V0z\" fill=\"none\"/>\n",
              "    <path d=\"M18.56 5.44l.94 2.06.94-2.06 2.06-.94-2.06-.94-.94-2.06-.94 2.06-2.06.94zm-11 1L8.5 8.5l.94-2.06 2.06-.94-2.06-.94L8.5 2.5l-.94 2.06-2.06.94zm10 10l.94 2.06.94-2.06 2.06-.94-2.06-.94-.94-2.06-.94 2.06-2.06.94z\"/><path d=\"M17.41 7.96l-1.37-1.37c-.4-.4-.92-.59-1.43-.59-.52 0-1.04.2-1.43.59L10.3 9.45l-7.72 7.72c-.78.78-.78 2.05 0 2.83L4 21.41c.39.39.9.59 1.41.59.51 0 1.02-.2 1.41-.59l7.78-7.78 2.81-2.81c.8-.78.8-2.07 0-2.86zM5.41 20L4 18.59l7.72-7.72 1.47 1.35L5.41 20z\"/>\n",
              "  </svg>\n",
              "      </button>\n",
              "      \n",
              "  <style>\n",
              "    .colab-df-container {\n",
              "      display:flex;\n",
              "      flex-wrap:wrap;\n",
              "      gap: 12px;\n",
              "    }\n",
              "\n",
              "    .colab-df-convert {\n",
              "      background-color: #E8F0FE;\n",
              "      border: none;\n",
              "      border-radius: 50%;\n",
              "      cursor: pointer;\n",
              "      display: none;\n",
              "      fill: #1967D2;\n",
              "      height: 32px;\n",
              "      padding: 0 0 0 0;\n",
              "      width: 32px;\n",
              "    }\n",
              "\n",
              "    .colab-df-convert:hover {\n",
              "      background-color: #E2EBFA;\n",
              "      box-shadow: 0px 1px 2px rgba(60, 64, 67, 0.3), 0px 1px 3px 1px rgba(60, 64, 67, 0.15);\n",
              "      fill: #174EA6;\n",
              "    }\n",
              "\n",
              "    [theme=dark] .colab-df-convert {\n",
              "      background-color: #3B4455;\n",
              "      fill: #D2E3FC;\n",
              "    }\n",
              "\n",
              "    [theme=dark] .colab-df-convert:hover {\n",
              "      background-color: #434B5C;\n",
              "      box-shadow: 0px 1px 3px 1px rgba(0, 0, 0, 0.15);\n",
              "      filter: drop-shadow(0px 1px 2px rgba(0, 0, 0, 0.3));\n",
              "      fill: #FFFFFF;\n",
              "    }\n",
              "  </style>\n",
              "\n",
              "      <script>\n",
              "        const buttonEl =\n",
              "          document.querySelector('#df-d4b91230-b67b-406b-b24c-41b72bf3974d button.colab-df-convert');\n",
              "        buttonEl.style.display =\n",
              "          google.colab.kernel.accessAllowed ? 'block' : 'none';\n",
              "\n",
              "        async function convertToInteractive(key) {\n",
              "          const element = document.querySelector('#df-d4b91230-b67b-406b-b24c-41b72bf3974d');\n",
              "          const dataTable =\n",
              "            await google.colab.kernel.invokeFunction('convertToInteractive',\n",
              "                                                     [key], {});\n",
              "          if (!dataTable) return;\n",
              "\n",
              "          const docLinkHtml = 'Like what you see? Visit the ' +\n",
              "            '<a target=\"_blank\" href=https://colab.research.google.com/notebooks/data_table.ipynb>data table notebook</a>'\n",
              "            + ' to learn more about interactive tables.';\n",
              "          element.innerHTML = '';\n",
              "          dataTable['output_type'] = 'display_data';\n",
              "          await google.colab.output.renderOutput(dataTable, element);\n",
              "          const docLink = document.createElement('div');\n",
              "          docLink.innerHTML = docLinkHtml;\n",
              "          element.appendChild(docLink);\n",
              "        }\n",
              "      </script>\n",
              "    </div>\n",
              "  </div>\n",
              "  "
            ]
          },
          "metadata": {},
          "execution_count": 105
        }
      ]
    },
    {
      "cell_type": "markdown",
      "source": [
        "#Eksploracyjna Analiza Danych (EDA)"
      ],
      "metadata": {
        "id": "spaMUqYK1fBE"
      }
    },
    {
      "cell_type": "code",
      "source": [
        "#Wyświetlenie szczegółowych informacji o kolumnach\n",
        "articles.info()"
      ],
      "metadata": {
        "colab": {
          "base_uri": "https://localhost:8080/"
        },
        "id": "WLP_GvM61kiU",
        "outputId": "d0c48997-3fa8-4aa8-986e-c96018516889"
      },
      "execution_count": 106,
      "outputs": [
        {
          "output_type": "stream",
          "name": "stdout",
          "text": [
            "<class 'pandas.core.frame.DataFrame'>\n",
            "RangeIndex: 2225 entries, 0 to 2224\n",
            "Data columns (total 2 columns):\n",
            " #   Column    Non-Null Count  Dtype \n",
            "---  ------    --------------  ----- \n",
            " 0   category  2225 non-null   object\n",
            " 1   text      2225 non-null   object\n",
            "dtypes: object(2)\n",
            "memory usage: 34.9+ KB\n"
          ]
        }
      ]
    },
    {
      "cell_type": "code",
      "source": [
        "#Wyświetlenie kategorii artykułów w datasetcie articles\n",
        "articles['category'].unique()"
      ],
      "metadata": {
        "colab": {
          "base_uri": "https://localhost:8080/"
        },
        "id": "HZiCyWjU1nq0",
        "outputId": "b190b921-57bb-4d87-c6b6-211cf597bb60"
      },
      "execution_count": 107,
      "outputs": [
        {
          "output_type": "execute_result",
          "data": {
            "text/plain": [
              "array(['tech', 'business', 'sport', 'entertainment', 'politics'],\n",
              "      dtype=object)"
            ]
          },
          "metadata": {},
          "execution_count": 107
        }
      ]
    },
    {
      "cell_type": "code",
      "source": [
        "#Grupuję dane na podstawie kategorii\n",
        "articles.groupby('category').count()"
      ],
      "metadata": {
        "colab": {
          "base_uri": "https://localhost:8080/",
          "height": 238
        },
        "id": "AEKd411F1xmu",
        "outputId": "005b4cfd-6929-4ac3-b425-704ec1213b05"
      },
      "execution_count": 108,
      "outputs": [
        {
          "output_type": "execute_result",
          "data": {
            "text/plain": [
              "               text\n",
              "category           \n",
              "business        510\n",
              "entertainment   386\n",
              "politics        417\n",
              "sport           511\n",
              "tech            401"
            ],
            "text/html": [
              "\n",
              "  <div id=\"df-1b987288-07b1-4e8a-9380-941b93b68c1b\">\n",
              "    <div class=\"colab-df-container\">\n",
              "      <div>\n",
              "<style scoped>\n",
              "    .dataframe tbody tr th:only-of-type {\n",
              "        vertical-align: middle;\n",
              "    }\n",
              "\n",
              "    .dataframe tbody tr th {\n",
              "        vertical-align: top;\n",
              "    }\n",
              "\n",
              "    .dataframe thead th {\n",
              "        text-align: right;\n",
              "    }\n",
              "</style>\n",
              "<table border=\"1\" class=\"dataframe\">\n",
              "  <thead>\n",
              "    <tr style=\"text-align: right;\">\n",
              "      <th></th>\n",
              "      <th>text</th>\n",
              "    </tr>\n",
              "    <tr>\n",
              "      <th>category</th>\n",
              "      <th></th>\n",
              "    </tr>\n",
              "  </thead>\n",
              "  <tbody>\n",
              "    <tr>\n",
              "      <th>business</th>\n",
              "      <td>510</td>\n",
              "    </tr>\n",
              "    <tr>\n",
              "      <th>entertainment</th>\n",
              "      <td>386</td>\n",
              "    </tr>\n",
              "    <tr>\n",
              "      <th>politics</th>\n",
              "      <td>417</td>\n",
              "    </tr>\n",
              "    <tr>\n",
              "      <th>sport</th>\n",
              "      <td>511</td>\n",
              "    </tr>\n",
              "    <tr>\n",
              "      <th>tech</th>\n",
              "      <td>401</td>\n",
              "    </tr>\n",
              "  </tbody>\n",
              "</table>\n",
              "</div>\n",
              "      <button class=\"colab-df-convert\" onclick=\"convertToInteractive('df-1b987288-07b1-4e8a-9380-941b93b68c1b')\"\n",
              "              title=\"Convert this dataframe to an interactive table.\"\n",
              "              style=\"display:none;\">\n",
              "        \n",
              "  <svg xmlns=\"http://www.w3.org/2000/svg\" height=\"24px\"viewBox=\"0 0 24 24\"\n",
              "       width=\"24px\">\n",
              "    <path d=\"M0 0h24v24H0V0z\" fill=\"none\"/>\n",
              "    <path d=\"M18.56 5.44l.94 2.06.94-2.06 2.06-.94-2.06-.94-.94-2.06-.94 2.06-2.06.94zm-11 1L8.5 8.5l.94-2.06 2.06-.94-2.06-.94L8.5 2.5l-.94 2.06-2.06.94zm10 10l.94 2.06.94-2.06 2.06-.94-2.06-.94-.94-2.06-.94 2.06-2.06.94z\"/><path d=\"M17.41 7.96l-1.37-1.37c-.4-.4-.92-.59-1.43-.59-.52 0-1.04.2-1.43.59L10.3 9.45l-7.72 7.72c-.78.78-.78 2.05 0 2.83L4 21.41c.39.39.9.59 1.41.59.51 0 1.02-.2 1.41-.59l7.78-7.78 2.81-2.81c.8-.78.8-2.07 0-2.86zM5.41 20L4 18.59l7.72-7.72 1.47 1.35L5.41 20z\"/>\n",
              "  </svg>\n",
              "      </button>\n",
              "      \n",
              "  <style>\n",
              "    .colab-df-container {\n",
              "      display:flex;\n",
              "      flex-wrap:wrap;\n",
              "      gap: 12px;\n",
              "    }\n",
              "\n",
              "    .colab-df-convert {\n",
              "      background-color: #E8F0FE;\n",
              "      border: none;\n",
              "      border-radius: 50%;\n",
              "      cursor: pointer;\n",
              "      display: none;\n",
              "      fill: #1967D2;\n",
              "      height: 32px;\n",
              "      padding: 0 0 0 0;\n",
              "      width: 32px;\n",
              "    }\n",
              "\n",
              "    .colab-df-convert:hover {\n",
              "      background-color: #E2EBFA;\n",
              "      box-shadow: 0px 1px 2px rgba(60, 64, 67, 0.3), 0px 1px 3px 1px rgba(60, 64, 67, 0.15);\n",
              "      fill: #174EA6;\n",
              "    }\n",
              "\n",
              "    [theme=dark] .colab-df-convert {\n",
              "      background-color: #3B4455;\n",
              "      fill: #D2E3FC;\n",
              "    }\n",
              "\n",
              "    [theme=dark] .colab-df-convert:hover {\n",
              "      background-color: #434B5C;\n",
              "      box-shadow: 0px 1px 3px 1px rgba(0, 0, 0, 0.15);\n",
              "      filter: drop-shadow(0px 1px 2px rgba(0, 0, 0, 0.3));\n",
              "      fill: #FFFFFF;\n",
              "    }\n",
              "  </style>\n",
              "\n",
              "      <script>\n",
              "        const buttonEl =\n",
              "          document.querySelector('#df-1b987288-07b1-4e8a-9380-941b93b68c1b button.colab-df-convert');\n",
              "        buttonEl.style.display =\n",
              "          google.colab.kernel.accessAllowed ? 'block' : 'none';\n",
              "\n",
              "        async function convertToInteractive(key) {\n",
              "          const element = document.querySelector('#df-1b987288-07b1-4e8a-9380-941b93b68c1b');\n",
              "          const dataTable =\n",
              "            await google.colab.kernel.invokeFunction('convertToInteractive',\n",
              "                                                     [key], {});\n",
              "          if (!dataTable) return;\n",
              "\n",
              "          const docLinkHtml = 'Like what you see? Visit the ' +\n",
              "            '<a target=\"_blank\" href=https://colab.research.google.com/notebooks/data_table.ipynb>data table notebook</a>'\n",
              "            + ' to learn more about interactive tables.';\n",
              "          element.innerHTML = '';\n",
              "          dataTable['output_type'] = 'display_data';\n",
              "          await google.colab.output.renderOutput(dataTable, element);\n",
              "          const docLink = document.createElement('div');\n",
              "          docLink.innerHTML = docLinkHtml;\n",
              "          element.appendChild(docLink);\n",
              "        }\n",
              "      </script>\n",
              "    </div>\n",
              "  </div>\n",
              "  "
            ]
          },
          "metadata": {},
          "execution_count": 108
        }
      ]
    },
    {
      "cell_type": "code",
      "source": [
        "#Przegladam dataset na podstawie długości tekstu atrykułu i wyświetlam 10 pierwszych wierszy\n",
        "articles['length'] = articles['text'].apply(len)\n",
        "articles.head(10)"
      ],
      "metadata": {
        "colab": {
          "base_uri": "https://localhost:8080/",
          "height": 363
        },
        "id": "ciHi1Te82nBV",
        "outputId": "ccd2b368-7a21-42a3-a930-f63c44484c66"
      },
      "execution_count": 109,
      "outputs": [
        {
          "output_type": "execute_result",
          "data": {
            "text/plain": [
              "        category                                               text  length\n",
              "0           tech  tv future in the hands of viewers with home th...    4333\n",
              "1       business  worldcom boss  left books alone  former worldc...    1842\n",
              "2          sport  tigers wary of farrell  gamble  leicester say ...    1342\n",
              "3          sport  yeading face newcastle in fa cup premiership s...    2176\n",
              "4  entertainment  ocean s twelve raids box office ocean s twelve...    1579\n",
              "5       politics  howard hits back at mongrel jibe michael howar...    3533\n",
              "6       politics  blair prepares to name poll date tony blair is...    1486\n",
              "7          sport  henman hopes ended in dubai third seed tim hen...    1051\n",
              "8          sport  wilkinson fit to face edinburgh england captai...     983\n",
              "9  entertainment  last star wars  not for children  the sixth an...    1248"
            ],
            "text/html": [
              "\n",
              "  <div id=\"df-945fa572-3035-4f5a-b22a-c14f193b1aa9\">\n",
              "    <div class=\"colab-df-container\">\n",
              "      <div>\n",
              "<style scoped>\n",
              "    .dataframe tbody tr th:only-of-type {\n",
              "        vertical-align: middle;\n",
              "    }\n",
              "\n",
              "    .dataframe tbody tr th {\n",
              "        vertical-align: top;\n",
              "    }\n",
              "\n",
              "    .dataframe thead th {\n",
              "        text-align: right;\n",
              "    }\n",
              "</style>\n",
              "<table border=\"1\" class=\"dataframe\">\n",
              "  <thead>\n",
              "    <tr style=\"text-align: right;\">\n",
              "      <th></th>\n",
              "      <th>category</th>\n",
              "      <th>text</th>\n",
              "      <th>length</th>\n",
              "    </tr>\n",
              "  </thead>\n",
              "  <tbody>\n",
              "    <tr>\n",
              "      <th>0</th>\n",
              "      <td>tech</td>\n",
              "      <td>tv future in the hands of viewers with home th...</td>\n",
              "      <td>4333</td>\n",
              "    </tr>\n",
              "    <tr>\n",
              "      <th>1</th>\n",
              "      <td>business</td>\n",
              "      <td>worldcom boss  left books alone  former worldc...</td>\n",
              "      <td>1842</td>\n",
              "    </tr>\n",
              "    <tr>\n",
              "      <th>2</th>\n",
              "      <td>sport</td>\n",
              "      <td>tigers wary of farrell  gamble  leicester say ...</td>\n",
              "      <td>1342</td>\n",
              "    </tr>\n",
              "    <tr>\n",
              "      <th>3</th>\n",
              "      <td>sport</td>\n",
              "      <td>yeading face newcastle in fa cup premiership s...</td>\n",
              "      <td>2176</td>\n",
              "    </tr>\n",
              "    <tr>\n",
              "      <th>4</th>\n",
              "      <td>entertainment</td>\n",
              "      <td>ocean s twelve raids box office ocean s twelve...</td>\n",
              "      <td>1579</td>\n",
              "    </tr>\n",
              "    <tr>\n",
              "      <th>5</th>\n",
              "      <td>politics</td>\n",
              "      <td>howard hits back at mongrel jibe michael howar...</td>\n",
              "      <td>3533</td>\n",
              "    </tr>\n",
              "    <tr>\n",
              "      <th>6</th>\n",
              "      <td>politics</td>\n",
              "      <td>blair prepares to name poll date tony blair is...</td>\n",
              "      <td>1486</td>\n",
              "    </tr>\n",
              "    <tr>\n",
              "      <th>7</th>\n",
              "      <td>sport</td>\n",
              "      <td>henman hopes ended in dubai third seed tim hen...</td>\n",
              "      <td>1051</td>\n",
              "    </tr>\n",
              "    <tr>\n",
              "      <th>8</th>\n",
              "      <td>sport</td>\n",
              "      <td>wilkinson fit to face edinburgh england captai...</td>\n",
              "      <td>983</td>\n",
              "    </tr>\n",
              "    <tr>\n",
              "      <th>9</th>\n",
              "      <td>entertainment</td>\n",
              "      <td>last star wars  not for children  the sixth an...</td>\n",
              "      <td>1248</td>\n",
              "    </tr>\n",
              "  </tbody>\n",
              "</table>\n",
              "</div>\n",
              "      <button class=\"colab-df-convert\" onclick=\"convertToInteractive('df-945fa572-3035-4f5a-b22a-c14f193b1aa9')\"\n",
              "              title=\"Convert this dataframe to an interactive table.\"\n",
              "              style=\"display:none;\">\n",
              "        \n",
              "  <svg xmlns=\"http://www.w3.org/2000/svg\" height=\"24px\"viewBox=\"0 0 24 24\"\n",
              "       width=\"24px\">\n",
              "    <path d=\"M0 0h24v24H0V0z\" fill=\"none\"/>\n",
              "    <path d=\"M18.56 5.44l.94 2.06.94-2.06 2.06-.94-2.06-.94-.94-2.06-.94 2.06-2.06.94zm-11 1L8.5 8.5l.94-2.06 2.06-.94-2.06-.94L8.5 2.5l-.94 2.06-2.06.94zm10 10l.94 2.06.94-2.06 2.06-.94-2.06-.94-.94-2.06-.94 2.06-2.06.94z\"/><path d=\"M17.41 7.96l-1.37-1.37c-.4-.4-.92-.59-1.43-.59-.52 0-1.04.2-1.43.59L10.3 9.45l-7.72 7.72c-.78.78-.78 2.05 0 2.83L4 21.41c.39.39.9.59 1.41.59.51 0 1.02-.2 1.41-.59l7.78-7.78 2.81-2.81c.8-.78.8-2.07 0-2.86zM5.41 20L4 18.59l7.72-7.72 1.47 1.35L5.41 20z\"/>\n",
              "  </svg>\n",
              "      </button>\n",
              "      \n",
              "  <style>\n",
              "    .colab-df-container {\n",
              "      display:flex;\n",
              "      flex-wrap:wrap;\n",
              "      gap: 12px;\n",
              "    }\n",
              "\n",
              "    .colab-df-convert {\n",
              "      background-color: #E8F0FE;\n",
              "      border: none;\n",
              "      border-radius: 50%;\n",
              "      cursor: pointer;\n",
              "      display: none;\n",
              "      fill: #1967D2;\n",
              "      height: 32px;\n",
              "      padding: 0 0 0 0;\n",
              "      width: 32px;\n",
              "    }\n",
              "\n",
              "    .colab-df-convert:hover {\n",
              "      background-color: #E2EBFA;\n",
              "      box-shadow: 0px 1px 2px rgba(60, 64, 67, 0.3), 0px 1px 3px 1px rgba(60, 64, 67, 0.15);\n",
              "      fill: #174EA6;\n",
              "    }\n",
              "\n",
              "    [theme=dark] .colab-df-convert {\n",
              "      background-color: #3B4455;\n",
              "      fill: #D2E3FC;\n",
              "    }\n",
              "\n",
              "    [theme=dark] .colab-df-convert:hover {\n",
              "      background-color: #434B5C;\n",
              "      box-shadow: 0px 1px 3px 1px rgba(0, 0, 0, 0.15);\n",
              "      filter: drop-shadow(0px 1px 2px rgba(0, 0, 0, 0.3));\n",
              "      fill: #FFFFFF;\n",
              "    }\n",
              "  </style>\n",
              "\n",
              "      <script>\n",
              "        const buttonEl =\n",
              "          document.querySelector('#df-945fa572-3035-4f5a-b22a-c14f193b1aa9 button.colab-df-convert');\n",
              "        buttonEl.style.display =\n",
              "          google.colab.kernel.accessAllowed ? 'block' : 'none';\n",
              "\n",
              "        async function convertToInteractive(key) {\n",
              "          const element = document.querySelector('#df-945fa572-3035-4f5a-b22a-c14f193b1aa9');\n",
              "          const dataTable =\n",
              "            await google.colab.kernel.invokeFunction('convertToInteractive',\n",
              "                                                     [key], {});\n",
              "          if (!dataTable) return;\n",
              "\n",
              "          const docLinkHtml = 'Like what you see? Visit the ' +\n",
              "            '<a target=\"_blank\" href=https://colab.research.google.com/notebooks/data_table.ipynb>data table notebook</a>'\n",
              "            + ' to learn more about interactive tables.';\n",
              "          element.innerHTML = '';\n",
              "          dataTable['output_type'] = 'display_data';\n",
              "          await google.colab.output.renderOutput(dataTable, element);\n",
              "          const docLink = document.createElement('div');\n",
              "          docLink.innerHTML = docLinkHtml;\n",
              "          element.appendChild(docLink);\n",
              "        }\n",
              "      </script>\n",
              "    </div>\n",
              "  </div>\n",
              "  "
            ]
          },
          "metadata": {},
          "execution_count": 109
        }
      ]
    },
    {
      "cell_type": "code",
      "source": [
        "#histogram przedstawiający rozkład wartości w kolumnie 'length'\n",
        "articles['length'].plot(bins=100,kind='hist')"
      ],
      "metadata": {
        "colab": {
          "base_uri": "https://localhost:8080/",
          "height": 448
        },
        "id": "Nw8mXtUV28Nl",
        "outputId": "602efcae-5e6a-4d2d-e3f7-003d384bcad2"
      },
      "execution_count": 110,
      "outputs": [
        {
          "output_type": "execute_result",
          "data": {
            "text/plain": [
              "<Axes: ylabel='Frequency'>"
            ]
          },
          "metadata": {},
          "execution_count": 110
        },
        {
          "output_type": "display_data",
          "data": {
            "text/plain": [
              "<Figure size 640x480 with 1 Axes>"
            ],
            "image/png": "[encoded data removed]"
          },
          "metadata": {}
        }
      ]
    },
    {
      "cell_type": "code",
      "source": [
        "# Wyświetlam  długość najdłuższego artykułu w datasetcie\n",
        "articles['length'].max()"
      ],
      "metadata": {
        "colab": {
          "base_uri": "https://localhost:8080/"
        },
        "id": "VassTW3d3NyJ",
        "outputId": "551d186b-d035-4b16-a8d0-3026c8975652"
      },
      "execution_count": 111,
      "outputs": [
        {
          "output_type": "execute_result",
          "data": {
            "text/plain": [
              "25483"
            ]
          },
          "metadata": {},
          "execution_count": 111
        }
      ]
    },
    {
      "cell_type": "code",
      "source": [
        "#wyświetlam wartość kolumny \"category\" dla wierszy, w których długość artykułu jest nawiększa\n",
        "print(articles[articles['length'] == articles['length'].max()]['category'])"
      ],
      "metadata": {
        "colab": {
          "base_uri": "https://localhost:8080/"
        },
        "id": "FH3PNXhX3kuk",
        "outputId": "eb7a978e-d4df-43b6-cec6-71b9ba6e7106"
      },
      "execution_count": 112,
      "outputs": [
        {
          "output_type": "stream",
          "name": "stdout",
          "text": [
            "408    politics\n",
            "Name: category, dtype: object\n"
          ]
        }
      ]
    },
    {
      "cell_type": "code",
      "source": [
        "#Generuję histogramy, które pokazują rozkład wartości dotyczący długości artykułów w każdej kategorii\n",
        "articles.hist(column='length', by='category', bins=50, figsize=(12,8))"
      ],
      "metadata": {
        "colab": {
          "base_uri": "https://localhost:8080/",
          "height": 800
        },
        "id": "jv_e_kmp5fpH",
        "outputId": "6f79f211-23ab-40ea-dd4a-5011e829fa2d"
      },
      "execution_count": 113,
      "outputs": [
        {
          "output_type": "execute_result",
          "data": {
            "text/plain": [
              "array([[<Axes: title={'center': 'business'}>,\n",
              "        <Axes: title={'center': 'entertainment'}>],\n",
              "       [<Axes: title={'center': 'politics'}>,\n",
              "        <Axes: title={'center': 'sport'}>],\n",
              "       [<Axes: title={'center': 'tech'}>, <Axes: >]], dtype=object)"
            ]
          },
          "metadata": {},
          "execution_count": 113
        },
        {
          "output_type": "display_data",
          "data": {
            "text/plain": [
              "<Figure size 1200x800 with 6 Axes>"
            ],
            "image/png": "[encoded data removed]"
          },
          "metadata": {}
        }
      ]
    },
    {
      "cell_type": "markdown",
      "source": [
        "# Przetwarzanie danych"
      ],
      "metadata": {
        "id": "9XiBYahe55Mf"
      }
    },
    {
      "cell_type": "markdown",
      "source": [
        "Przygotowanie funkcji, która będzie wykorzystywana do przygotowania tekstu artykołów do klasyfikacji"
      ],
      "metadata": {
        "id": "vgyVGdM669_Q"
      }
    },
    {
      "cell_type": "code",
      "source": [
        "def text_processing(text):\n",
        "\n",
        "    #TOKENIZACJA\n",
        "    # Wykonałam tokenizację tekstu artykułów, używając biblioteki NLTK, czyli Natural Language Toolkit\n",
        "    #Wykorzystałam funkcję word_tokenize, która dokonuje tokenizacji tekstu artykułów na poziomie słów.\n",
        "    tokens = nltk.word_tokenize(text)\n",
        "    #jako wynik otrzymałam liste tokenów, czyli słów\n",
        "\n",
        "    #USUWANIE STOP WORDS\n",
        "    # Następnie utworzyłam zbiór słów tzw. stop words dla języka angielskiego, które\n",
        "    #dostracza biblioteka NLTK, w związku z tym, że artykuły po angielsku\n",
        "    #to używam słów stop words z języka angielskiego.\n",
        "    stop_words = set(stopwords.words(\"english\"))\n",
        "\n",
        "\n",
        "    #Przeszłam po liście tokenów i sprawdzałam czy ten token nie znajduję się\n",
        "    #w zbiorze stop words, jeśli token nie jest tym, ze zbioru stop words\n",
        "    #to zostaje zachowany no i dodany do nowej listy tokens\n",
        "    tokens = [word for word in tokens if word not in stop_words]\n",
        "\n",
        "    # USUWAM CYFRY, ZNAKI INTERPUNKCYJNE I SPECJALNE\n",
        "    regex = '[a-z]+' #używam  wzorca tak zwanego wyrażenia regularnego używanego do\n",
        "    #dopasowywania ciągów znaków, które składając się tylko z małych liter, czyli że token\n",
        "    #musi zawierać jedną albo więcej małych liter\n",
        "\n",
        "    #Przechodzę przez każdy token w liście tokens i sprawdzam, czy pasuje on do\n",
        "    #wzorca wyrażenia regex. Poprzez re.match(regex, word) sprawdzałam\n",
        "    #czy token pasuje do wzorca, jeśli pasuje to zostaje dodany do tokens\n",
        "    tokens = [word for word in tokens if re.match(regex, word)]\n",
        "    #Rezultat to, że zachowane są tylko te tokeny, które składają się tylko z małych liter.\n",
        "\n",
        "    # Lematyzacja: konwertowanie słów do ich podstawowej formy\n",
        "    lem = nltk.stem.wordnet.WordNetLemmatizer()\n",
        "    #Stworzyłam obiekt lematyzatora z biblioteki NLTK\n",
        "    tokens = [lem.lemmatize(word, pos='v') for word in tokens]\n",
        "    #przechodzę przez każdy token i go lemantyzuję za pomocą metody lemmatize obiektu lem. Parametr pod='v', czyli\n",
        "    #słowo podczas lemnatyzacji traktowane jako ver,b czyli czasownik\n",
        "    return tokens"
      ],
      "metadata": {
        "id": "sTCR_Tk5mcUB"
      },
      "execution_count": 114,
      "outputs": []
    },
    {
      "cell_type": "code",
      "source": [
        "# Przekształcenie etykiet z postaci tekstowej na numeryczną\n",
        " #użyłam Label Encodera, bo on analizuje unikalne wartości w kolumnie\n",
        "#,,category\"  no i tworzy mapowanie między tymi wartościami a liczbami całkowitymi np. artykuł z kategorii Sport może mieć po zastosowaniu kodowania etykietę 1\n",
        "label_encoder = LabelEncoder()\n",
        "articles['category_enc'] = label_encoder.fit_transform(articles['category'])\n",
        "#w wyniku otrzymałam nową kolumnę, która ma zakodowane wartości kategorii artykółów"
      ],
      "metadata": {
        "id": "CWpK1F367LVT"
      },
      "execution_count": 115,
      "outputs": []
    },
    {
      "cell_type": "code",
      "source": [
        "#Sprawdzam jak wyglądają zakodowane klasy z kolumny category\n",
        "articles['category_enc']"
      ],
      "metadata": {
        "colab": {
          "base_uri": "https://localhost:8080/"
        },
        "id": "KS37rqSfeBOJ",
        "outputId": "6c4b1944-6c64-4ac9-df96-58d24e456df2"
      },
      "execution_count": 116,
      "outputs": [
        {
          "output_type": "execute_result",
          "data": {
            "text/plain": [
              "0       4\n",
              "1       0\n",
              "2       3\n",
              "3       3\n",
              "4       1\n",
              "       ..\n",
              "2220    0\n",
              "2221    2\n",
              "2222    1\n",
              "2223    2\n",
              "2224    3\n",
              "Name: category_enc, Length: 2225, dtype: int64"
            ]
          },
          "metadata": {},
          "execution_count": 116
        }
      ]
    },
    {
      "cell_type": "markdown",
      "source": [
        "# Podział danych"
      ],
      "metadata": {
        "id": "BbVUEmDIjqRk"
      }
    },
    {
      "cell_type": "code",
      "source": [
        "## Dzielę dane na treningowe i testowe (stosunek 80:20)\n",
        "x_train, x_test, y_train, y_test = train_test_split(articles['text'], articles['category_enc'], test_size=0.2, random_state=42)"
      ],
      "metadata": {
        "id": "O4eHL-Fp7WfA"
      },
      "execution_count": 117,
      "outputs": []
    },
    {
      "cell_type": "code",
      "source": [
        "# Dzielę dane treningowe na treningowe i walidacyjne (stosunek 80:20)\n",
        "x_train, x_val, y_train, y_val = train_test_split(x_train, y_train, test_size=0.2, random_state=42)"
      ],
      "metadata": {
        "id": "EMxmcWSJCuNM"
      },
      "execution_count": 118,
      "outputs": []
    },
    {
      "cell_type": "markdown",
      "source": [
        "Bag of words - Tworzenie reprezentacji bag of words"
      ],
      "metadata": {
        "id": "uCoD7nFvjwuz"
      }
    },
    {
      "cell_type": "code",
      "source": [
        "# Najpierw wykorzystałam obiekt CountVectorizer, który przekszatłaca dane wejściowe na reprezentację numeryczną,\n",
        "#w którym każdy artykuł jest kodowany jako wektor, który zawiera konkretną liczbę wystąpień słów w tym artykule.\n",
        "#Dodatkowo do tego obiektu CountVectorizer przekazywana jest funkcja, którą wcześniej zdefiniowałam czyszcząca tekst atrykułów.\n",
        "bow_transformer = CountVectorizer(analyzer= text_processing).fit(x_train)\n",
        "\n",
        "#Następnie wykonałam przekształecenie bag of words na danych treningowych,walidacyjnych i testowych.\n",
        "x_train_bow = bow_transformer.transform(x_train)\n",
        "x_val_bow = bow_transformer.transform(x_val)\n",
        "x_test_bow = bow_transformer.transform(x_test)"
      ],
      "metadata": {
        "id": "uj-jA4rW7bRX"
      },
      "execution_count": 119,
      "outputs": []
    },
    {
      "cell_type": "markdown",
      "source": [
        "TF-IDF (Term Frequency-Inverse Document Frequency) - Konwersja reprezentacji bag of words na reprezentację TF-IDF"
      ],
      "metadata": {
        "id": "JwQ9w-ARma9u"
      }
    },
    {
      "cell_type": "code",
      "source": [
        "#Tworzę obiekt TfidfTransformer z biblioteki scikit-learn, służący do obliczania wag TF-IDF dla\n",
        "#przekształconych reprezentacji Bag of Words a poprzez fit dostosowuje model do danych treningowych\n",
        "#i obliczam statystki, które są potrzebne do obliczenia wag TF-IDF.\n",
        "tfidf_transformer = TfidfTransformer().fit(x_train_bow)\n",
        "\n",
        "\n",
        "#Następnie wykouje przekształcenie reprezentacji Bag of Words danych treningowych, walidacyjnych i testowych na reprezentację TD-IDF\n",
        "#, w której wartości wektorów zostają przeskalowane na podstawie wag TF-IDF, wykorzystując stworzony obiekt tfidf_transformer\n",
        "\n",
        "x_train_tfidf = tfidf_transformer.transform(x_train_bow)\n",
        "x_val_tfidf = tfidf_transformer.transform(x_val_bow)\n",
        "x_test_tfidf = tfidf_transformer.transform(x_test_bow)\n"
      ],
      "metadata": {
        "id": "vyMyWCUk7eP-"
      },
      "execution_count": 120,
      "outputs": []
    },
    {
      "cell_type": "markdown",
      "source": [
        "Konwersja rzadkich macierzy na gęste tablice numpy\n",
        "\n",
        " Przez to, że wcześniej zrobiłam przekształcenie TF-IDF na reprezentacjach Bag of Words dla danych treningowych, walidacyjnych i testowych w wyniku otrzymałam rzadkie macierze, które to przechowują dane w postaci skompresowanej. (przeczytałałam, że robi się tak, żeby efektywniej zarządzać pamięcią)\n",
        "\n",
        "Celem tej konwersji było to, żeby x_train_ready,  x_val_ready i x_test_ready przechowywały przekształcone reprezentacje TF-IDF jako gęste tablice numpy, co umożliwiło mi wykorzystanie ich w uczeniu modelu."
      ],
      "metadata": {
        "id": "2lYz5cU4sh4A"
      }
    },
    {
      "cell_type": "code",
      "source": [
        "x_train_ready = x_train_tfidf.toarray()\n",
        "x_val_ready = x_val_tfidf.toarray()\n",
        "x_test_ready = x_test_tfidf.toarray()\n"
      ],
      "metadata": {
        "id": "-AaZgy1e7kPX"
      },
      "execution_count": 121,
      "outputs": []
    },
    {
      "cell_type": "markdown",
      "source": [
        "Konwersja danych  do formatu one-hot encoded ( wykorzystuję one-hot encoding)"
      ],
      "metadata": {
        "id": "tBqYPM_pwEid"
      }
    },
    {
      "cell_type": "code",
      "source": [
        "num_classes = len(label_encoder.classes_) #obliczyłam liczbę klas poprzez zliczenie tych unikalnych w obiekcie label_encoder.classes i wartość z zostaje\n",
        "#przypisane do num_classes\n",
        "\n",
        "#wykonałam przekształcenie etykiet treningowych, walidacyjnych i testowych na postać one-hot encoding\n",
        "#Użyłam funkcji \"to_categorical\", która przekształaca etykiety klas na postać binarnego kodu 1 of n, w którym każda klasa jest reprezetowana przez\n",
        "# wektor zer oraz jedynek o długości num_classes\n",
        "y_train_ready = to_categorical(y_train, num_classes)\n",
        "y_val_ready= to_categorical(y_val, num_classes)\n",
        "y_test_ready = to_categorical(y_test, num_classes)\n",
        "\n"
      ],
      "metadata": {
        "id": "DpDT7Srm7hQJ"
      },
      "execution_count": 122,
      "outputs": []
    },
    {
      "cell_type": "markdown",
      "source": [
        "# Wytrenowanie modelu referencyjnego - BASELINE\n",
        "Definiuję, kompiluję oraz trenuję model jednokierunkowej, wielowarstwowej sieci neuronowej o pierwszej warstwie gęstej (Dense), zawierającą 16 neuronów i z funkcją aktywacji RELU. Drugą warstwą gęstą, która też ma 16 neuronów o funkcji aktywacji RELU. Trzecią warstwą gęstą (Dense) o rozmiarze num_classes, czyli liczbie klas (5) oraz funkcją aktywacji softmax."
      ],
      "metadata": {
        "id": "9A92qlaUYRP7"
      }
    },
    {
      "cell_type": "code",
      "source": [
        "from tensorflow.keras.models import Sequential\n",
        "\n",
        "\n",
        "model = Sequential([\n",
        "    Dense(16, activation='relu'),\n",
        "    Dense(16, activation='relu'),\n",
        "    Dense(num_classes, activation='softmax')\n",
        "])\n",
        "\n",
        "model.compile(optimizer='adam', loss='categorical_crossentropy', metrics=['accuracy'])\n",
        "\n",
        "history = model.fit(x_train_ready, y_train_ready,\n",
        "                    epochs=30, batch_size=200,\n",
        "                    validation_data=(x_val_ready, y_val_ready))"
      ],
      "metadata": {
        "colab": {
          "base_uri": "https://localhost:8080/"
        },
        "id": "w40GuSl9JHUs",
        "outputId": "db244dce-e07c-477e-e1e2-beb211f7d709"
      },
      "execution_count": 123,
      "outputs": [
        {
          "output_type": "stream",
          "name": "stdout",
          "text": [
            "Epoch 1/30\n",
            "8/8 [==============================] - 1s 70ms/step - loss: 1.5970 - accuracy: 0.2451 - val_loss: 1.5683 - val_accuracy: 0.3511\n",
            "Epoch 2/30\n",
            "8/8 [==============================] - 0s 48ms/step - loss: 1.5419 - accuracy: 0.4080 - val_loss: 1.5131 - val_accuracy: 0.4129\n",
            "Epoch 3/30\n",
            "8/8 [==============================] - 0s 39ms/step - loss: 1.4739 - accuracy: 0.4565 - val_loss: 1.4514 - val_accuracy: 0.4213\n",
            "Epoch 4/30\n",
            "8/8 [==============================] - 0s 40ms/step - loss: 1.4005 - accuracy: 0.5014 - val_loss: 1.3842 - val_accuracy: 0.4635\n",
            "Epoch 5/30\n",
            "8/8 [==============================] - 0s 44ms/step - loss: 1.3173 - accuracy: 0.5569 - val_loss: 1.3153 - val_accuracy: 0.4860\n",
            "Epoch 6/30\n",
            "8/8 [==============================] - 0s 41ms/step - loss: 1.2337 - accuracy: 0.5962 - val_loss: 1.2444 - val_accuracy: 0.5197\n",
            "Epoch 7/30\n",
            "8/8 [==============================] - 0s 39ms/step - loss: 1.1481 - accuracy: 0.6187 - val_loss: 1.1728 - val_accuracy: 0.5365\n",
            "Epoch 8/30\n",
            "8/8 [==============================] - 0s 40ms/step - loss: 1.0613 - accuracy: 0.6552 - val_loss: 1.1001 - val_accuracy: 0.5927\n",
            "Epoch 9/30\n",
            "8/8 [==============================] - 0s 30ms/step - loss: 0.9742 - accuracy: 0.7577 - val_loss: 1.0283 - val_accuracy: 0.6433\n",
            "Epoch 10/30\n",
            "8/8 [==============================] - 0s 28ms/step - loss: 0.8863 - accuracy: 0.7992 - val_loss: 0.9545 - val_accuracy: 0.6882\n",
            "Epoch 11/30\n",
            "8/8 [==============================] - 0s 31ms/step - loss: 0.7995 - accuracy: 0.8188 - val_loss: 0.8829 - val_accuracy: 0.7079\n",
            "Epoch 12/30\n",
            "8/8 [==============================] - 0s 30ms/step - loss: 0.7139 - accuracy: 0.8258 - val_loss: 0.8097 - val_accuracy: 0.7331\n",
            "Epoch 13/30\n",
            "8/8 [==============================] - 0s 30ms/step - loss: 0.6287 - accuracy: 0.8750 - val_loss: 0.7397 - val_accuracy: 0.7781\n",
            "Epoch 14/30\n",
            "8/8 [==============================] - 0s 29ms/step - loss: 0.5490 - accuracy: 0.9754 - val_loss: 0.6715 - val_accuracy: 0.8287\n",
            "Epoch 15/30\n",
            "8/8 [==============================] - 0s 28ms/step - loss: 0.4735 - accuracy: 0.9958 - val_loss: 0.6072 - val_accuracy: 0.8567\n",
            "Epoch 16/30\n",
            "8/8 [==============================] - 0s 29ms/step - loss: 0.4041 - accuracy: 0.9979 - val_loss: 0.5466 - val_accuracy: 0.8876\n",
            "Epoch 17/30\n",
            "8/8 [==============================] - 0s 27ms/step - loss: 0.3421 - accuracy: 0.9986 - val_loss: 0.4918 - val_accuracy: 0.9017\n",
            "Epoch 18/30\n",
            "8/8 [==============================] - 0s 28ms/step - loss: 0.2870 - accuracy: 0.9986 - val_loss: 0.4427 - val_accuracy: 0.9185\n",
            "Epoch 19/30\n",
            "8/8 [==============================] - 0s 27ms/step - loss: 0.2398 - accuracy: 0.9986 - val_loss: 0.3997 - val_accuracy: 0.9298\n",
            "Epoch 20/30\n",
            "8/8 [==============================] - 0s 29ms/step - loss: 0.2007 - accuracy: 0.9993 - val_loss: 0.3631 - val_accuracy: 0.9354\n",
            "Epoch 21/30\n",
            "8/8 [==============================] - 0s 44ms/step - loss: 0.1683 - accuracy: 0.9993 - val_loss: 0.3316 - val_accuracy: 0.9382\n",
            "Epoch 22/30\n",
            "8/8 [==============================] - 0s 44ms/step - loss: 0.1419 - accuracy: 0.9993 - val_loss: 0.3051 - val_accuracy: 0.9494\n",
            "Epoch 23/30\n",
            "8/8 [==============================] - 0s 45ms/step - loss: 0.1202 - accuracy: 0.9993 - val_loss: 0.2821 - val_accuracy: 0.9522\n",
            "Epoch 24/30\n",
            "8/8 [==============================] - 0s 43ms/step - loss: 0.1024 - accuracy: 0.9993 - val_loss: 0.2621 - val_accuracy: 0.9579\n",
            "Epoch 25/30\n",
            "8/8 [==============================] - 0s 53ms/step - loss: 0.0878 - accuracy: 1.0000 - val_loss: 0.2451 - val_accuracy: 0.9607\n",
            "Epoch 26/30\n",
            "8/8 [==============================] - 0s 47ms/step - loss: 0.0757 - accuracy: 1.0000 - val_loss: 0.2311 - val_accuracy: 0.9663\n",
            "Epoch 27/30\n",
            "8/8 [==============================] - 0s 44ms/step - loss: 0.0659 - accuracy: 1.0000 - val_loss: 0.2192 - val_accuracy: 0.9691\n",
            "Epoch 28/30\n",
            "8/8 [==============================] - 0s 51ms/step - loss: 0.0579 - accuracy: 1.0000 - val_loss: 0.2091 - val_accuracy: 0.9691\n",
            "Epoch 29/30\n",
            "8/8 [==============================] - 0s 50ms/step - loss: 0.0512 - accuracy: 1.0000 - val_loss: 0.1999 - val_accuracy: 0.9691\n",
            "Epoch 30/30\n",
            "8/8 [==============================] - 0s 50ms/step - loss: 0.0456 - accuracy: 1.0000 - val_loss: 0.1923 - val_accuracy: 0.9663\n"
          ]
        }
      ]
    },
    {
      "cell_type": "code",
      "source": [
        "import matplotlib.pyplot as plt\n",
        "\n",
        "train_acc = history.history['accuracy']\n",
        "val_acc = history.history['val_accuracy']\n",
        "epochs = range(1, len(train_acc) + 1)\n",
        "\n",
        "plt.plot(epochs, train_acc, 'bo', label='Training accuracy')\n",
        "plt.plot(epochs, val_acc, 'r', label='Validation accuracy')\n",
        "\n",
        "plt.title('Training and Validation accuracy')\n",
        "plt.xlabel('Epochs')\n",
        "plt.ylabel('Accuracy')\n",
        "plt.legend()\n",
        "plt.show()"
      ],
      "metadata": {
        "colab": {
          "base_uri": "https://localhost:8080/",
          "height": 472
        },
        "id": "azGnLq9Hh7Jm",
        "outputId": "b698e819-ea1c-430b-973f-4873296393d5"
      },
      "execution_count": 124,
      "outputs": [
        {
          "output_type": "display_data",
          "data": {
            "text/plain": [
              "<Figure size 640x480 with 1 Axes>"
            ],
            "image/png": "[encoded data removed]"
          },
          "metadata": {}
        }
      ]
    },
    {
      "cell_type": "code",
      "source": [
        "import matplotlib.pyplot as plt\n",
        "\n",
        "train_loss = history.history['loss']\n",
        "val_loss = history.history['val_loss']\n",
        "epochs = range(1, len(train_loss) + 1)\n",
        "\n",
        "plt.plot(epochs, train_loss, 'bo', label='Training loss')\n",
        "plt.plot(epochs, val_loss, 'r', label='Validation loss')\n",
        "\n",
        "plt.title('Training and Validation Loss')\n",
        "plt.xlabel('Epochs')\n",
        "plt.ylabel('Loss')\n",
        "plt.legend()\n",
        "plt.show()\n"
      ],
      "metadata": {
        "colab": {
          "base_uri": "https://localhost:8080/",
          "height": 472
        },
        "id": "bM9V3xV_jBHK",
        "outputId": "b85e1fb1-2ba1-427f-eb02-2b67aff7ad04"
      },
      "execution_count": 125,
      "outputs": [
        {
          "output_type": "display_data",
          "data": {
            "text/plain": [
              "<Figure size 640x480 with 1 Axes>"
            ],
            "image/png": "[encoded data removed]"
          },
          "metadata": {}
        }
      ]
    },
    {
      "cell_type": "code",
      "source": [
        "from tensorflow.keras.models import Sequential\n",
        "\n",
        "\n",
        "model = Sequential([\n",
        "    Dense(16, activation='relu'),\n",
        "    Dense(16, activation='relu'),\n",
        "    Dense(num_classes, activation='softmax')\n",
        "])\n",
        "\n",
        "model.compile(optimizer='adam', loss='categorical_crossentropy', metrics=['accuracy'])\n",
        "\n",
        "history = model.fit(x_train_ready, y_train_ready,\n",
        "                    epochs=30, batch_size=200,\n",
        "                    validation_data=(x_test_ready, y_test_ready))"
      ],
      "metadata": {
        "colab": {
          "base_uri": "https://localhost:8080/"
        },
        "id": "FQzgc73mO76-",
        "outputId": "4379d9dd-05d4-470b-b353-3fdd69aec017"
      },
      "execution_count": 127,
      "outputs": [
        {
          "output_type": "stream",
          "name": "stdout",
          "text": [
            "Epoch 1/30\n",
            "8/8 [==============================] - 2s 70ms/step - loss: 1.6027 - accuracy: 0.4185 - val_loss: 1.5856 - val_accuracy: 0.5596\n",
            "Epoch 2/30\n",
            "8/8 [==============================] - 0s 40ms/step - loss: 1.5650 - accuracy: 0.6685 - val_loss: 1.5459 - val_accuracy: 0.6427\n",
            "Epoch 3/30\n",
            "8/8 [==============================] - 0s 40ms/step - loss: 1.5126 - accuracy: 0.7500 - val_loss: 1.4975 - val_accuracy: 0.7124\n",
            "Epoch 4/30\n",
            "8/8 [==============================] - 0s 47ms/step - loss: 1.4479 - accuracy: 0.8378 - val_loss: 1.4405 - val_accuracy: 0.7551\n",
            "Epoch 5/30\n",
            "8/8 [==============================] - 0s 46ms/step - loss: 1.3730 - accuracy: 0.8848 - val_loss: 1.3757 - val_accuracy: 0.7798\n",
            "Epoch 6/30\n",
            "8/8 [==============================] - 0s 42ms/step - loss: 1.2880 - accuracy: 0.9263 - val_loss: 1.3031 - val_accuracy: 0.8202\n",
            "Epoch 7/30\n",
            "8/8 [==============================] - 0s 43ms/step - loss: 1.1935 - accuracy: 0.9473 - val_loss: 1.2233 - val_accuracy: 0.8494\n",
            "Epoch 8/30\n",
            "8/8 [==============================] - 0s 45ms/step - loss: 1.0904 - accuracy: 0.9677 - val_loss: 1.1369 - val_accuracy: 0.8652\n",
            "Epoch 9/30\n",
            "8/8 [==============================] - 0s 44ms/step - loss: 0.9813 - accuracy: 0.9747 - val_loss: 1.0464 - val_accuracy: 0.8697\n",
            "Epoch 10/30\n",
            "8/8 [==============================] - 0s 39ms/step - loss: 0.8694 - accuracy: 0.9789 - val_loss: 0.9525 - val_accuracy: 0.8854\n",
            "Epoch 11/30\n",
            "8/8 [==============================] - 0s 39ms/step - loss: 0.7561 - accuracy: 0.9860 - val_loss: 0.8574 - val_accuracy: 0.9034\n",
            "Epoch 12/30\n",
            "8/8 [==============================] - 0s 38ms/step - loss: 0.6478 - accuracy: 0.9888 - val_loss: 0.7669 - val_accuracy: 0.9191\n",
            "Epoch 13/30\n",
            "8/8 [==============================] - 0s 46ms/step - loss: 0.5493 - accuracy: 0.9923 - val_loss: 0.6822 - val_accuracy: 0.9236\n",
            "Epoch 14/30\n",
            "8/8 [==============================] - 0s 44ms/step - loss: 0.4618 - accuracy: 0.9951 - val_loss: 0.6071 - val_accuracy: 0.9258\n",
            "Epoch 15/30\n",
            "8/8 [==============================] - 0s 59ms/step - loss: 0.3867 - accuracy: 0.9972 - val_loss: 0.5406 - val_accuracy: 0.9326\n",
            "Epoch 16/30\n",
            "8/8 [==============================] - 1s 66ms/step - loss: 0.3224 - accuracy: 0.9986 - val_loss: 0.4823 - val_accuracy: 0.9438\n",
            "Epoch 17/30\n",
            "8/8 [==============================] - 0s 63ms/step - loss: 0.2679 - accuracy: 0.9986 - val_loss: 0.4313 - val_accuracy: 0.9461\n",
            "Epoch 18/30\n",
            "8/8 [==============================] - 0s 62ms/step - loss: 0.2223 - accuracy: 0.9986 - val_loss: 0.3875 - val_accuracy: 0.9483\n",
            "Epoch 19/30\n",
            "8/8 [==============================] - 0s 63ms/step - loss: 0.1847 - accuracy: 0.9986 - val_loss: 0.3503 - val_accuracy: 0.9528\n",
            "Epoch 20/30\n",
            "8/8 [==============================] - 0s 50ms/step - loss: 0.1536 - accuracy: 0.9993 - val_loss: 0.3185 - val_accuracy: 0.9640\n",
            "Epoch 21/30\n",
            "8/8 [==============================] - 0s 46ms/step - loss: 0.1284 - accuracy: 1.0000 - val_loss: 0.2916 - val_accuracy: 0.9685\n",
            "Epoch 22/30\n",
            "8/8 [==============================] - 0s 48ms/step - loss: 0.1078 - accuracy: 1.0000 - val_loss: 0.2685 - val_accuracy: 0.9708\n",
            "Epoch 23/30\n",
            "8/8 [==============================] - 0s 50ms/step - loss: 0.0913 - accuracy: 1.0000 - val_loss: 0.2485 - val_accuracy: 0.9730\n",
            "Epoch 24/30\n",
            "8/8 [==============================] - 0s 49ms/step - loss: 0.0777 - accuracy: 1.0000 - val_loss: 0.2321 - val_accuracy: 0.9730\n",
            "Epoch 25/30\n",
            "8/8 [==============================] - 0s 38ms/step - loss: 0.0666 - accuracy: 1.0000 - val_loss: 0.2182 - val_accuracy: 0.9730\n",
            "Epoch 26/30\n",
            "8/8 [==============================] - 0s 40ms/step - loss: 0.0578 - accuracy: 1.0000 - val_loss: 0.2061 - val_accuracy: 0.9730\n",
            "Epoch 27/30\n",
            "8/8 [==============================] - 0s 48ms/step - loss: 0.0506 - accuracy: 1.0000 - val_loss: 0.1960 - val_accuracy: 0.9730\n",
            "Epoch 28/30\n",
            "8/8 [==============================] - 0s 36ms/step - loss: 0.0447 - accuracy: 1.0000 - val_loss: 0.1872 - val_accuracy: 0.9708\n",
            "Epoch 29/30\n",
            "8/8 [==============================] - 0s 36ms/step - loss: 0.0396 - accuracy: 1.0000 - val_loss: 0.1797 - val_accuracy: 0.9708\n",
            "Epoch 30/30\n",
            "8/8 [==============================] - 0s 29ms/step - loss: 0.0354 - accuracy: 1.0000 - val_loss: 0.1730 - val_accuracy: 0.9730\n"
          ]
        }
      ]
    },
    {
      "cell_type": "code",
      "source": [
        "from sklearn.metrics import classification_report\n",
        "import numpy as np\n",
        "\n",
        "# Generuję predykcję na testowym i przekształcam przewidywania\n",
        "#z zakodowanego formatu one-hot na etykiety\n",
        "y_predition = model.predict(x_test_ready)\n",
        "y_pred_labels = np.argmax(y_predition, axis=1)\n",
        "\n",
        "# Generuję classification raport\n",
        "report = classification_report(y_test_labels, y_pred_labels, target_names=label_encoder.classes_)\n",
        "print(report)"
      ],
      "metadata": {
        "colab": {
          "base_uri": "https://localhost:8080/"
        },
        "id": "cwPZQfVOTBZt",
        "outputId": "6915ae44-f3fe-4766-db1a-325b63b3b134"
      },
      "execution_count": 131,
      "outputs": [
        {
          "output_type": "stream",
          "name": "stdout",
          "text": [
            "14/14 [==============================] - 0s 2ms/step\n",
            "               precision    recall  f1-score   support\n",
            "\n",
            "     business       0.96      0.95      0.96       101\n",
            "entertainment       1.00      0.95      0.97        81\n",
            "     politics       0.94      0.98      0.96        83\n",
            "        sport       0.99      1.00      0.99        98\n",
            "         tech       0.98      0.99      0.98        82\n",
            "\n",
            "     accuracy                           0.97       445\n",
            "    macro avg       0.97      0.97      0.97       445\n",
            " weighted avg       0.97      0.97      0.97       445\n",
            "\n"
          ]
        }
      ]
    },
    {
      "cell_type": "markdown",
      "source": [
        "## Dokonuję wyboru reugularyzacji\n",
        "Porównałam drop out (dropout rate 0.2, 0.5) oraz L2 (0.002, 0.001 )"
      ],
      "metadata": {
        "id": "MO58UFiBAya0"
      }
    },
    {
      "cell_type": "markdown",
      "source": [
        "*!!!! Podczas  wszystkich eksperymentów jeśli wynik val_accuracy był wyższy niż w modelu biasowym także sprawdzałam wyniki tego modelu na danych testowych, lecz nie zmieniałam nazwy validation data tylko zmieniałałam dane na testowe np.validation_data=(x_test_ready, y_test_ready)!!!!!*"
      ],
      "metadata": {
        "id": "Kn4mdW7HMCyw"
      }
    },
    {
      "cell_type": "markdown",
      "source": [
        "DROP OUT\n",
        "*dropout rate = 0.2*"
      ],
      "metadata": {
        "id": "u9Sy-gPNZzhN"
      }
    },
    {
      "cell_type": "code",
      "source": [
        "from tensorflow.keras.models import Sequential\n",
        "from tensorflow.keras.layers import Dense, Dropout\n",
        "model = Sequential([\n",
        "  Dense(16, activation='relu'),\n",
        "  Dropout(0.2),\n",
        "  Dense(16, activation='relu'),\n",
        "  Dropout(0.2),\n",
        "  Dense(num_classes, activation='softmax')\n",
        "])\n",
        "\n",
        "\n",
        "model.compile(optimizer='adam', loss='categorical_crossentropy', metrics=['accuracy'])\n",
        "\n",
        "history = model.fit(x_train_ready, y_train_ready,\n",
        "epochs=30, batch_size=128,\n",
        "validation_data=(x_val_ready, y_val_ready))"
      ],
      "metadata": {
        "colab": {
          "base_uri": "https://localhost:8080/"
        },
        "id": "e7SCnDqCeKV1",
        "outputId": "99a09797-c8d7-44ea-8f5c-e4a065294b61"
      },
      "execution_count": 133,
      "outputs": [
        {
          "output_type": "stream",
          "name": "stdout",
          "text": [
            "Epoch 1/30\n",
            "12/12 [==============================] - 3s 99ms/step - loss: 1.5966 - accuracy: 0.3673 - val_loss: 1.5675 - val_accuracy: 0.5056\n",
            "Epoch 2/30\n",
            "12/12 [==============================] - 0s 21ms/step - loss: 1.5365 - accuracy: 0.5091 - val_loss: 1.4986 - val_accuracy: 0.5281\n",
            "Epoch 3/30\n",
            "12/12 [==============================] - 0s 21ms/step - loss: 1.4507 - accuracy: 0.5506 - val_loss: 1.4124 - val_accuracy: 0.6152\n",
            "Epoch 4/30\n",
            "12/12 [==============================] - 0s 22ms/step - loss: 1.3533 - accuracy: 0.6187 - val_loss: 1.3113 - val_accuracy: 0.6826\n",
            "Epoch 5/30\n",
            "12/12 [==============================] - 0s 21ms/step - loss: 1.2324 - accuracy: 0.6784 - val_loss: 1.1981 - val_accuracy: 0.6994\n",
            "Epoch 6/30\n",
            "12/12 [==============================] - 0s 21ms/step - loss: 1.1098 - accuracy: 0.7205 - val_loss: 1.0789 - val_accuracy: 0.7388\n",
            "Epoch 7/30\n",
            "12/12 [==============================] - 0s 21ms/step - loss: 0.9978 - accuracy: 0.7458 - val_loss: 0.9639 - val_accuracy: 0.7612\n",
            "Epoch 8/30\n",
            "12/12 [==============================] - 0s 22ms/step - loss: 0.8863 - accuracy: 0.7591 - val_loss: 0.8592 - val_accuracy: 0.7753\n",
            "Epoch 9/30\n",
            "12/12 [==============================] - 0s 22ms/step - loss: 0.7774 - accuracy: 0.7732 - val_loss: 0.7630 - val_accuracy: 0.7809\n",
            "Epoch 10/30\n",
            "12/12 [==============================] - 0s 25ms/step - loss: 0.6875 - accuracy: 0.7872 - val_loss: 0.6772 - val_accuracy: 0.7865\n",
            "Epoch 11/30\n",
            "12/12 [==============================] - 0s 21ms/step - loss: 0.6133 - accuracy: 0.8048 - val_loss: 0.6028 - val_accuracy: 0.7893\n",
            "Epoch 12/30\n",
            "12/12 [==============================] - 0s 26ms/step - loss: 0.5412 - accuracy: 0.8237 - val_loss: 0.5393 - val_accuracy: 0.8230\n",
            "Epoch 13/30\n",
            "12/12 [==============================] - 0s 20ms/step - loss: 0.4821 - accuracy: 0.8560 - val_loss: 0.4809 - val_accuracy: 0.9017\n",
            "Epoch 14/30\n",
            "12/12 [==============================] - 0s 21ms/step - loss: 0.4306 - accuracy: 0.8848 - val_loss: 0.4285 - val_accuracy: 0.9410\n",
            "Epoch 15/30\n",
            "12/12 [==============================] - 0s 21ms/step - loss: 0.3866 - accuracy: 0.9136 - val_loss: 0.3849 - val_accuracy: 0.9579\n",
            "Epoch 16/30\n",
            "12/12 [==============================] - 0s 23ms/step - loss: 0.3353 - accuracy: 0.9354 - val_loss: 0.3443 - val_accuracy: 0.9607\n",
            "Epoch 17/30\n",
            "12/12 [==============================] - 0s 21ms/step - loss: 0.3356 - accuracy: 0.9305 - val_loss: 0.3079 - val_accuracy: 0.9635\n",
            "Epoch 18/30\n",
            "12/12 [==============================] - 0s 21ms/step - loss: 0.2825 - accuracy: 0.9487 - val_loss: 0.2764 - val_accuracy: 0.9691\n",
            "Epoch 19/30\n",
            "12/12 [==============================] - 0s 22ms/step - loss: 0.2495 - accuracy: 0.9635 - val_loss: 0.2500 - val_accuracy: 0.9719\n",
            "Epoch 20/30\n",
            "12/12 [==============================] - 0s 22ms/step - loss: 0.2354 - accuracy: 0.9537 - val_loss: 0.2264 - val_accuracy: 0.9719\n",
            "Epoch 21/30\n",
            "12/12 [==============================] - 0s 21ms/step - loss: 0.2055 - accuracy: 0.9642 - val_loss: 0.2076 - val_accuracy: 0.9719\n",
            "Epoch 22/30\n",
            "12/12 [==============================] - 0s 21ms/step - loss: 0.2007 - accuracy: 0.9656 - val_loss: 0.1925 - val_accuracy: 0.9691\n",
            "Epoch 23/30\n",
            "12/12 [==============================] - 0s 26ms/step - loss: 0.1872 - accuracy: 0.9642 - val_loss: 0.1805 - val_accuracy: 0.9691\n",
            "Epoch 24/30\n",
            "12/12 [==============================] - 0s 35ms/step - loss: 0.1709 - accuracy: 0.9705 - val_loss: 0.1695 - val_accuracy: 0.9747\n",
            "Epoch 25/30\n",
            "12/12 [==============================] - 1s 46ms/step - loss: 0.1563 - accuracy: 0.9733 - val_loss: 0.1581 - val_accuracy: 0.9719\n",
            "Epoch 26/30\n",
            "12/12 [==============================] - 0s 36ms/step - loss: 0.1405 - accuracy: 0.9789 - val_loss: 0.1489 - val_accuracy: 0.9691\n",
            "Epoch 27/30\n",
            "12/12 [==============================] - 0s 37ms/step - loss: 0.1353 - accuracy: 0.9747 - val_loss: 0.1416 - val_accuracy: 0.9719\n",
            "Epoch 28/30\n",
            "12/12 [==============================] - 0s 33ms/step - loss: 0.1223 - accuracy: 0.9810 - val_loss: 0.1344 - val_accuracy: 0.9719\n",
            "Epoch 29/30\n",
            "12/12 [==============================] - 0s 33ms/step - loss: 0.1261 - accuracy: 0.9782 - val_loss: 0.1295 - val_accuracy: 0.9719\n",
            "Epoch 30/30\n",
            "12/12 [==============================] - 0s 32ms/step - loss: 0.1046 - accuracy: 0.9853 - val_loss: 0.1261 - val_accuracy: 0.9691\n"
          ]
        }
      ]
    },
    {
      "cell_type": "code",
      "source": [
        "from tensorflow.keras.models import Sequential\n",
        "from tensorflow.keras.layers import Dense, Dropout\n",
        "model = Sequential([\n",
        "  Dense(16, activation='relu'),\n",
        "  Dropout(0.2),\n",
        "  Dense(16, activation='relu'),\n",
        "  Dropout(0.2),\n",
        "  Dense(num_classes, activation='softmax')\n",
        "])\n",
        "\n",
        "\n",
        "model.compile(optimizer='adam', loss='categorical_crossentropy', metrics=['accuracy'])\n",
        "\n",
        "history = model.fit(x_train_ready, y_train_ready,\n",
        "epochs=30, batch_size=128,\n",
        "validation_data=(x_test_ready, y_test_ready))"
      ],
      "metadata": {
        "colab": {
          "base_uri": "https://localhost:8080/"
        },
        "id": "0Jq_tFJjJtZB",
        "outputId": "ed420d67-7b69-4596-9bd9-ffe899fb4807"
      },
      "execution_count": 134,
      "outputs": [
        {
          "output_type": "stream",
          "name": "stdout",
          "text": [
            "Epoch 1/30\n",
            "12/12 [==============================] - 2s 81ms/step - loss: 1.6030 - accuracy: 0.3996 - val_loss: 1.5871 - val_accuracy: 0.8022\n",
            "Epoch 2/30\n",
            "12/12 [==============================] - 1s 53ms/step - loss: 1.5677 - accuracy: 0.6749 - val_loss: 1.5393 - val_accuracy: 0.9056\n",
            "Epoch 3/30\n",
            "12/12 [==============================] - 0s 38ms/step - loss: 1.5050 - accuracy: 0.7669 - val_loss: 1.4729 - val_accuracy: 0.9326\n",
            "Epoch 4/30\n",
            "12/12 [==============================] - 0s 27ms/step - loss: 1.4307 - accuracy: 0.7704 - val_loss: 1.3908 - val_accuracy: 0.9438\n",
            "Epoch 5/30\n",
            "12/12 [==============================] - 0s 25ms/step - loss: 1.3338 - accuracy: 0.8020 - val_loss: 1.2923 - val_accuracy: 0.9461\n",
            "Epoch 6/30\n",
            "12/12 [==============================] - 0s 26ms/step - loss: 1.2180 - accuracy: 0.8532 - val_loss: 1.1792 - val_accuracy: 0.9461\n",
            "Epoch 7/30\n",
            "12/12 [==============================] - 0s 30ms/step - loss: 1.0909 - accuracy: 0.8694 - val_loss: 1.0541 - val_accuracy: 0.9506\n",
            "Epoch 8/30\n",
            "12/12 [==============================] - 0s 31ms/step - loss: 0.9723 - accuracy: 0.8778 - val_loss: 0.9278 - val_accuracy: 0.9573\n",
            "Epoch 9/30\n",
            "12/12 [==============================] - 0s 32ms/step - loss: 0.8537 - accuracy: 0.8989 - val_loss: 0.8065 - val_accuracy: 0.9618\n",
            "Epoch 10/30\n",
            "12/12 [==============================] - 0s 33ms/step - loss: 0.7287 - accuracy: 0.9185 - val_loss: 0.6959 - val_accuracy: 0.9618\n",
            "Epoch 11/30\n",
            "12/12 [==============================] - 0s 31ms/step - loss: 0.6268 - accuracy: 0.9270 - val_loss: 0.5972 - val_accuracy: 0.9640\n",
            "Epoch 12/30\n",
            "12/12 [==============================] - 0s 32ms/step - loss: 0.5422 - accuracy: 0.9347 - val_loss: 0.5132 - val_accuracy: 0.9663\n",
            "Epoch 13/30\n",
            "12/12 [==============================] - 0s 34ms/step - loss: 0.4789 - accuracy: 0.9263 - val_loss: 0.4435 - val_accuracy: 0.9708\n",
            "Epoch 14/30\n",
            "12/12 [==============================] - 0s 33ms/step - loss: 0.4122 - accuracy: 0.9375 - val_loss: 0.3866 - val_accuracy: 0.9708\n",
            "Epoch 15/30\n",
            "12/12 [==============================] - 0s 30ms/step - loss: 0.3680 - accuracy: 0.9403 - val_loss: 0.3432 - val_accuracy: 0.9708\n",
            "Epoch 16/30\n",
            "12/12 [==============================] - 0s 33ms/step - loss: 0.3472 - accuracy: 0.9389 - val_loss: 0.3047 - val_accuracy: 0.9730\n",
            "Epoch 17/30\n",
            "12/12 [==============================] - 0s 30ms/step - loss: 0.2809 - accuracy: 0.9586 - val_loss: 0.2740 - val_accuracy: 0.9730\n",
            "Epoch 18/30\n",
            "12/12 [==============================] - 0s 24ms/step - loss: 0.2622 - accuracy: 0.9565 - val_loss: 0.2473 - val_accuracy: 0.9708\n",
            "Epoch 19/30\n",
            "12/12 [==============================] - 0s 27ms/step - loss: 0.2415 - accuracy: 0.9572 - val_loss: 0.2247 - val_accuracy: 0.9708\n",
            "Epoch 20/30\n",
            "12/12 [==============================] - 0s 25ms/step - loss: 0.2280 - accuracy: 0.9628 - val_loss: 0.2078 - val_accuracy: 0.9708\n",
            "Epoch 21/30\n",
            "12/12 [==============================] - 0s 36ms/step - loss: 0.2045 - accuracy: 0.9642 - val_loss: 0.1914 - val_accuracy: 0.9708\n",
            "Epoch 22/30\n",
            "12/12 [==============================] - 0s 38ms/step - loss: 0.1774 - accuracy: 0.9684 - val_loss: 0.1801 - val_accuracy: 0.9708\n",
            "Epoch 23/30\n",
            "12/12 [==============================] - 0s 24ms/step - loss: 0.1710 - accuracy: 0.9691 - val_loss: 0.1713 - val_accuracy: 0.9708\n",
            "Epoch 24/30\n",
            "12/12 [==============================] - 0s 23ms/step - loss: 0.1573 - accuracy: 0.9649 - val_loss: 0.1621 - val_accuracy: 0.9685\n",
            "Epoch 25/30\n",
            "12/12 [==============================] - 0s 22ms/step - loss: 0.1586 - accuracy: 0.9698 - val_loss: 0.1535 - val_accuracy: 0.9685\n",
            "Epoch 26/30\n",
            "12/12 [==============================] - 0s 21ms/step - loss: 0.1363 - accuracy: 0.9740 - val_loss: 0.1465 - val_accuracy: 0.9685\n",
            "Epoch 27/30\n",
            "12/12 [==============================] - 0s 31ms/step - loss: 0.1317 - accuracy: 0.9754 - val_loss: 0.1405 - val_accuracy: 0.9685\n",
            "Epoch 28/30\n",
            "12/12 [==============================] - 0s 30ms/step - loss: 0.1381 - accuracy: 0.9677 - val_loss: 0.1378 - val_accuracy: 0.9685\n",
            "Epoch 29/30\n",
            "12/12 [==============================] - 0s 29ms/step - loss: 0.1134 - accuracy: 0.9803 - val_loss: 0.1345 - val_accuracy: 0.9663\n",
            "Epoch 30/30\n",
            "12/12 [==============================] - 0s 27ms/step - loss: 0.1278 - accuracy: 0.9691 - val_loss: 0.1299 - val_accuracy: 0.9663\n"
          ]
        }
      ]
    },
    {
      "cell_type": "markdown",
      "source": [
        "Wyniki: val_accuracy 0.9691, lepsza niż w modelu biasowym"
      ],
      "metadata": {
        "id": "GqpKaC02FMD7"
      }
    },
    {
      "cell_type": "markdown",
      "source": [
        "Zastosowanie regularyzacji - DROP OUT 0.5"
      ],
      "metadata": {
        "id": "91lFBfSFgQpG"
      }
    },
    {
      "cell_type": "code",
      "source": [
        "from tensorflow.keras.models import Sequential\n",
        "from tensorflow.keras.layers import Dense, Dropout\n",
        "model = Sequential([\n",
        "Dense(16, activation='relu'),\n",
        "Dropout(0.5),\n",
        "Dense(16, activation='relu'),\n",
        "Dropout(0.5),\n",
        "Dense(num_classes, activation='softmax')\n",
        "])\n",
        "\n",
        "\n",
        "model.compile(optimizer='adam', loss='categorical_crossentropy', metrics=['accuracy'])\n",
        "\n",
        "history = model.fit(x_train_ready, y_train_ready,\n",
        "epochs=30, batch_size=128,\n",
        "validation_data=(x_val_ready, y_val_ready))"
      ],
      "metadata": {
        "colab": {
          "base_uri": "https://localhost:8080/"
        },
        "id": "UEE_SuJxgPzt",
        "outputId": "cb10ddc1-6bcc-4fab-8c13-92b1abcb2879"
      },
      "execution_count": 136,
      "outputs": [
        {
          "output_type": "stream",
          "name": "stdout",
          "text": [
            "Epoch 1/30\n",
            "12/12 [==============================] - 2s 85ms/step - loss: 1.6021 - accuracy: 0.3076 - val_loss: 1.5818 - val_accuracy: 0.5225\n",
            "Epoch 2/30\n",
            "12/12 [==============================] - 1s 47ms/step - loss: 1.5639 - accuracy: 0.3961 - val_loss: 1.5285 - val_accuracy: 0.5478\n",
            "Epoch 3/30\n",
            "12/12 [==============================] - 1s 47ms/step - loss: 1.5094 - accuracy: 0.4579 - val_loss: 1.4628 - val_accuracy: 0.6489\n",
            "Epoch 4/30\n",
            "12/12 [==============================] - 1s 69ms/step - loss: 1.4427 - accuracy: 0.4712 - val_loss: 1.3893 - val_accuracy: 0.6601\n",
            "Epoch 5/30\n",
            "12/12 [==============================] - 1s 65ms/step - loss: 1.3766 - accuracy: 0.5183 - val_loss: 1.3079 - val_accuracy: 0.7528\n",
            "Epoch 6/30\n",
            "12/12 [==============================] - 1s 70ms/step - loss: 1.2992 - accuracy: 0.5358 - val_loss: 1.2202 - val_accuracy: 0.8146\n",
            "Epoch 7/30\n",
            "12/12 [==============================] - 1s 66ms/step - loss: 1.2417 - accuracy: 0.5309 - val_loss: 1.1360 - val_accuracy: 0.8455\n",
            "Epoch 8/30\n",
            "12/12 [==============================] - 1s 74ms/step - loss: 1.1762 - accuracy: 0.5618 - val_loss: 1.0541 - val_accuracy: 0.8876\n",
            "Epoch 9/30\n",
            "12/12 [==============================] - 1s 72ms/step - loss: 1.1241 - accuracy: 0.5962 - val_loss: 0.9761 - val_accuracy: 0.9213\n",
            "Epoch 10/30\n",
            "12/12 [==============================] - 1s 58ms/step - loss: 1.0665 - accuracy: 0.6103 - val_loss: 0.9044 - val_accuracy: 0.9326\n",
            "Epoch 11/30\n",
            "12/12 [==============================] - 0s 39ms/step - loss: 0.9877 - accuracy: 0.6552 - val_loss: 0.8383 - val_accuracy: 0.9410\n",
            "Epoch 12/30\n",
            "12/12 [==============================] - 0s 37ms/step - loss: 0.9498 - accuracy: 0.6510 - val_loss: 0.7740 - val_accuracy: 0.9551\n",
            "Epoch 13/30\n",
            "12/12 [==============================] - 0s 37ms/step - loss: 0.9199 - accuracy: 0.6713 - val_loss: 0.7144 - val_accuracy: 0.9635\n",
            "Epoch 14/30\n",
            "12/12 [==============================] - 0s 32ms/step - loss: 0.8991 - accuracy: 0.6629 - val_loss: 0.6610 - val_accuracy: 0.9607\n",
            "Epoch 15/30\n",
            "12/12 [==============================] - 0s 29ms/step - loss: 0.8300 - accuracy: 0.7001 - val_loss: 0.6174 - val_accuracy: 0.9635\n",
            "Epoch 16/30\n",
            "12/12 [==============================] - 0s 22ms/step - loss: 0.7909 - accuracy: 0.7282 - val_loss: 0.5700 - val_accuracy: 0.9691\n",
            "Epoch 17/30\n",
            "12/12 [==============================] - 0s 29ms/step - loss: 0.7771 - accuracy: 0.7233 - val_loss: 0.5278 - val_accuracy: 0.9691\n",
            "Epoch 18/30\n",
            "12/12 [==============================] - 0s 29ms/step - loss: 0.7329 - accuracy: 0.7212 - val_loss: 0.4908 - val_accuracy: 0.9691\n",
            "Epoch 19/30\n",
            "12/12 [==============================] - 0s 35ms/step - loss: 0.7010 - accuracy: 0.7479 - val_loss: 0.4581 - val_accuracy: 0.9691\n",
            "Epoch 20/30\n",
            "12/12 [==============================] - 0s 29ms/step - loss: 0.6986 - accuracy: 0.7669 - val_loss: 0.4277 - val_accuracy: 0.9691\n",
            "Epoch 21/30\n",
            "12/12 [==============================] - 0s 33ms/step - loss: 0.6567 - accuracy: 0.7683 - val_loss: 0.4001 - val_accuracy: 0.9691\n",
            "Epoch 22/30\n",
            "12/12 [==============================] - 0s 33ms/step - loss: 0.6655 - accuracy: 0.7528 - val_loss: 0.3756 - val_accuracy: 0.9747\n",
            "Epoch 23/30\n",
            "12/12 [==============================] - 0s 31ms/step - loss: 0.6309 - accuracy: 0.7662 - val_loss: 0.3552 - val_accuracy: 0.9691\n",
            "Epoch 24/30\n",
            "12/12 [==============================] - 0s 30ms/step - loss: 0.6061 - accuracy: 0.7767 - val_loss: 0.3350 - val_accuracy: 0.9691\n",
            "Epoch 25/30\n",
            "12/12 [==============================] - 0s 30ms/step - loss: 0.6175 - accuracy: 0.7718 - val_loss: 0.3147 - val_accuracy: 0.9747\n",
            "Epoch 26/30\n",
            "12/12 [==============================] - 0s 34ms/step - loss: 0.6128 - accuracy: 0.7662 - val_loss: 0.2983 - val_accuracy: 0.9775\n",
            "Epoch 27/30\n",
            "12/12 [==============================] - 0s 29ms/step - loss: 0.5775 - accuracy: 0.7816 - val_loss: 0.2826 - val_accuracy: 0.9775\n",
            "Epoch 28/30\n",
            "12/12 [==============================] - 0s 31ms/step - loss: 0.5526 - accuracy: 0.7879 - val_loss: 0.2687 - val_accuracy: 0.9747\n",
            "Epoch 29/30\n",
            "12/12 [==============================] - 0s 28ms/step - loss: 0.5502 - accuracy: 0.7858 - val_loss: 0.2548 - val_accuracy: 0.9747\n",
            "Epoch 30/30\n",
            "12/12 [==============================] - 0s 33ms/step - loss: 0.5518 - accuracy: 0.7949 - val_loss: 0.2439 - val_accuracy: 0.9747\n"
          ]
        }
      ]
    },
    {
      "cell_type": "code",
      "source": [
        "from tensorflow.keras.models import Sequential\n",
        "from tensorflow.keras.layers import Dense, Dropout\n",
        "model = Sequential([\n",
        "Dense(16, activation='relu'),\n",
        "Dropout(0.5),\n",
        "Dense(16, activation='relu'),\n",
        "Dropout(0.5),\n",
        "Dense(num_classes, activation='softmax')\n",
        "])\n",
        "\n",
        "\n",
        "model.compile(optimizer='adam', loss='categorical_crossentropy', metrics=['accuracy'])\n",
        "\n",
        "history = model.fit(x_train_ready, y_train_ready,\n",
        "epochs=30, batch_size=128,\n",
        "validation_data=(x_test_ready, y_test_ready))"
      ],
      "metadata": {
        "colab": {
          "base_uri": "https://localhost:8080/"
        },
        "id": "wwpVPM7iLL4R",
        "outputId": "fd3a66bd-12d1-4ca6-c457-1e96c1988d1c"
      },
      "execution_count": 137,
      "outputs": [
        {
          "output_type": "stream",
          "name": "stdout",
          "text": [
            "Epoch 1/30\n",
            "12/12 [==============================] - 2s 56ms/step - loss: 1.5996 - accuracy: 0.2823 - val_loss: 1.5761 - val_accuracy: 0.5640\n",
            "Epoch 2/30\n",
            "12/12 [==============================] - 0s 34ms/step - loss: 1.5528 - accuracy: 0.4206 - val_loss: 1.5228 - val_accuracy: 0.6247\n",
            "Epoch 3/30\n",
            "12/12 [==============================] - 0s 31ms/step - loss: 1.4985 - accuracy: 0.4340 - val_loss: 1.4611 - val_accuracy: 0.6539\n",
            "Epoch 4/30\n",
            "12/12 [==============================] - 0s 38ms/step - loss: 1.4364 - accuracy: 0.4712 - val_loss: 1.3942 - val_accuracy: 0.6966\n",
            "Epoch 5/30\n",
            "12/12 [==============================] - 1s 46ms/step - loss: 1.3811 - accuracy: 0.5007 - val_loss: 1.3248 - val_accuracy: 0.7393\n",
            "Epoch 6/30\n",
            "12/12 [==============================] - 0s 33ms/step - loss: 1.3242 - accuracy: 0.4972 - val_loss: 1.2547 - val_accuracy: 0.7798\n",
            "Epoch 7/30\n",
            "12/12 [==============================] - 0s 38ms/step - loss: 1.2506 - accuracy: 0.5463 - val_loss: 1.1823 - val_accuracy: 0.8315\n",
            "Epoch 8/30\n",
            "12/12 [==============================] - 0s 39ms/step - loss: 1.1993 - accuracy: 0.5534 - val_loss: 1.1104 - val_accuracy: 0.8404\n",
            "Epoch 9/30\n",
            "12/12 [==============================] - 1s 48ms/step - loss: 1.1487 - accuracy: 0.5744 - val_loss: 1.0410 - val_accuracy: 0.8629\n",
            "Epoch 10/30\n",
            "12/12 [==============================] - 0s 36ms/step - loss: 1.0955 - accuracy: 0.5801 - val_loss: 0.9753 - val_accuracy: 0.8899\n",
            "Epoch 11/30\n",
            "12/12 [==============================] - 0s 33ms/step - loss: 1.0268 - accuracy: 0.6243 - val_loss: 0.9063 - val_accuracy: 0.9101\n",
            "Epoch 12/30\n",
            "12/12 [==============================] - 1s 46ms/step - loss: 0.9879 - accuracy: 0.6433 - val_loss: 0.8365 - val_accuracy: 0.9169\n",
            "Epoch 13/30\n",
            "12/12 [==============================] - 0s 33ms/step - loss: 0.9487 - accuracy: 0.6468 - val_loss: 0.7718 - val_accuracy: 0.9281\n",
            "Epoch 14/30\n",
            "12/12 [==============================] - 0s 23ms/step - loss: 0.9105 - accuracy: 0.6615 - val_loss: 0.7120 - val_accuracy: 0.9461\n",
            "Epoch 15/30\n",
            "12/12 [==============================] - 0s 24ms/step - loss: 0.8462 - accuracy: 0.6987 - val_loss: 0.6523 - val_accuracy: 0.9461\n",
            "Epoch 16/30\n",
            "12/12 [==============================] - 0s 25ms/step - loss: 0.8010 - accuracy: 0.7121 - val_loss: 0.5974 - val_accuracy: 0.9506\n",
            "Epoch 17/30\n",
            "12/12 [==============================] - 0s 22ms/step - loss: 0.7696 - accuracy: 0.7247 - val_loss: 0.5487 - val_accuracy: 0.9506\n",
            "Epoch 18/30\n",
            "12/12 [==============================] - 0s 23ms/step - loss: 0.7647 - accuracy: 0.7170 - val_loss: 0.5108 - val_accuracy: 0.9528\n",
            "Epoch 19/30\n",
            "12/12 [==============================] - 0s 21ms/step - loss: 0.7223 - accuracy: 0.7395 - val_loss: 0.4746 - val_accuracy: 0.9506\n",
            "Epoch 20/30\n",
            "12/12 [==============================] - 0s 25ms/step - loss: 0.7035 - accuracy: 0.7353 - val_loss: 0.4423 - val_accuracy: 0.9528\n",
            "Epoch 21/30\n",
            "12/12 [==============================] - 0s 25ms/step - loss: 0.6762 - accuracy: 0.7486 - val_loss: 0.4150 - val_accuracy: 0.9551\n",
            "Epoch 22/30\n",
            "12/12 [==============================] - 0s 22ms/step - loss: 0.6406 - accuracy: 0.7711 - val_loss: 0.3917 - val_accuracy: 0.9528\n",
            "Epoch 23/30\n",
            "12/12 [==============================] - 0s 22ms/step - loss: 0.6052 - accuracy: 0.7746 - val_loss: 0.3691 - val_accuracy: 0.9551\n",
            "Epoch 24/30\n",
            "12/12 [==============================] - 0s 25ms/step - loss: 0.6122 - accuracy: 0.7746 - val_loss: 0.3471 - val_accuracy: 0.9551\n",
            "Epoch 25/30\n",
            "12/12 [==============================] - 0s 23ms/step - loss: 0.6148 - accuracy: 0.7718 - val_loss: 0.3291 - val_accuracy: 0.9596\n",
            "Epoch 26/30\n",
            "12/12 [==============================] - 0s 22ms/step - loss: 0.5749 - accuracy: 0.7956 - val_loss: 0.3164 - val_accuracy: 0.9573\n",
            "Epoch 27/30\n",
            "12/12 [==============================] - 0s 26ms/step - loss: 0.5460 - accuracy: 0.8083 - val_loss: 0.3036 - val_accuracy: 0.9573\n",
            "Epoch 28/30\n",
            "12/12 [==============================] - 0s 26ms/step - loss: 0.5517 - accuracy: 0.7907 - val_loss: 0.2916 - val_accuracy: 0.9551\n",
            "Epoch 29/30\n",
            "12/12 [==============================] - 0s 23ms/step - loss: 0.5218 - accuracy: 0.8125 - val_loss: 0.2768 - val_accuracy: 0.9596\n",
            "Epoch 30/30\n",
            "12/12 [==============================] - 0s 20ms/step - loss: 0.5208 - accuracy: 0.8041 - val_loss: 0.2647 - val_accuracy: 0.9596\n"
          ]
        }
      ]
    },
    {
      "cell_type": "markdown",
      "source": [
        "Regularyzacja L2 - Parametr 0.002"
      ],
      "metadata": {
        "id": "g4v3CIzkrmN8"
      }
    },
    {
      "cell_type": "code",
      "source": [
        "from tensorflow.keras.models import Sequential\n",
        "from tensorflow.keras import regularizers\n",
        "\n",
        "\n",
        "model = Sequential([\n",
        "    Dense(16, kernel_regularizer=regularizers.l2(0.002), activation=\"relu\"),\n",
        "    Dense(16, kernel_regularizer=regularizers.l2(0.002), activation=\"relu\"),\n",
        "    Dense(num_classes, activation='softmax')\n",
        "])\n",
        "\n",
        "model.compile(optimizer='adam', loss='categorical_crossentropy', metrics=['accuracy'])\n",
        "\n",
        "history = model.fit(x_train_ready, y_train_ready,\n",
        "                    epochs=30, batch_size=200,\n",
        "                    validation_data=(x_val_ready, y_val_ready))"
      ],
      "metadata": {
        "colab": {
          "base_uri": "https://localhost:8080/"
        },
        "id": "jCJWEZJZrxLo",
        "outputId": "0d34cd8d-1864-46ee-f9cc-a28186e96c91"
      },
      "execution_count": 139,
      "outputs": [
        {
          "output_type": "stream",
          "name": "stdout",
          "text": [
            "Epoch 1/30\n",
            "8/8 [==============================] - 3s 112ms/step - loss: 1.6756 - accuracy: 0.4284 - val_loss: 1.6307 - val_accuracy: 0.5843\n",
            "Epoch 2/30\n",
            "8/8 [==============================] - 1s 64ms/step - loss: 1.6059 - accuracy: 0.7247 - val_loss: 1.5826 - val_accuracy: 0.6770\n",
            "Epoch 3/30\n",
            "8/8 [==============================] - 0s 60ms/step - loss: 1.5560 - accuracy: 0.7739 - val_loss: 1.5431 - val_accuracy: 0.7135\n",
            "Epoch 4/30\n",
            "8/8 [==============================] - 0s 60ms/step - loss: 1.5089 - accuracy: 0.8230 - val_loss: 1.5029 - val_accuracy: 0.7303\n",
            "Epoch 5/30\n",
            "8/8 [==============================] - 0s 40ms/step - loss: 1.4585 - accuracy: 0.8441 - val_loss: 1.4587 - val_accuracy: 0.7921\n",
            "Epoch 6/30\n",
            "8/8 [==============================] - 0s 30ms/step - loss: 1.4047 - accuracy: 0.8729 - val_loss: 1.4116 - val_accuracy: 0.8146\n",
            "Epoch 7/30\n",
            "8/8 [==============================] - 0s 28ms/step - loss: 1.3481 - accuracy: 0.9066 - val_loss: 1.3622 - val_accuracy: 0.8483\n",
            "Epoch 8/30\n",
            "8/8 [==============================] - 0s 30ms/step - loss: 1.2891 - accuracy: 0.9319 - val_loss: 1.3098 - val_accuracy: 0.8596\n",
            "Epoch 9/30\n",
            "8/8 [==============================] - 0s 33ms/step - loss: 1.2281 - accuracy: 0.9501 - val_loss: 1.2564 - val_accuracy: 0.8708\n",
            "Epoch 10/30\n",
            "8/8 [==============================] - 0s 29ms/step - loss: 1.1653 - accuracy: 0.9551 - val_loss: 1.2017 - val_accuracy: 0.8904\n",
            "Epoch 11/30\n",
            "8/8 [==============================] - 0s 29ms/step - loss: 1.1014 - accuracy: 0.9740 - val_loss: 1.1453 - val_accuracy: 0.9073\n",
            "Epoch 12/30\n",
            "8/8 [==============================] - 0s 36ms/step - loss: 1.0380 - accuracy: 0.9824 - val_loss: 1.0905 - val_accuracy: 0.9157\n",
            "Epoch 13/30\n",
            "8/8 [==============================] - 0s 30ms/step - loss: 0.9763 - accuracy: 0.9867 - val_loss: 1.0366 - val_accuracy: 0.9270\n",
            "Epoch 14/30\n",
            "8/8 [==============================] - 0s 31ms/step - loss: 0.9174 - accuracy: 0.9916 - val_loss: 0.9855 - val_accuracy: 0.9410\n",
            "Epoch 15/30\n",
            "8/8 [==============================] - 0s 39ms/step - loss: 0.8630 - accuracy: 0.9951 - val_loss: 0.9376 - val_accuracy: 0.9494\n",
            "Epoch 16/30\n",
            "8/8 [==============================] - 0s 43ms/step - loss: 0.8123 - accuracy: 0.9965 - val_loss: 0.8933 - val_accuracy: 0.9522\n",
            "Epoch 17/30\n",
            "8/8 [==============================] - 0s 39ms/step - loss: 0.7664 - accuracy: 0.9965 - val_loss: 0.8525 - val_accuracy: 0.9579\n",
            "Epoch 18/30\n",
            "8/8 [==============================] - 0s 36ms/step - loss: 0.7247 - accuracy: 0.9965 - val_loss: 0.8154 - val_accuracy: 0.9635\n",
            "Epoch 19/30\n",
            "8/8 [==============================] - 0s 31ms/step - loss: 0.6881 - accuracy: 0.9972 - val_loss: 0.7815 - val_accuracy: 0.9635\n",
            "Epoch 20/30\n",
            "8/8 [==============================] - 0s 29ms/step - loss: 0.6549 - accuracy: 0.9979 - val_loss: 0.7503 - val_accuracy: 0.9607\n",
            "Epoch 21/30\n",
            "8/8 [==============================] - 0s 32ms/step - loss: 0.6253 - accuracy: 0.9979 - val_loss: 0.7221 - val_accuracy: 0.9607\n",
            "Epoch 22/30\n",
            "8/8 [==============================] - 0s 37ms/step - loss: 0.5984 - accuracy: 0.9979 - val_loss: 0.6972 - val_accuracy: 0.9663\n",
            "Epoch 23/30\n",
            "8/8 [==============================] - 0s 44ms/step - loss: 0.5746 - accuracy: 0.9986 - val_loss: 0.6753 - val_accuracy: 0.9663\n",
            "Epoch 24/30\n",
            "8/8 [==============================] - 0s 46ms/step - loss: 0.5530 - accuracy: 0.9986 - val_loss: 0.6548 - val_accuracy: 0.9691\n",
            "Epoch 25/30\n",
            "8/8 [==============================] - 0s 31ms/step - loss: 0.5336 - accuracy: 0.9986 - val_loss: 0.6362 - val_accuracy: 0.9691\n",
            "Epoch 26/30\n",
            "8/8 [==============================] - 0s 30ms/step - loss: 0.5161 - accuracy: 0.9993 - val_loss: 0.6205 - val_accuracy: 0.9719\n",
            "Epoch 27/30\n",
            "8/8 [==============================] - 0s 29ms/step - loss: 0.5000 - accuracy: 0.9993 - val_loss: 0.6052 - val_accuracy: 0.9691\n",
            "Epoch 28/30\n",
            "8/8 [==============================] - 0s 38ms/step - loss: 0.4855 - accuracy: 0.9993 - val_loss: 0.5918 - val_accuracy: 0.9691\n",
            "Epoch 29/30\n",
            "8/8 [==============================] - 0s 63ms/step - loss: 0.4719 - accuracy: 1.0000 - val_loss: 0.5788 - val_accuracy: 0.9691\n",
            "Epoch 30/30\n",
            "8/8 [==============================] - 1s 65ms/step - loss: 0.4596 - accuracy: 1.0000 - val_loss: 0.5664 - val_accuracy: 0.9747\n"
          ]
        }
      ]
    },
    {
      "cell_type": "code",
      "source": [
        "from tensorflow.keras.models import Sequential\n",
        "from tensorflow.keras import regularizers\n",
        "\n",
        "\n",
        "model = Sequential([\n",
        "    Dense(16, kernel_regularizer=regularizers.l2(0.002), activation=\"relu\"),\n",
        "    Dense(16, kernel_regularizer=regularizers.l2(0.002), activation=\"relu\"),\n",
        "    Dense(num_classes, activation='softmax')\n",
        "])\n",
        "\n",
        "model.compile(optimizer='adam', loss='categorical_crossentropy', metrics=['accuracy'])\n",
        "\n",
        "history = model.fit(x_train_ready, y_train_ready,\n",
        "                    epochs=30, batch_size=200,\n",
        "                    validation_data=(x_test_ready, y_test_ready))"
      ],
      "metadata": {
        "colab": {
          "base_uri": "https://localhost:8080/"
        },
        "id": "tN25GkkSMhCe",
        "outputId": "eb04a0da-c963-4807-cdbc-f337b1aac6d3"
      },
      "execution_count": 140,
      "outputs": [
        {
          "output_type": "stream",
          "name": "stdout",
          "text": [
            "Epoch 1/30\n",
            "8/8 [==============================] - 2s 120ms/step - loss: 1.6748 - accuracy: 0.4242 - val_loss: 1.6266 - val_accuracy: 0.6652\n",
            "Epoch 2/30\n",
            "8/8 [==============================] - 0s 32ms/step - loss: 1.5963 - accuracy: 0.7956 - val_loss: 1.5690 - val_accuracy: 0.7640\n",
            "Epoch 3/30\n",
            "8/8 [==============================] - 0s 36ms/step - loss: 1.5334 - accuracy: 0.8982 - val_loss: 1.5193 - val_accuracy: 0.8337\n",
            "Epoch 4/30\n",
            "8/8 [==============================] - 0s 33ms/step - loss: 1.4731 - accuracy: 0.9452 - val_loss: 1.4679 - val_accuracy: 0.8607\n",
            "Epoch 5/30\n",
            "8/8 [==============================] - 0s 36ms/step - loss: 1.4100 - accuracy: 0.9600 - val_loss: 1.4137 - val_accuracy: 0.8787\n",
            "Epoch 6/30\n",
            "8/8 [==============================] - 0s 37ms/step - loss: 1.3429 - accuracy: 0.9677 - val_loss: 1.3555 - val_accuracy: 0.8989\n",
            "Epoch 7/30\n",
            "8/8 [==============================] - 0s 35ms/step - loss: 1.2724 - accuracy: 0.9740 - val_loss: 1.2941 - val_accuracy: 0.9169\n",
            "Epoch 8/30\n",
            "8/8 [==============================] - 0s 29ms/step - loss: 1.1984 - accuracy: 0.9768 - val_loss: 1.2303 - val_accuracy: 0.9281\n",
            "Epoch 9/30\n",
            "8/8 [==============================] - 0s 28ms/step - loss: 1.1234 - accuracy: 0.9824 - val_loss: 1.1656 - val_accuracy: 0.9281\n",
            "Epoch 10/30\n",
            "8/8 [==============================] - 0s 30ms/step - loss: 1.0481 - accuracy: 0.9860 - val_loss: 1.1004 - val_accuracy: 0.9393\n",
            "Epoch 11/30\n",
            "8/8 [==============================] - 0s 36ms/step - loss: 0.9745 - accuracy: 0.9902 - val_loss: 1.0366 - val_accuracy: 0.9438\n",
            "Epoch 12/30\n",
            "8/8 [==============================] - 0s 37ms/step - loss: 0.9044 - accuracy: 0.9916 - val_loss: 0.9767 - val_accuracy: 0.9483\n",
            "Epoch 13/30\n",
            "8/8 [==============================] - 0s 44ms/step - loss: 0.8404 - accuracy: 0.9937 - val_loss: 0.9209 - val_accuracy: 0.9618\n",
            "Epoch 14/30\n",
            "8/8 [==============================] - 0s 43ms/step - loss: 0.7824 - accuracy: 0.9951 - val_loss: 0.8708 - val_accuracy: 0.9685\n",
            "Epoch 15/30\n",
            "8/8 [==============================] - 0s 42ms/step - loss: 0.7312 - accuracy: 0.9951 - val_loss: 0.8266 - val_accuracy: 0.9730\n",
            "Epoch 16/30\n",
            "8/8 [==============================] - 0s 41ms/step - loss: 0.6856 - accuracy: 0.9965 - val_loss: 0.7877 - val_accuracy: 0.9730\n",
            "Epoch 17/30\n",
            "8/8 [==============================] - 0s 41ms/step - loss: 0.6458 - accuracy: 0.9965 - val_loss: 0.7532 - val_accuracy: 0.9730\n",
            "Epoch 18/30\n",
            "8/8 [==============================] - 0s 42ms/step - loss: 0.6109 - accuracy: 0.9979 - val_loss: 0.7225 - val_accuracy: 0.9708\n",
            "Epoch 19/30\n",
            "8/8 [==============================] - 0s 43ms/step - loss: 0.5807 - accuracy: 0.9979 - val_loss: 0.6942 - val_accuracy: 0.9798\n",
            "Epoch 20/30\n",
            "8/8 [==============================] - 0s 39ms/step - loss: 0.5539 - accuracy: 0.9979 - val_loss: 0.6699 - val_accuracy: 0.9753\n",
            "Epoch 21/30\n",
            "8/8 [==============================] - 0s 41ms/step - loss: 0.5307 - accuracy: 0.9986 - val_loss: 0.6482 - val_accuracy: 0.9753\n",
            "Epoch 22/30\n",
            "8/8 [==============================] - 0s 30ms/step - loss: 0.5097 - accuracy: 0.9993 - val_loss: 0.6281 - val_accuracy: 0.9798\n",
            "Epoch 23/30\n",
            "8/8 [==============================] - 0s 35ms/step - loss: 0.4911 - accuracy: 0.9986 - val_loss: 0.6117 - val_accuracy: 0.9798\n",
            "Epoch 24/30\n",
            "8/8 [==============================] - 0s 30ms/step - loss: 0.4742 - accuracy: 0.9993 - val_loss: 0.5956 - val_accuracy: 0.9775\n",
            "Epoch 25/30\n",
            "8/8 [==============================] - 0s 37ms/step - loss: 0.4587 - accuracy: 0.9993 - val_loss: 0.5803 - val_accuracy: 0.9775\n",
            "Epoch 26/30\n",
            "8/8 [==============================] - 0s 34ms/step - loss: 0.4445 - accuracy: 0.9993 - val_loss: 0.5669 - val_accuracy: 0.9775\n",
            "Epoch 27/30\n",
            "8/8 [==============================] - 0s 33ms/step - loss: 0.4319 - accuracy: 1.0000 - val_loss: 0.5552 - val_accuracy: 0.9775\n",
            "Epoch 28/30\n",
            "8/8 [==============================] - 0s 30ms/step - loss: 0.4201 - accuracy: 1.0000 - val_loss: 0.5435 - val_accuracy: 0.9775\n",
            "Epoch 29/30\n",
            "8/8 [==============================] - 0s 32ms/step - loss: 0.4093 - accuracy: 1.0000 - val_loss: 0.5328 - val_accuracy: 0.9798\n",
            "Epoch 30/30\n",
            "8/8 [==============================] - 0s 36ms/step - loss: 0.3993 - accuracy: 1.0000 - val_loss: 0.5228 - val_accuracy: 0.9798\n"
          ]
        }
      ]
    },
    {
      "cell_type": "markdown",
      "source": [
        "Regularyzacja L2 - parametr 0.001"
      ],
      "metadata": {
        "id": "aWJlMxoGuhpO"
      }
    },
    {
      "cell_type": "code",
      "source": [
        "from tensorflow.keras.models import Sequential\n",
        "from tensorflow.keras import regularizers\n",
        "\n",
        "\n",
        "model = Sequential([\n",
        "    Dense(16, kernel_regularizer=regularizers.l2(0.001), activation=\"relu\"),\n",
        "    Dense(16, kernel_regularizer=regularizers.l2(0.001), activation=\"relu\"),\n",
        "    Dense(num_classes, activation='softmax')\n",
        "])\n",
        "\n",
        "model.compile(optimizer='adam', loss='categorical_crossentropy', metrics=['accuracy'])\n",
        "\n",
        "history = model.fit(x_train_ready, y_train_ready,\n",
        "                    epochs=30, batch_size=128,\n",
        "                    validation_data=(x_val_ready, y_val_ready))"
      ],
      "metadata": {
        "colab": {
          "base_uri": "https://localhost:8080/"
        },
        "id": "kIialdy1uC3D",
        "outputId": "1be77e24-8224-4160-b626-957bcd16aea0"
      },
      "execution_count": 142,
      "outputs": [
        {
          "output_type": "stream",
          "name": "stdout",
          "text": [
            "Epoch 1/30\n",
            "12/12 [==============================] - 3s 76ms/step - loss: 1.6297 - accuracy: 0.4108 - val_loss: 1.5882 - val_accuracy: 0.5478\n",
            "Epoch 2/30\n",
            "12/12 [==============================] - 1s 46ms/step - loss: 1.5548 - accuracy: 0.6454 - val_loss: 1.5201 - val_accuracy: 0.6124\n",
            "Epoch 3/30\n",
            "12/12 [==============================] - 1s 42ms/step - loss: 1.4735 - accuracy: 0.7535 - val_loss: 1.4452 - val_accuracy: 0.7163\n",
            "Epoch 4/30\n",
            "12/12 [==============================] - 0s 36ms/step - loss: 1.3831 - accuracy: 0.8034 - val_loss: 1.3625 - val_accuracy: 0.7472\n",
            "Epoch 5/30\n",
            "12/12 [==============================] - 0s 31ms/step - loss: 1.2833 - accuracy: 0.8736 - val_loss: 1.2719 - val_accuracy: 0.8090\n",
            "Epoch 6/30\n",
            "12/12 [==============================] - 0s 29ms/step - loss: 1.1765 - accuracy: 0.9122 - val_loss: 1.1776 - val_accuracy: 0.8567\n",
            "Epoch 7/30\n",
            "12/12 [==============================] - 0s 29ms/step - loss: 1.0674 - accuracy: 0.9473 - val_loss: 1.0840 - val_accuracy: 0.8820\n",
            "Epoch 8/30\n",
            "12/12 [==============================] - 0s 32ms/step - loss: 0.9618 - accuracy: 0.9712 - val_loss: 0.9943 - val_accuracy: 0.9017\n",
            "Epoch 9/30\n",
            "12/12 [==============================] - 0s 29ms/step - loss: 0.8628 - accuracy: 0.9789 - val_loss: 0.9103 - val_accuracy: 0.9242\n",
            "Epoch 10/30\n",
            "12/12 [==============================] - 0s 30ms/step - loss: 0.7741 - accuracy: 0.9916 - val_loss: 0.8372 - val_accuracy: 0.9382\n",
            "Epoch 11/30\n",
            "12/12 [==============================] - 0s 27ms/step - loss: 0.6979 - accuracy: 0.9944 - val_loss: 0.7731 - val_accuracy: 0.9494\n",
            "Epoch 12/30\n",
            "12/12 [==============================] - 0s 30ms/step - loss: 0.6318 - accuracy: 0.9965 - val_loss: 0.7163 - val_accuracy: 0.9579\n",
            "Epoch 13/30\n",
            "12/12 [==============================] - 0s 33ms/step - loss: 0.5766 - accuracy: 0.9979 - val_loss: 0.6689 - val_accuracy: 0.9579\n",
            "Epoch 14/30\n",
            "12/12 [==============================] - 0s 29ms/step - loss: 0.5303 - accuracy: 0.9979 - val_loss: 0.6293 - val_accuracy: 0.9579\n",
            "Epoch 15/30\n",
            "12/12 [==============================] - 0s 31ms/step - loss: 0.4920 - accuracy: 0.9986 - val_loss: 0.5946 - val_accuracy: 0.9607\n",
            "Epoch 16/30\n",
            "12/12 [==============================] - 0s 23ms/step - loss: 0.4591 - accuracy: 0.9993 - val_loss: 0.5644 - val_accuracy: 0.9635\n",
            "Epoch 17/30\n",
            "12/12 [==============================] - 0s 25ms/step - loss: 0.4311 - accuracy: 0.9993 - val_loss: 0.5376 - val_accuracy: 0.9635\n",
            "Epoch 18/30\n",
            "12/12 [==============================] - 0s 21ms/step - loss: 0.4067 - accuracy: 1.0000 - val_loss: 0.5146 - val_accuracy: 0.9635\n",
            "Epoch 19/30\n",
            "12/12 [==============================] - 0s 23ms/step - loss: 0.3847 - accuracy: 1.0000 - val_loss: 0.4929 - val_accuracy: 0.9663\n",
            "Epoch 20/30\n",
            "12/12 [==============================] - 0s 31ms/step - loss: 0.3645 - accuracy: 1.0000 - val_loss: 0.4737 - val_accuracy: 0.9691\n",
            "Epoch 21/30\n",
            "12/12 [==============================] - 0s 29ms/step - loss: 0.3465 - accuracy: 1.0000 - val_loss: 0.4559 - val_accuracy: 0.9691\n",
            "Epoch 22/30\n",
            "12/12 [==============================] - 0s 35ms/step - loss: 0.3302 - accuracy: 1.0000 - val_loss: 0.4393 - val_accuracy: 0.9691\n",
            "Epoch 23/30\n",
            "12/12 [==============================] - 1s 47ms/step - loss: 0.3150 - accuracy: 1.0000 - val_loss: 0.4245 - val_accuracy: 0.9663\n",
            "Epoch 24/30\n",
            "12/12 [==============================] - 1s 43ms/step - loss: 0.3014 - accuracy: 1.0000 - val_loss: 0.4103 - val_accuracy: 0.9663\n",
            "Epoch 25/30\n",
            "12/12 [==============================] - 0s 37ms/step - loss: 0.2889 - accuracy: 1.0000 - val_loss: 0.3978 - val_accuracy: 0.9691\n",
            "Epoch 26/30\n",
            "12/12 [==============================] - 0s 37ms/step - loss: 0.2777 - accuracy: 1.0000 - val_loss: 0.3859 - val_accuracy: 0.9691\n",
            "Epoch 27/30\n",
            "12/12 [==============================] - 0s 36ms/step - loss: 0.2677 - accuracy: 1.0000 - val_loss: 0.3749 - val_accuracy: 0.9691\n",
            "Epoch 28/30\n",
            "12/12 [==============================] - 0s 32ms/step - loss: 0.2585 - accuracy: 1.0000 - val_loss: 0.3654 - val_accuracy: 0.9691\n",
            "Epoch 29/30\n",
            "12/12 [==============================] - 1s 45ms/step - loss: 0.2498 - accuracy: 1.0000 - val_loss: 0.3557 - val_accuracy: 0.9691\n",
            "Epoch 30/30\n",
            "12/12 [==============================] - 0s 42ms/step - loss: 0.2418 - accuracy: 1.0000 - val_loss: 0.3479 - val_accuracy: 0.9719\n"
          ]
        }
      ]
    },
    {
      "cell_type": "code",
      "source": [
        "from tensorflow.keras.models import Sequential\n",
        "\n",
        "\n",
        "model = Sequential([\n",
        "    Dense(16, kernel_regularizer=regularizers.l2(0.01), activation=\"relu\"),\n",
        "    Dense(16, kernel_regularizer=regularizers.l2(0.01), activation=\"relu\"),\n",
        "    Dense(num_classes, activation='softmax')\n",
        "])\n",
        "\n",
        "model.compile(optimizer='adam', loss='categorical_crossentropy', metrics=['accuracy'])\n",
        "\n",
        "history = model.fit(x_train_ready, y_train_ready,\n",
        "                    epochs=30, batch_size=200,\n",
        "                    validation_data=(x_test_ready, y_test_ready))"
      ],
      "metadata": {
        "colab": {
          "base_uri": "https://localhost:8080/"
        },
        "id": "pSTf_eYpuzOD",
        "outputId": "0bfb8da2-97c1-410a-f274-f85541e2500f"
      },
      "execution_count": 144,
      "outputs": [
        {
          "output_type": "stream",
          "name": "stdout",
          "text": [
            "Epoch 1/30\n",
            "8/8 [==============================] - 2s 120ms/step - loss: 1.9521 - accuracy: 0.2788 - val_loss: 1.7978 - val_accuracy: 0.4022\n",
            "Epoch 2/30\n",
            "8/8 [==============================] - 0s 54ms/step - loss: 1.7513 - accuracy: 0.4853 - val_loss: 1.7147 - val_accuracy: 0.5056\n",
            "Epoch 3/30\n",
            "8/8 [==============================] - 0s 49ms/step - loss: 1.6940 - accuracy: 0.5829 - val_loss: 1.6887 - val_accuracy: 0.5528\n",
            "Epoch 4/30\n",
            "8/8 [==============================] - 1s 71ms/step - loss: 1.6641 - accuracy: 0.6159 - val_loss: 1.6621 - val_accuracy: 0.5640\n",
            "Epoch 5/30\n",
            "8/8 [==============================] - 1s 70ms/step - loss: 1.6329 - accuracy: 0.6159 - val_loss: 1.6354 - val_accuracy: 0.5685\n",
            "Epoch 6/30\n",
            "8/8 [==============================] - 0s 59ms/step - loss: 1.6040 - accuracy: 0.6166 - val_loss: 1.6105 - val_accuracy: 0.5753\n",
            "Epoch 7/30\n",
            "8/8 [==============================] - 1s 66ms/step - loss: 1.5759 - accuracy: 0.6215 - val_loss: 1.5858 - val_accuracy: 0.5820\n",
            "Epoch 8/30\n",
            "8/8 [==============================] - 1s 69ms/step - loss: 1.5476 - accuracy: 0.6236 - val_loss: 1.5600 - val_accuracy: 0.5910\n",
            "Epoch 9/30\n",
            "8/8 [==============================] - 1s 65ms/step - loss: 1.5181 - accuracy: 0.6208 - val_loss: 1.5344 - val_accuracy: 0.5888\n",
            "Epoch 10/30\n",
            "8/8 [==============================] - 1s 63ms/step - loss: 1.4882 - accuracy: 0.6271 - val_loss: 1.5076 - val_accuracy: 0.6000\n",
            "Epoch 11/30\n",
            "8/8 [==============================] - 1s 66ms/step - loss: 1.4579 - accuracy: 0.6271 - val_loss: 1.4812 - val_accuracy: 0.6000\n",
            "Epoch 12/30\n",
            "8/8 [==============================] - 0s 54ms/step - loss: 1.4274 - accuracy: 0.6341 - val_loss: 1.4542 - val_accuracy: 0.6112\n",
            "Epoch 13/30\n",
            "8/8 [==============================] - 0s 41ms/step - loss: 1.3974 - accuracy: 0.6531 - val_loss: 1.4288 - val_accuracy: 0.6180\n",
            "Epoch 14/30\n",
            "8/8 [==============================] - 0s 42ms/step - loss: 1.3681 - accuracy: 0.6622 - val_loss: 1.4023 - val_accuracy: 0.6449\n",
            "Epoch 15/30\n",
            "8/8 [==============================] - 0s 41ms/step - loss: 1.3388 - accuracy: 0.6959 - val_loss: 1.3758 - val_accuracy: 0.6719\n",
            "Epoch 16/30\n",
            "8/8 [==============================] - 0s 44ms/step - loss: 1.3100 - accuracy: 0.7479 - val_loss: 1.3511 - val_accuracy: 0.7169\n",
            "Epoch 17/30\n",
            "8/8 [==============================] - 0s 40ms/step - loss: 1.2829 - accuracy: 0.7809 - val_loss: 1.3270 - val_accuracy: 0.7461\n",
            "Epoch 18/30\n",
            "8/8 [==============================] - 0s 41ms/step - loss: 1.2560 - accuracy: 0.8188 - val_loss: 1.3032 - val_accuracy: 0.7910\n",
            "Epoch 19/30\n",
            "8/8 [==============================] - 0s 42ms/step - loss: 1.2303 - accuracy: 0.8490 - val_loss: 1.2797 - val_accuracy: 0.8157\n",
            "Epoch 20/30\n",
            "8/8 [==============================] - 0s 39ms/step - loss: 1.2050 - accuracy: 0.8813 - val_loss: 1.2556 - val_accuracy: 0.8382\n",
            "Epoch 21/30\n",
            "8/8 [==============================] - 0s 36ms/step - loss: 1.1798 - accuracy: 0.8996 - val_loss: 1.2331 - val_accuracy: 0.8539\n",
            "Epoch 22/30\n",
            "8/8 [==============================] - 0s 36ms/step - loss: 1.1556 - accuracy: 0.9059 - val_loss: 1.2121 - val_accuracy: 0.8674\n",
            "Epoch 23/30\n",
            "8/8 [==============================] - 0s 33ms/step - loss: 1.1326 - accuracy: 0.9171 - val_loss: 1.1913 - val_accuracy: 0.8809\n",
            "Epoch 24/30\n",
            "8/8 [==============================] - 0s 34ms/step - loss: 1.1097 - accuracy: 0.9396 - val_loss: 1.1715 - val_accuracy: 0.8989\n",
            "Epoch 25/30\n",
            "8/8 [==============================] - 0s 38ms/step - loss: 1.0879 - accuracy: 0.9522 - val_loss: 1.1519 - val_accuracy: 0.9079\n",
            "Epoch 26/30\n",
            "8/8 [==============================] - 0s 43ms/step - loss: 1.0678 - accuracy: 0.9614 - val_loss: 1.1339 - val_accuracy: 0.9191\n",
            "Epoch 27/30\n",
            "8/8 [==============================] - 0s 44ms/step - loss: 1.0469 - accuracy: 0.9726 - val_loss: 1.1163 - val_accuracy: 0.9303\n",
            "Epoch 28/30\n",
            "8/8 [==============================] - 0s 40ms/step - loss: 1.0281 - accuracy: 0.9782 - val_loss: 1.0997 - val_accuracy: 0.9371\n",
            "Epoch 29/30\n",
            "8/8 [==============================] - 0s 43ms/step - loss: 1.0092 - accuracy: 0.9846 - val_loss: 1.0830 - val_accuracy: 0.9416\n",
            "Epoch 30/30\n",
            "8/8 [==============================] - 0s 42ms/step - loss: 0.9913 - accuracy: 0.9881 - val_loss: 1.0684 - val_accuracy: 0.9506\n"
          ]
        }
      ]
    },
    {
      "cell_type": "markdown",
      "source": [
        "Wnioski: Najlepsze val aaccuracy 0.9798 dla zastosowanej Regularyzacji L2 parametr 0.002 - Dlatego też tą wybrałam do modelu i dalszych eksperymentów"
      ],
      "metadata": {
        "id": "jZuN1Zo6w3in"
      }
    },
    {
      "cell_type": "markdown",
      "source": [
        "# Eksperymenty z szerokością oraz głębokością sieci"
      ],
      "metadata": {
        "id": "J1t1oaiGxPKR"
      }
    },
    {
      "cell_type": "markdown",
      "source": [
        "ESKPERYMENTY Z SZEROKOSCIĄ (LICZBA NEURONÓW W WARSTAWCH)\n"
      ],
      "metadata": {
        "id": "MjxMQSZBE1Gl"
      }
    },
    {
      "cell_type": "markdown",
      "source": [
        "Na początku zwiększam ilość neuronów w 1 warstwie z 16 do 32"
      ],
      "metadata": {
        "id": "MpEa0pzlRT6Q"
      }
    },
    {
      "cell_type": "code",
      "source": [
        "from tensorflow.keras.models import Sequential\n",
        "from tensorflow.keras import regularizers\n",
        "\n",
        "\n",
        "model = Sequential([\n",
        "    Dense(32, kernel_regularizer=regularizers.l2(0.002), activation=\"relu\"),\n",
        "    Dense(16, kernel_regularizer=regularizers.l2(0.002), activation=\"relu\"),\n",
        "    Dense(num_classes, activation='softmax')\n",
        "])\n",
        "\n",
        "model.compile(optimizer='adam', loss='categorical_crossentropy', metrics=['accuracy'])\n",
        "\n",
        "history = model.fit(x_train_ready, y_train_ready,\n",
        "                    epochs=30, batch_size=200,\n",
        "                    validation_data=(x_val_ready, y_val_ready))"
      ],
      "metadata": {
        "id": "215uz8bXxGtC",
        "colab": {
          "base_uri": "https://localhost:8080/"
        },
        "outputId": "697f0e66-4ec2-419f-fefb-3b110add8f1b"
      },
      "execution_count": 146,
      "outputs": [
        {
          "output_type": "stream",
          "name": "stdout",
          "text": [
            "Epoch 1/30\n",
            "8/8 [==============================] - 3s 150ms/step - loss: 1.7261 - accuracy: 0.4431 - val_loss: 1.6482 - val_accuracy: 0.6096\n",
            "Epoch 2/30\n",
            "8/8 [==============================] - 1s 69ms/step - loss: 1.6104 - accuracy: 0.6685 - val_loss: 1.5722 - val_accuracy: 0.6573\n",
            "Epoch 3/30\n",
            "8/8 [==============================] - 0s 58ms/step - loss: 1.5370 - accuracy: 0.7100 - val_loss: 1.5166 - val_accuracy: 0.6770\n",
            "Epoch 4/30\n",
            "8/8 [==============================] - 0s 58ms/step - loss: 1.4742 - accuracy: 0.7458 - val_loss: 1.4615 - val_accuracy: 0.7079\n",
            "Epoch 5/30\n",
            "8/8 [==============================] - 0s 36ms/step - loss: 1.4094 - accuracy: 0.8244 - val_loss: 1.4051 - val_accuracy: 0.7640\n",
            "Epoch 6/30\n",
            "8/8 [==============================] - 0s 42ms/step - loss: 1.3448 - accuracy: 0.8729 - val_loss: 1.3475 - val_accuracy: 0.8006\n",
            "Epoch 7/30\n",
            "8/8 [==============================] - 0s 52ms/step - loss: 1.2798 - accuracy: 0.9150 - val_loss: 1.2909 - val_accuracy: 0.8230\n",
            "Epoch 8/30\n",
            "8/8 [==============================] - 0s 46ms/step - loss: 1.2164 - accuracy: 0.9284 - val_loss: 1.2333 - val_accuracy: 0.8539\n",
            "Epoch 9/30\n",
            "8/8 [==============================] - 0s 45ms/step - loss: 1.1521 - accuracy: 0.9459 - val_loss: 1.1753 - val_accuracy: 0.8624\n",
            "Epoch 10/30\n",
            "8/8 [==============================] - 0s 52ms/step - loss: 1.0885 - accuracy: 0.9501 - val_loss: 1.1205 - val_accuracy: 0.8736\n",
            "Epoch 11/30\n",
            "8/8 [==============================] - 0s 46ms/step - loss: 1.0267 - accuracy: 0.9628 - val_loss: 1.0658 - val_accuracy: 0.8904\n",
            "Epoch 12/30\n",
            "8/8 [==============================] - 0s 43ms/step - loss: 0.9663 - accuracy: 0.9733 - val_loss: 1.0130 - val_accuracy: 0.9129\n",
            "Epoch 13/30\n",
            "8/8 [==============================] - 0s 51ms/step - loss: 0.9081 - accuracy: 0.9810 - val_loss: 0.9614 - val_accuracy: 0.9326\n",
            "Epoch 14/30\n",
            "8/8 [==============================] - 0s 43ms/step - loss: 0.8524 - accuracy: 0.9846 - val_loss: 0.9120 - val_accuracy: 0.9438\n",
            "Epoch 15/30\n",
            "8/8 [==============================] - 0s 36ms/step - loss: 0.8004 - accuracy: 0.9916 - val_loss: 0.8661 - val_accuracy: 0.9494\n",
            "Epoch 16/30\n",
            "8/8 [==============================] - 0s 37ms/step - loss: 0.7526 - accuracy: 0.9937 - val_loss: 0.8258 - val_accuracy: 0.9494\n",
            "Epoch 17/30\n",
            "8/8 [==============================] - 0s 33ms/step - loss: 0.7095 - accuracy: 0.9958 - val_loss: 0.7879 - val_accuracy: 0.9579\n",
            "Epoch 18/30\n",
            "8/8 [==============================] - 0s 47ms/step - loss: 0.6711 - accuracy: 0.9979 - val_loss: 0.7536 - val_accuracy: 0.9579\n",
            "Epoch 19/30\n",
            "8/8 [==============================] - 0s 49ms/step - loss: 0.6366 - accuracy: 0.9986 - val_loss: 0.7231 - val_accuracy: 0.9522\n",
            "Epoch 20/30\n",
            "8/8 [==============================] - 0s 45ms/step - loss: 0.6063 - accuracy: 0.9986 - val_loss: 0.6955 - val_accuracy: 0.9522\n",
            "Epoch 21/30\n",
            "8/8 [==============================] - 1s 68ms/step - loss: 0.5799 - accuracy: 0.9986 - val_loss: 0.6713 - val_accuracy: 0.9551\n",
            "Epoch 22/30\n",
            "8/8 [==============================] - 1s 78ms/step - loss: 0.5561 - accuracy: 0.9993 - val_loss: 0.6501 - val_accuracy: 0.9635\n",
            "Epoch 23/30\n",
            "8/8 [==============================] - 0s 60ms/step - loss: 0.5348 - accuracy: 0.9993 - val_loss: 0.6306 - val_accuracy: 0.9691\n",
            "Epoch 24/30\n",
            "8/8 [==============================] - 0s 61ms/step - loss: 0.5157 - accuracy: 0.9986 - val_loss: 0.6129 - val_accuracy: 0.9691\n",
            "Epoch 25/30\n",
            "8/8 [==============================] - 1s 68ms/step - loss: 0.4987 - accuracy: 0.9993 - val_loss: 0.5972 - val_accuracy: 0.9663\n",
            "Epoch 26/30\n",
            "8/8 [==============================] - 0s 59ms/step - loss: 0.4834 - accuracy: 0.9993 - val_loss: 0.5826 - val_accuracy: 0.9747\n",
            "Epoch 27/30\n",
            "8/8 [==============================] - 1s 69ms/step - loss: 0.4695 - accuracy: 1.0000 - val_loss: 0.5700 - val_accuracy: 0.9747\n",
            "Epoch 28/30\n",
            "8/8 [==============================] - 0s 63ms/step - loss: 0.4567 - accuracy: 0.9993 - val_loss: 0.5591 - val_accuracy: 0.9691\n",
            "Epoch 29/30\n",
            "8/8 [==============================] - 0s 59ms/step - loss: 0.4445 - accuracy: 1.0000 - val_loss: 0.5484 - val_accuracy: 0.9719\n",
            "Epoch 30/30\n",
            "8/8 [==============================] - 0s 34ms/step - loss: 0.4335 - accuracy: 1.0000 - val_loss: 0.5387 - val_accuracy: 0.9691\n"
          ]
        }
      ]
    },
    {
      "cell_type": "code",
      "source": [
        "from tensorflow.keras.models import Sequential\n",
        "from tensorflow.keras import regularizers\n",
        "\n",
        "\n",
        "model = Sequential([\n",
        "    Dense(32, kernel_regularizer=regularizers.l2(0.002), activation=\"relu\"),\n",
        "    Dense(16, kernel_regularizer=regularizers.l2(0.002), activation=\"relu\"),\n",
        "    Dense(num_classes, activation='softmax')\n",
        "])\n",
        "\n",
        "model.compile(optimizer='adam', loss='categorical_crossentropy', metrics=['accuracy'])\n",
        "\n",
        "history = model.fit(x_train_ready, y_train_ready,\n",
        "                    epochs=30, batch_size=200,\n",
        "                    validation_data=(x_test_ready, y_test_ready))"
      ],
      "metadata": {
        "colab": {
          "base_uri": "https://localhost:8080/"
        },
        "id": "K37SGmS2RkgJ",
        "outputId": "b4dade7a-d0ac-4416-e4db-1cb66bd239df"
      },
      "execution_count": 147,
      "outputs": [
        {
          "output_type": "stream",
          "name": "stdout",
          "text": [
            "Epoch 1/30\n",
            "8/8 [==============================] - 4s 185ms/step - loss: 1.7228 - accuracy: 0.4649 - val_loss: 1.6429 - val_accuracy: 0.7438\n",
            "Epoch 2/30\n",
            "8/8 [==============================] - 1s 85ms/step - loss: 1.5998 - accuracy: 0.8490 - val_loss: 1.5629 - val_accuracy: 0.8517\n",
            "Epoch 3/30\n",
            "8/8 [==============================] - 1s 80ms/step - loss: 1.5170 - accuracy: 0.9291 - val_loss: 1.5018 - val_accuracy: 0.8787\n",
            "Epoch 4/30\n",
            "8/8 [==============================] - 1s 103ms/step - loss: 1.4416 - accuracy: 0.9726 - val_loss: 1.4392 - val_accuracy: 0.9056\n",
            "Epoch 5/30\n",
            "8/8 [==============================] - 1s 115ms/step - loss: 1.3629 - accuracy: 0.9846 - val_loss: 1.3733 - val_accuracy: 0.9236\n",
            "Epoch 6/30\n",
            "8/8 [==============================] - 0s 44ms/step - loss: 1.2802 - accuracy: 0.9902 - val_loss: 1.3020 - val_accuracy: 0.9416\n",
            "Epoch 7/30\n",
            "8/8 [==============================] - 0s 49ms/step - loss: 1.1941 - accuracy: 0.9909 - val_loss: 1.2274 - val_accuracy: 0.9483\n",
            "Epoch 8/30\n",
            "8/8 [==============================] - 0s 47ms/step - loss: 1.1058 - accuracy: 0.9937 - val_loss: 1.1518 - val_accuracy: 0.9528\n",
            "Epoch 9/30\n",
            "8/8 [==============================] - 0s 46ms/step - loss: 1.0181 - accuracy: 0.9958 - val_loss: 1.0770 - val_accuracy: 0.9528\n",
            "Epoch 10/30\n",
            "8/8 [==============================] - 0s 51ms/step - loss: 0.9344 - accuracy: 0.9958 - val_loss: 1.0052 - val_accuracy: 0.9573\n",
            "Epoch 11/30\n",
            "8/8 [==============================] - 0s 51ms/step - loss: 0.8584 - accuracy: 0.9958 - val_loss: 0.9412 - val_accuracy: 0.9618\n",
            "Epoch 12/30\n",
            "8/8 [==============================] - 0s 46ms/step - loss: 0.7909 - accuracy: 0.9958 - val_loss: 0.8841 - val_accuracy: 0.9618\n",
            "Epoch 13/30\n",
            "8/8 [==============================] - 0s 36ms/step - loss: 0.7329 - accuracy: 0.9958 - val_loss: 0.8345 - val_accuracy: 0.9640\n",
            "Epoch 14/30\n",
            "8/8 [==============================] - 0s 41ms/step - loss: 0.6838 - accuracy: 0.9972 - val_loss: 0.7911 - val_accuracy: 0.9640\n",
            "Epoch 15/30\n",
            "8/8 [==============================] - 0s 36ms/step - loss: 0.6425 - accuracy: 0.9972 - val_loss: 0.7539 - val_accuracy: 0.9618\n",
            "Epoch 16/30\n",
            "8/8 [==============================] - 0s 45ms/step - loss: 0.6071 - accuracy: 0.9972 - val_loss: 0.7214 - val_accuracy: 0.9640\n",
            "Epoch 17/30\n",
            "8/8 [==============================] - 0s 43ms/step - loss: 0.5771 - accuracy: 0.9972 - val_loss: 0.6946 - val_accuracy: 0.9640\n",
            "Epoch 18/30\n",
            "8/8 [==============================] - 0s 37ms/step - loss: 0.5514 - accuracy: 0.9979 - val_loss: 0.6713 - val_accuracy: 0.9663\n",
            "Epoch 19/30\n",
            "8/8 [==============================] - 0s 40ms/step - loss: 0.5284 - accuracy: 0.9979 - val_loss: 0.6511 - val_accuracy: 0.9663\n",
            "Epoch 20/30\n",
            "8/8 [==============================] - 0s 37ms/step - loss: 0.5084 - accuracy: 0.9979 - val_loss: 0.6317 - val_accuracy: 0.9663\n",
            "Epoch 21/30\n",
            "8/8 [==============================] - 0s 60ms/step - loss: 0.4908 - accuracy: 0.9979 - val_loss: 0.6144 - val_accuracy: 0.9685\n",
            "Epoch 22/30\n",
            "8/8 [==============================] - 0s 63ms/step - loss: 0.4750 - accuracy: 0.9986 - val_loss: 0.5997 - val_accuracy: 0.9685\n",
            "Epoch 23/30\n",
            "8/8 [==============================] - 1s 67ms/step - loss: 0.4609 - accuracy: 0.9993 - val_loss: 0.5871 - val_accuracy: 0.9685\n",
            "Epoch 24/30\n",
            "8/8 [==============================] - 1s 77ms/step - loss: 0.4478 - accuracy: 0.9993 - val_loss: 0.5747 - val_accuracy: 0.9685\n",
            "Epoch 25/30\n",
            "8/8 [==============================] - 1s 83ms/step - loss: 0.4365 - accuracy: 1.0000 - val_loss: 0.5638 - val_accuracy: 0.9708\n",
            "Epoch 26/30\n",
            "8/8 [==============================] - 1s 77ms/step - loss: 0.4255 - accuracy: 1.0000 - val_loss: 0.5530 - val_accuracy: 0.9708\n",
            "Epoch 27/30\n",
            "8/8 [==============================] - 1s 85ms/step - loss: 0.4157 - accuracy: 1.0000 - val_loss: 0.5429 - val_accuracy: 0.9730\n",
            "Epoch 28/30\n",
            "8/8 [==============================] - 1s 71ms/step - loss: 0.4069 - accuracy: 1.0000 - val_loss: 0.5339 - val_accuracy: 0.9730\n",
            "Epoch 29/30\n",
            "8/8 [==============================] - 0s 45ms/step - loss: 0.3981 - accuracy: 1.0000 - val_loss: 0.5259 - val_accuracy: 0.9708\n",
            "Epoch 30/30\n",
            "8/8 [==============================] - 0s 40ms/step - loss: 0.3902 - accuracy: 1.0000 - val_loss: 0.5188 - val_accuracy: 0.9663\n"
          ]
        }
      ]
    },
    {
      "cell_type": "markdown",
      "source": [
        "Zwiększam ilość neuronów do 32 w obu warstwach"
      ],
      "metadata": {
        "id": "qMvUL1x7FfVB"
      }
    },
    {
      "cell_type": "code",
      "source": [
        "from tensorflow.keras.models import Sequential\n",
        "from tensorflow.keras import regularizers\n",
        "\n",
        "\n",
        "model = Sequential([\n",
        "    Dense(32, kernel_regularizer=regularizers.l2(0.002), activation=\"relu\"),\n",
        "    Dense(32, kernel_regularizer=regularizers.l2(0.002), activation=\"relu\"),\n",
        "    Dense(num_classes, activation='softmax')\n",
        "])\n",
        "\n",
        "model.compile(optimizer='adam', loss='categorical_crossentropy', metrics=['accuracy'])\n",
        "\n",
        "history = model.fit(x_train_ready, y_train_ready,\n",
        "                    epochs=30, batch_size=200,\n",
        "                    validation_data=(x_val_ready, y_val_ready))"
      ],
      "metadata": {
        "colab": {
          "base_uri": "https://localhost:8080/"
        },
        "id": "9YZ4hP3XFeow",
        "outputId": "f1884aa0-7aa3-43d5-8422-986f9f6ff65d"
      },
      "execution_count": 148,
      "outputs": [
        {
          "output_type": "stream",
          "name": "stdout",
          "text": [
            "Epoch 1/30\n",
            "8/8 [==============================] - 3s 120ms/step - loss: 1.7419 - accuracy: 0.5337 - val_loss: 1.6630 - val_accuracy: 0.7416\n",
            "Epoch 2/30\n",
            "8/8 [==============================] - 1s 77ms/step - loss: 1.6218 - accuracy: 0.8104 - val_loss: 1.5809 - val_accuracy: 0.7725\n",
            "Epoch 3/30\n",
            "8/8 [==============================] - 1s 61ms/step - loss: 1.5376 - accuracy: 0.8406 - val_loss: 1.5134 - val_accuracy: 0.7809\n",
            "Epoch 4/30\n",
            "8/8 [==============================] - 0s 52ms/step - loss: 1.4554 - accuracy: 0.8869 - val_loss: 1.4386 - val_accuracy: 0.8118\n",
            "Epoch 5/30\n",
            "8/8 [==============================] - 0s 46ms/step - loss: 1.3631 - accuracy: 0.9213 - val_loss: 1.3554 - val_accuracy: 0.8343\n",
            "Epoch 6/30\n",
            "8/8 [==============================] - 0s 63ms/step - loss: 1.2620 - accuracy: 0.9368 - val_loss: 1.2647 - val_accuracy: 0.8652\n",
            "Epoch 7/30\n",
            "8/8 [==============================] - 1s 67ms/step - loss: 1.1559 - accuracy: 0.9565 - val_loss: 1.1722 - val_accuracy: 0.8764\n",
            "Epoch 8/30\n",
            "8/8 [==============================] - 0s 61ms/step - loss: 1.0506 - accuracy: 0.9656 - val_loss: 1.0810 - val_accuracy: 0.8989\n",
            "Epoch 9/30\n",
            "8/8 [==============================] - 1s 78ms/step - loss: 0.9492 - accuracy: 0.9768 - val_loss: 0.9942 - val_accuracy: 0.9073\n",
            "Epoch 10/30\n",
            "8/8 [==============================] - 0s 48ms/step - loss: 0.8559 - accuracy: 0.9860 - val_loss: 0.9146 - val_accuracy: 0.9185\n",
            "Epoch 11/30\n",
            "8/8 [==============================] - 0s 44ms/step - loss: 0.7727 - accuracy: 0.9923 - val_loss: 0.8432 - val_accuracy: 0.9438\n",
            "Epoch 12/30\n",
            "8/8 [==============================] - 0s 36ms/step - loss: 0.7012 - accuracy: 0.9937 - val_loss: 0.7814 - val_accuracy: 0.9522\n",
            "Epoch 13/30\n",
            "8/8 [==============================] - 0s 37ms/step - loss: 0.6405 - accuracy: 0.9958 - val_loss: 0.7284 - val_accuracy: 0.9607\n",
            "Epoch 14/30\n",
            "8/8 [==============================] - 0s 44ms/step - loss: 0.5912 - accuracy: 0.9979 - val_loss: 0.6844 - val_accuracy: 0.9635\n",
            "Epoch 15/30\n",
            "8/8 [==============================] - 0s 41ms/step - loss: 0.5499 - accuracy: 0.9979 - val_loss: 0.6472 - val_accuracy: 0.9635\n",
            "Epoch 16/30\n",
            "8/8 [==============================] - 0s 35ms/step - loss: 0.5169 - accuracy: 0.9986 - val_loss: 0.6173 - val_accuracy: 0.9719\n",
            "Epoch 17/30\n",
            "8/8 [==============================] - 0s 37ms/step - loss: 0.4898 - accuracy: 0.9993 - val_loss: 0.5923 - val_accuracy: 0.9691\n",
            "Epoch 18/30\n",
            "8/8 [==============================] - 0s 52ms/step - loss: 0.4664 - accuracy: 0.9993 - val_loss: 0.5707 - val_accuracy: 0.9719\n",
            "Epoch 19/30\n",
            "8/8 [==============================] - 0s 45ms/step - loss: 0.4467 - accuracy: 1.0000 - val_loss: 0.5535 - val_accuracy: 0.9691\n",
            "Epoch 20/30\n",
            "8/8 [==============================] - 0s 45ms/step - loss: 0.4301 - accuracy: 1.0000 - val_loss: 0.5386 - val_accuracy: 0.9719\n",
            "Epoch 21/30\n",
            "8/8 [==============================] - 0s 36ms/step - loss: 0.4157 - accuracy: 1.0000 - val_loss: 0.5251 - val_accuracy: 0.9747\n",
            "Epoch 22/30\n",
            "8/8 [==============================] - 0s 49ms/step - loss: 0.4026 - accuracy: 1.0000 - val_loss: 0.5136 - val_accuracy: 0.9719\n",
            "Epoch 23/30\n",
            "8/8 [==============================] - 1s 71ms/step - loss: 0.3913 - accuracy: 1.0000 - val_loss: 0.5034 - val_accuracy: 0.9691\n",
            "Epoch 24/30\n",
            "8/8 [==============================] - 1s 77ms/step - loss: 0.3809 - accuracy: 1.0000 - val_loss: 0.4924 - val_accuracy: 0.9775\n",
            "Epoch 25/30\n",
            "8/8 [==============================] - 1s 63ms/step - loss: 0.3712 - accuracy: 1.0000 - val_loss: 0.4832 - val_accuracy: 0.9719\n",
            "Epoch 26/30\n",
            "8/8 [==============================] - 1s 67ms/step - loss: 0.3625 - accuracy: 1.0000 - val_loss: 0.4750 - val_accuracy: 0.9719\n",
            "Epoch 27/30\n",
            "8/8 [==============================] - 1s 75ms/step - loss: 0.3546 - accuracy: 1.0000 - val_loss: 0.4664 - val_accuracy: 0.9691\n",
            "Epoch 28/30\n",
            "8/8 [==============================] - 1s 80ms/step - loss: 0.3476 - accuracy: 1.0000 - val_loss: 0.4597 - val_accuracy: 0.9719\n",
            "Epoch 29/30\n",
            "8/8 [==============================] - 1s 78ms/step - loss: 0.3416 - accuracy: 1.0000 - val_loss: 0.4524 - val_accuracy: 0.9719\n",
            "Epoch 30/30\n",
            "8/8 [==============================] - 0s 60ms/step - loss: 0.3354 - accuracy: 1.0000 - val_loss: 0.4464 - val_accuracy: 0.9691\n"
          ]
        }
      ]
    },
    {
      "cell_type": "code",
      "source": [
        "from tensorflow.keras.models import Sequential\n",
        "from tensorflow.keras import regularizers\n",
        "\n",
        "\n",
        "model = Sequential([\n",
        "    Dense(32, kernel_regularizer=regularizers.l2(0.002), activation=\"relu\"),\n",
        "    Dense(32, kernel_regularizer=regularizers.l2(0.002), activation=\"relu\"),\n",
        "    Dense(num_classes, activation='softmax')\n",
        "])\n",
        "\n",
        "model.compile(optimizer='adam', loss='categorical_crossentropy', metrics=['accuracy'])\n",
        "\n",
        "history = model.fit(x_train_ready, y_train_ready,\n",
        "                    epochs=30, batch_size=200,\n",
        "                    validation_data=(x_test_ready, y_test_ready))"
      ],
      "metadata": {
        "colab": {
          "base_uri": "https://localhost:8080/"
        },
        "id": "pJBwdEdPSfII",
        "outputId": "3da3382d-3515-4394-ab23-96c1171794e2"
      },
      "execution_count": 149,
      "outputs": [
        {
          "output_type": "stream",
          "name": "stdout",
          "text": [
            "Epoch 1/30\n",
            "8/8 [==============================] - 2s 90ms/step - loss: 1.7413 - accuracy: 0.5126 - val_loss: 1.6625 - val_accuracy: 0.6966\n",
            "Epoch 2/30\n",
            "8/8 [==============================] - 0s 49ms/step - loss: 1.6208 - accuracy: 0.7837 - val_loss: 1.5834 - val_accuracy: 0.7438\n",
            "Epoch 3/30\n",
            "8/8 [==============================] - 0s 48ms/step - loss: 1.5370 - accuracy: 0.8076 - val_loss: 1.5177 - val_accuracy: 0.7506\n",
            "Epoch 4/30\n",
            "8/8 [==============================] - 0s 55ms/step - loss: 1.4544 - accuracy: 0.8279 - val_loss: 1.4441 - val_accuracy: 0.7910\n",
            "Epoch 5/30\n",
            "8/8 [==============================] - 0s 36ms/step - loss: 1.3598 - accuracy: 0.8624 - val_loss: 1.3604 - val_accuracy: 0.8157\n",
            "Epoch 6/30\n",
            "8/8 [==============================] - 0s 36ms/step - loss: 1.2557 - accuracy: 0.8855 - val_loss: 1.2696 - val_accuracy: 0.8337\n",
            "Epoch 7/30\n",
            "8/8 [==============================] - 0s 36ms/step - loss: 1.1460 - accuracy: 0.9059 - val_loss: 1.1769 - val_accuracy: 0.8584\n",
            "Epoch 8/30\n",
            "8/8 [==============================] - 0s 35ms/step - loss: 1.0385 - accuracy: 0.9333 - val_loss: 1.0847 - val_accuracy: 0.8854\n",
            "Epoch 9/30\n",
            "8/8 [==============================] - 0s 39ms/step - loss: 0.9369 - accuracy: 0.9593 - val_loss: 0.9998 - val_accuracy: 0.9124\n",
            "Epoch 10/30\n",
            "8/8 [==============================] - 0s 35ms/step - loss: 0.8453 - accuracy: 0.9733 - val_loss: 0.9245 - val_accuracy: 0.9371\n",
            "Epoch 11/30\n",
            "8/8 [==============================] - 0s 40ms/step - loss: 0.7665 - accuracy: 0.9874 - val_loss: 0.8586 - val_accuracy: 0.9596\n",
            "Epoch 12/30\n",
            "8/8 [==============================] - 0s 49ms/step - loss: 0.6989 - accuracy: 0.9930 - val_loss: 0.7991 - val_accuracy: 0.9640\n",
            "Epoch 13/30\n",
            "8/8 [==============================] - 0s 47ms/step - loss: 0.6422 - accuracy: 0.9972 - val_loss: 0.7492 - val_accuracy: 0.9730\n",
            "Epoch 14/30\n",
            "8/8 [==============================] - 0s 54ms/step - loss: 0.5947 - accuracy: 0.9986 - val_loss: 0.7075 - val_accuracy: 0.9753\n",
            "Epoch 15/30\n",
            "8/8 [==============================] - 0s 47ms/step - loss: 0.5553 - accuracy: 0.9986 - val_loss: 0.6722 - val_accuracy: 0.9753\n",
            "Epoch 16/30\n",
            "8/8 [==============================] - 0s 53ms/step - loss: 0.5229 - accuracy: 0.9986 - val_loss: 0.6417 - val_accuracy: 0.9775\n",
            "Epoch 17/30\n",
            "8/8 [==============================] - 0s 36ms/step - loss: 0.4959 - accuracy: 0.9986 - val_loss: 0.6168 - val_accuracy: 0.9775\n",
            "Epoch 18/30\n",
            "8/8 [==============================] - 0s 40ms/step - loss: 0.4727 - accuracy: 0.9986 - val_loss: 0.5950 - val_accuracy: 0.9798\n",
            "Epoch 19/30\n",
            "8/8 [==============================] - 0s 37ms/step - loss: 0.4533 - accuracy: 0.9979 - val_loss: 0.5766 - val_accuracy: 0.9775\n",
            "Epoch 20/30\n",
            "8/8 [==============================] - 0s 47ms/step - loss: 0.4364 - accuracy: 1.0000 - val_loss: 0.5608 - val_accuracy: 0.9775\n",
            "Epoch 21/30\n",
            "8/8 [==============================] - 0s 49ms/step - loss: 0.4213 - accuracy: 1.0000 - val_loss: 0.5455 - val_accuracy: 0.9775\n",
            "Epoch 22/30\n",
            "8/8 [==============================] - 1s 77ms/step - loss: 0.4083 - accuracy: 1.0000 - val_loss: 0.5316 - val_accuracy: 0.9730\n",
            "Epoch 23/30\n",
            "8/8 [==============================] - 1s 73ms/step - loss: 0.3964 - accuracy: 1.0000 - val_loss: 0.5212 - val_accuracy: 0.9775\n",
            "Epoch 24/30\n",
            "8/8 [==============================] - 1s 79ms/step - loss: 0.3854 - accuracy: 1.0000 - val_loss: 0.5095 - val_accuracy: 0.9753\n",
            "Epoch 25/30\n",
            "8/8 [==============================] - 1s 79ms/step - loss: 0.3766 - accuracy: 1.0000 - val_loss: 0.4994 - val_accuracy: 0.9730\n",
            "Epoch 26/30\n",
            "8/8 [==============================] - 1s 77ms/step - loss: 0.3678 - accuracy: 1.0000 - val_loss: 0.4923 - val_accuracy: 0.9708\n",
            "Epoch 27/30\n",
            "8/8 [==============================] - 1s 72ms/step - loss: 0.3601 - accuracy: 1.0000 - val_loss: 0.4852 - val_accuracy: 0.9753\n",
            "Epoch 28/30\n",
            "8/8 [==============================] - 1s 66ms/step - loss: 0.3530 - accuracy: 1.0000 - val_loss: 0.4778 - val_accuracy: 0.9753\n",
            "Epoch 29/30\n",
            "8/8 [==============================] - 1s 69ms/step - loss: 0.3461 - accuracy: 1.0000 - val_loss: 0.4701 - val_accuracy: 0.9753\n",
            "Epoch 30/30\n",
            "8/8 [==============================] - 0s 45ms/step - loss: 0.3394 - accuracy: 1.0000 - val_loss: 0.4639 - val_accuracy: 0.9753\n"
          ]
        }
      ]
    },
    {
      "cell_type": "markdown",
      "source": [
        "Zwiększenie liczby neuronów w 1 warstawie do 64"
      ],
      "metadata": {
        "id": "mCJnOzrnGJfD"
      }
    },
    {
      "cell_type": "code",
      "source": [
        "from tensorflow.keras.models import Sequential\n",
        "from tensorflow.keras import regularizers\n",
        "\n",
        "\n",
        "model = Sequential([\n",
        "    Dense(64, kernel_regularizer=regularizers.l2(0.002), activation=\"relu\"),\n",
        "    Dense(32, kernel_regularizer=regularizers.l2(0.002), activation=\"relu\"),\n",
        "    Dense(num_classes, activation='softmax')\n",
        "])\n",
        "\n",
        "model.compile(optimizer='adam', loss='categorical_crossentropy', metrics=['accuracy'])\n",
        "\n",
        "history = model.fit(x_train_ready, y_train_ready,\n",
        "                    epochs=30, batch_size=200,\n",
        "                    validation_data=(x_val_ready, y_val_ready))"
      ],
      "metadata": {
        "colab": {
          "base_uri": "https://localhost:8080/"
        },
        "id": "MQV4PZ7TGEyF",
        "outputId": "c200615a-9b38-4cc0-83ce-d6be2b2405a6"
      },
      "execution_count": 150,
      "outputs": [
        {
          "output_type": "stream",
          "name": "stdout",
          "text": [
            "Epoch 1/30\n",
            "8/8 [==============================] - 3s 163ms/step - loss: 1.8351 - accuracy: 0.5246 - val_loss: 1.6805 - val_accuracy: 0.7303\n",
            "Epoch 2/30\n",
            "8/8 [==============================] - 1s 70ms/step - loss: 1.6066 - accuracy: 0.8153 - val_loss: 1.5345 - val_accuracy: 0.7528\n",
            "Epoch 3/30\n",
            "8/8 [==============================] - 0s 56ms/step - loss: 1.4628 - accuracy: 0.8624 - val_loss: 1.4227 - val_accuracy: 0.8090\n",
            "Epoch 4/30\n",
            "8/8 [==============================] - 0s 54ms/step - loss: 1.3305 - accuracy: 0.9206 - val_loss: 1.3078 - val_accuracy: 0.8287\n",
            "Epoch 5/30\n",
            "8/8 [==============================] - 0s 51ms/step - loss: 1.1959 - accuracy: 0.9558 - val_loss: 1.1928 - val_accuracy: 0.8708\n",
            "Epoch 6/30\n",
            "8/8 [==============================] - 0s 54ms/step - loss: 1.0693 - accuracy: 0.9705 - val_loss: 1.0879 - val_accuracy: 0.9045\n",
            "Epoch 7/30\n",
            "8/8 [==============================] - 0s 59ms/step - loss: 0.9550 - accuracy: 0.9860 - val_loss: 0.9928 - val_accuracy: 0.9242\n",
            "Epoch 8/30\n",
            "8/8 [==============================] - 1s 69ms/step - loss: 0.8559 - accuracy: 0.9902 - val_loss: 0.9105 - val_accuracy: 0.9382\n",
            "Epoch 9/30\n",
            "8/8 [==============================] - 1s 72ms/step - loss: 0.7709 - accuracy: 0.9937 - val_loss: 0.8383 - val_accuracy: 0.9466\n",
            "Epoch 10/30\n",
            "8/8 [==============================] - 1s 113ms/step - loss: 0.7003 - accuracy: 0.9965 - val_loss: 0.7767 - val_accuracy: 0.9635\n",
            "Epoch 11/30\n",
            "8/8 [==============================] - 1s 107ms/step - loss: 0.6416 - accuracy: 0.9986 - val_loss: 0.7272 - val_accuracy: 0.9691\n",
            "Epoch 12/30\n",
            "8/8 [==============================] - 1s 93ms/step - loss: 0.5946 - accuracy: 0.9986 - val_loss: 0.6850 - val_accuracy: 0.9775\n",
            "Epoch 13/30\n",
            "8/8 [==============================] - 1s 116ms/step - loss: 0.5559 - accuracy: 0.9979 - val_loss: 0.6521 - val_accuracy: 0.9747\n",
            "Epoch 14/30\n",
            "8/8 [==============================] - 1s 102ms/step - loss: 0.5246 - accuracy: 0.9979 - val_loss: 0.6235 - val_accuracy: 0.9803\n",
            "Epoch 15/30\n",
            "8/8 [==============================] - 1s 65ms/step - loss: 0.4984 - accuracy: 0.9979 - val_loss: 0.5992 - val_accuracy: 0.9747\n",
            "Epoch 16/30\n",
            "8/8 [==============================] - 0s 53ms/step - loss: 0.4765 - accuracy: 0.9993 - val_loss: 0.5786 - val_accuracy: 0.9747\n",
            "Epoch 17/30\n",
            "8/8 [==============================] - 0s 58ms/step - loss: 0.4570 - accuracy: 1.0000 - val_loss: 0.5612 - val_accuracy: 0.9719\n",
            "Epoch 18/30\n",
            "8/8 [==============================] - 0s 53ms/step - loss: 0.4403 - accuracy: 1.0000 - val_loss: 0.5450 - val_accuracy: 0.9775\n",
            "Epoch 19/30\n",
            "8/8 [==============================] - 1s 68ms/step - loss: 0.4253 - accuracy: 1.0000 - val_loss: 0.5310 - val_accuracy: 0.9747\n",
            "Epoch 20/30\n",
            "8/8 [==============================] - 1s 65ms/step - loss: 0.4120 - accuracy: 1.0000 - val_loss: 0.5189 - val_accuracy: 0.9747\n",
            "Epoch 21/30\n",
            "8/8 [==============================] - 0s 51ms/step - loss: 0.4009 - accuracy: 1.0000 - val_loss: 0.5082 - val_accuracy: 0.9747\n",
            "Epoch 22/30\n",
            "8/8 [==============================] - 0s 55ms/step - loss: 0.3896 - accuracy: 1.0000 - val_loss: 0.4977 - val_accuracy: 0.9747\n",
            "Epoch 23/30\n",
            "8/8 [==============================] - 0s 56ms/step - loss: 0.3800 - accuracy: 1.0000 - val_loss: 0.4883 - val_accuracy: 0.9747\n",
            "Epoch 24/30\n",
            "8/8 [==============================] - 0s 58ms/step - loss: 0.3713 - accuracy: 1.0000 - val_loss: 0.4797 - val_accuracy: 0.9747\n",
            "Epoch 25/30\n",
            "8/8 [==============================] - 0s 56ms/step - loss: 0.3628 - accuracy: 1.0000 - val_loss: 0.4715 - val_accuracy: 0.9747\n",
            "Epoch 26/30\n",
            "8/8 [==============================] - 0s 60ms/step - loss: 0.3548 - accuracy: 1.0000 - val_loss: 0.4639 - val_accuracy: 0.9747\n",
            "Epoch 27/30\n",
            "8/8 [==============================] - 1s 64ms/step - loss: 0.3477 - accuracy: 1.0000 - val_loss: 0.4578 - val_accuracy: 0.9747\n",
            "Epoch 28/30\n",
            "8/8 [==============================] - 1s 72ms/step - loss: 0.3417 - accuracy: 1.0000 - val_loss: 0.4518 - val_accuracy: 0.9747\n",
            "Epoch 29/30\n",
            "8/8 [==============================] - 1s 70ms/step - loss: 0.3355 - accuracy: 1.0000 - val_loss: 0.4445 - val_accuracy: 0.9747\n",
            "Epoch 30/30\n",
            "8/8 [==============================] - 1s 68ms/step - loss: 0.3301 - accuracy: 1.0000 - val_loss: 0.4375 - val_accuracy: 0.9747\n"
          ]
        }
      ]
    },
    {
      "cell_type": "code",
      "source": [
        "from tensorflow.keras.models import Sequential\n",
        "from tensorflow.keras import regularizers\n",
        "\n",
        "\n",
        "model = Sequential([\n",
        "    Dense(64, kernel_regularizer=regularizers.l2(0.002), activation=\"relu\"),\n",
        "    Dense(32, kernel_regularizer=regularizers.l2(0.002), activation=\"relu\"),\n",
        "    Dense(num_classes, activation='softmax')\n",
        "])\n",
        "\n",
        "model.compile(optimizer='adam', loss='categorical_crossentropy', metrics=['accuracy'])\n",
        "\n",
        "history = model.fit(x_train_ready, y_train_ready,\n",
        "                    epochs=30, batch_size=200,\n",
        "                    validation_data=(x_test_ready, y_test_ready))"
      ],
      "metadata": {
        "colab": {
          "base_uri": "https://localhost:8080/"
        },
        "id": "xVxdL3dUTGJJ",
        "outputId": "e81a9d00-26e4-4def-d34f-ac89ac3b86ad"
      },
      "execution_count": 151,
      "outputs": [
        {
          "output_type": "stream",
          "name": "stdout",
          "text": [
            "Epoch 1/30\n",
            "8/8 [==============================] - 2s 126ms/step - loss: 1.8345 - accuracy: 0.4684 - val_loss: 1.6797 - val_accuracy: 0.6989\n",
            "Epoch 2/30\n",
            "8/8 [==============================] - 1s 115ms/step - loss: 1.6030 - accuracy: 0.7963 - val_loss: 1.5321 - val_accuracy: 0.7730\n",
            "Epoch 3/30\n",
            "8/8 [==============================] - 1s 98ms/step - loss: 1.4520 - accuracy: 0.8933 - val_loss: 1.4201 - val_accuracy: 0.8157\n",
            "Epoch 4/30\n",
            "8/8 [==============================] - 1s 115ms/step - loss: 1.3141 - accuracy: 0.9403 - val_loss: 1.3024 - val_accuracy: 0.8539\n",
            "Epoch 5/30\n",
            "8/8 [==============================] - 1s 117ms/step - loss: 1.1717 - accuracy: 0.9600 - val_loss: 1.1836 - val_accuracy: 0.8921\n",
            "Epoch 6/30\n",
            "8/8 [==============================] - 1s 91ms/step - loss: 1.0340 - accuracy: 0.9684 - val_loss: 1.0684 - val_accuracy: 0.9258\n",
            "Epoch 7/30\n",
            "8/8 [==============================] - 1s 67ms/step - loss: 0.9075 - accuracy: 0.9895 - val_loss: 0.9617 - val_accuracy: 0.9461\n",
            "Epoch 8/30\n",
            "8/8 [==============================] - 1s 71ms/step - loss: 0.7965 - accuracy: 0.9951 - val_loss: 0.8665 - val_accuracy: 0.9528\n",
            "Epoch 9/30\n",
            "8/8 [==============================] - 1s 69ms/step - loss: 0.7032 - accuracy: 0.9972 - val_loss: 0.7892 - val_accuracy: 0.9573\n",
            "Epoch 10/30\n",
            "8/8 [==============================] - 1s 67ms/step - loss: 0.6314 - accuracy: 0.9986 - val_loss: 0.7304 - val_accuracy: 0.9663\n",
            "Epoch 11/30\n",
            "8/8 [==============================] - 1s 70ms/step - loss: 0.5776 - accuracy: 0.9986 - val_loss: 0.6829 - val_accuracy: 0.9730\n",
            "Epoch 12/30\n",
            "8/8 [==============================] - 1s 68ms/step - loss: 0.5356 - accuracy: 0.9993 - val_loss: 0.6479 - val_accuracy: 0.9685\n",
            "Epoch 13/30\n",
            "8/8 [==============================] - 1s 70ms/step - loss: 0.5032 - accuracy: 0.9993 - val_loss: 0.6172 - val_accuracy: 0.9730\n",
            "Epoch 14/30\n",
            "8/8 [==============================] - 1s 67ms/step - loss: 0.4765 - accuracy: 0.9993 - val_loss: 0.5919 - val_accuracy: 0.9730\n",
            "Epoch 15/30\n",
            "8/8 [==============================] - 1s 71ms/step - loss: 0.4542 - accuracy: 0.9993 - val_loss: 0.5719 - val_accuracy: 0.9730\n",
            "Epoch 16/30\n",
            "8/8 [==============================] - 1s 65ms/step - loss: 0.4357 - accuracy: 0.9993 - val_loss: 0.5539 - val_accuracy: 0.9730\n",
            "Epoch 17/30\n",
            "8/8 [==============================] - 0s 52ms/step - loss: 0.4197 - accuracy: 1.0000 - val_loss: 0.5386 - val_accuracy: 0.9730\n",
            "Epoch 18/30\n",
            "8/8 [==============================] - 0s 52ms/step - loss: 0.4057 - accuracy: 1.0000 - val_loss: 0.5262 - val_accuracy: 0.9753\n",
            "Epoch 19/30\n",
            "8/8 [==============================] - 1s 66ms/step - loss: 0.3934 - accuracy: 1.0000 - val_loss: 0.5150 - val_accuracy: 0.9730\n",
            "Epoch 20/30\n",
            "8/8 [==============================] - 1s 68ms/step - loss: 0.3828 - accuracy: 1.0000 - val_loss: 0.5030 - val_accuracy: 0.9730\n",
            "Epoch 21/30\n",
            "8/8 [==============================] - 1s 71ms/step - loss: 0.3725 - accuracy: 1.0000 - val_loss: 0.4929 - val_accuracy: 0.9753\n",
            "Epoch 22/30\n",
            "8/8 [==============================] - 1s 67ms/step - loss: 0.3634 - accuracy: 1.0000 - val_loss: 0.4822 - val_accuracy: 0.9775\n",
            "Epoch 23/30\n",
            "8/8 [==============================] - 0s 52ms/step - loss: 0.3548 - accuracy: 1.0000 - val_loss: 0.4759 - val_accuracy: 0.9753\n",
            "Epoch 24/30\n",
            "8/8 [==============================] - 0s 53ms/step - loss: 0.3484 - accuracy: 1.0000 - val_loss: 0.4687 - val_accuracy: 0.9730\n",
            "Epoch 25/30\n",
            "8/8 [==============================] - 0s 52ms/step - loss: 0.3414 - accuracy: 1.0000 - val_loss: 0.4596 - val_accuracy: 0.9775\n",
            "Epoch 26/30\n",
            "8/8 [==============================] - 1s 88ms/step - loss: 0.3348 - accuracy: 1.0000 - val_loss: 0.4536 - val_accuracy: 0.9753\n",
            "Epoch 27/30\n",
            "8/8 [==============================] - 1s 90ms/step - loss: 0.3293 - accuracy: 1.0000 - val_loss: 0.4468 - val_accuracy: 0.9730\n",
            "Epoch 28/30\n",
            "8/8 [==============================] - 1s 104ms/step - loss: 0.3238 - accuracy: 1.0000 - val_loss: 0.4432 - val_accuracy: 0.9798\n",
            "Epoch 29/30\n",
            "8/8 [==============================] - 1s 105ms/step - loss: 0.3184 - accuracy: 1.0000 - val_loss: 0.4376 - val_accuracy: 0.9730\n",
            "Epoch 30/30\n",
            "8/8 [==============================] - 1s 91ms/step - loss: 0.3132 - accuracy: 1.0000 - val_loss: 0.4320 - val_accuracy: 0.9775\n"
          ]
        }
      ]
    },
    {
      "cell_type": "code",
      "source": [
        "from tensorflow.keras.models import Sequential\n",
        "from tensorflow.keras import regularizers\n",
        "\n",
        "\n",
        "model = Sequential([\n",
        "    Dense(64, kernel_regularizer=regularizers.l2(0.002), activation=\"relu\"),\n",
        "    Dense(64, kernel_regularizer=regularizers.l2(0.002), activation=\"relu\"),\n",
        "    Dense(num_classes, activation='softmax')\n",
        "])\n",
        "\n",
        "model.compile(optimizer='adam', loss='categorical_crossentropy', metrics=['accuracy'])\n",
        "\n",
        "history = model.fit(x_train_ready, y_train_ready,\n",
        "                    epochs=30, batch_size=200,\n",
        "                    validation_data=(x_val_ready, y_val_ready))"
      ],
      "metadata": {
        "colab": {
          "base_uri": "https://localhost:8080/"
        },
        "id": "rJngpbUeHNmC",
        "outputId": "f0a728d8-265b-4d72-9edf-61070c0f0aa1"
      },
      "execution_count": 152,
      "outputs": [
        {
          "output_type": "stream",
          "name": "stdout",
          "text": [
            "Epoch 1/30\n",
            "8/8 [==============================] - 3s 194ms/step - loss: 1.8783 - accuracy: 0.5400 - val_loss: 1.7287 - val_accuracy: 0.8287\n",
            "Epoch 2/30\n",
            "8/8 [==============================] - 1s 128ms/step - loss: 1.6540 - accuracy: 0.9038 - val_loss: 1.5804 - val_accuracy: 0.8820\n",
            "Epoch 3/30\n",
            "8/8 [==============================] - 1s 126ms/step - loss: 1.4995 - accuracy: 0.9558 - val_loss: 1.4511 - val_accuracy: 0.9129\n",
            "Epoch 4/30\n",
            "8/8 [==============================] - 1s 104ms/step - loss: 1.3388 - accuracy: 0.9740 - val_loss: 1.3016 - val_accuracy: 0.9298\n",
            "Epoch 5/30\n",
            "8/8 [==============================] - 1s 68ms/step - loss: 1.1575 - accuracy: 0.9853 - val_loss: 1.1395 - val_accuracy: 0.9551\n",
            "Epoch 6/30\n",
            "8/8 [==============================] - 1s 66ms/step - loss: 0.9761 - accuracy: 0.9923 - val_loss: 0.9842 - val_accuracy: 0.9635\n",
            "Epoch 7/30\n",
            "8/8 [==============================] - 1s 68ms/step - loss: 0.8186 - accuracy: 0.9965 - val_loss: 0.8539 - val_accuracy: 0.9691\n",
            "Epoch 8/30\n",
            "8/8 [==============================] - 1s 66ms/step - loss: 0.6956 - accuracy: 0.9972 - val_loss: 0.7547 - val_accuracy: 0.9747\n",
            "Epoch 9/30\n",
            "8/8 [==============================] - 1s 75ms/step - loss: 0.6099 - accuracy: 0.9972 - val_loss: 0.6861 - val_accuracy: 0.9803\n",
            "Epoch 10/30\n",
            "8/8 [==============================] - 1s 69ms/step - loss: 0.5498 - accuracy: 0.9972 - val_loss: 0.6359 - val_accuracy: 0.9803\n",
            "Epoch 11/30\n",
            "8/8 [==============================] - 0s 57ms/step - loss: 0.5077 - accuracy: 0.9979 - val_loss: 0.5985 - val_accuracy: 0.9747\n",
            "Epoch 12/30\n",
            "8/8 [==============================] - 0s 55ms/step - loss: 0.4743 - accuracy: 1.0000 - val_loss: 0.5709 - val_accuracy: 0.9747\n",
            "Epoch 13/30\n",
            "8/8 [==============================] - 0s 55ms/step - loss: 0.4489 - accuracy: 0.9993 - val_loss: 0.5465 - val_accuracy: 0.9747\n",
            "Epoch 14/30\n",
            "8/8 [==============================] - 1s 89ms/step - loss: 0.4269 - accuracy: 0.9993 - val_loss: 0.5265 - val_accuracy: 0.9747\n",
            "Epoch 15/30\n",
            "8/8 [==============================] - 1s 115ms/step - loss: 0.4087 - accuracy: 1.0000 - val_loss: 0.5091 - val_accuracy: 0.9747\n",
            "Epoch 16/30\n",
            "8/8 [==============================] - 1s 92ms/step - loss: 0.3930 - accuracy: 1.0000 - val_loss: 0.4944 - val_accuracy: 0.9831\n",
            "Epoch 17/30\n",
            "8/8 [==============================] - 1s 100ms/step - loss: 0.3801 - accuracy: 1.0000 - val_loss: 0.4831 - val_accuracy: 0.9831\n",
            "Epoch 18/30\n",
            "8/8 [==============================] - 1s 118ms/step - loss: 0.3689 - accuracy: 1.0000 - val_loss: 0.4735 - val_accuracy: 0.9775\n",
            "Epoch 19/30\n",
            "8/8 [==============================] - 1s 74ms/step - loss: 0.3587 - accuracy: 1.0000 - val_loss: 0.4637 - val_accuracy: 0.9747\n",
            "Epoch 20/30\n",
            "8/8 [==============================] - 0s 55ms/step - loss: 0.3486 - accuracy: 1.0000 - val_loss: 0.4532 - val_accuracy: 0.9775\n",
            "Epoch 21/30\n",
            "8/8 [==============================] - 0s 51ms/step - loss: 0.3399 - accuracy: 1.0000 - val_loss: 0.4443 - val_accuracy: 0.9803\n",
            "Epoch 22/30\n",
            "8/8 [==============================] - 0s 51ms/step - loss: 0.3317 - accuracy: 1.0000 - val_loss: 0.4380 - val_accuracy: 0.9747\n",
            "Epoch 23/30\n",
            "8/8 [==============================] - 1s 67ms/step - loss: 0.3247 - accuracy: 1.0000 - val_loss: 0.4297 - val_accuracy: 0.9747\n",
            "Epoch 24/30\n",
            "8/8 [==============================] - 1s 62ms/step - loss: 0.3178 - accuracy: 1.0000 - val_loss: 0.4221 - val_accuracy: 0.9747\n",
            "Epoch 25/30\n",
            "8/8 [==============================] - 0s 58ms/step - loss: 0.3114 - accuracy: 1.0000 - val_loss: 0.4164 - val_accuracy: 0.9747\n",
            "Epoch 26/30\n",
            "8/8 [==============================] - 0s 55ms/step - loss: 0.3054 - accuracy: 1.0000 - val_loss: 0.4112 - val_accuracy: 0.9775\n",
            "Epoch 27/30\n",
            "8/8 [==============================] - 0s 50ms/step - loss: 0.2997 - accuracy: 1.0000 - val_loss: 0.4055 - val_accuracy: 0.9803\n",
            "Epoch 28/30\n",
            "8/8 [==============================] - 0s 49ms/step - loss: 0.2941 - accuracy: 1.0000 - val_loss: 0.4005 - val_accuracy: 0.9747\n",
            "Epoch 29/30\n",
            "8/8 [==============================] - 0s 56ms/step - loss: 0.2890 - accuracy: 1.0000 - val_loss: 0.3945 - val_accuracy: 0.9747\n",
            "Epoch 30/30\n",
            "8/8 [==============================] - 1s 71ms/step - loss: 0.2841 - accuracy: 1.0000 - val_loss: 0.3894 - val_accuracy: 0.9803\n"
          ]
        }
      ]
    },
    {
      "cell_type": "code",
      "source": [
        "from tensorflow.keras.models import Sequential\n",
        "from tensorflow.keras import regularizers\n",
        "\n",
        "\n",
        "model = Sequential([\n",
        "    Dense(64, kernel_regularizer=regularizers.l2(0.002), activation=\"relu\"),\n",
        "    Dense(64, kernel_regularizer=regularizers.l2(0.002), activation=\"relu\"),\n",
        "    Dense(num_classes, activation='softmax')\n",
        "])\n",
        "\n",
        "model.compile(optimizer='adam', loss='categorical_crossentropy', metrics=['accuracy'])\n",
        "\n",
        "history = model.fit(x_train_ready, y_train_ready,\n",
        "                    epochs=30, batch_size=200,\n",
        "                    validation_data=(x_test_ready, y_test_ready))"
      ],
      "metadata": {
        "colab": {
          "base_uri": "https://localhost:8080/"
        },
        "id": "qnsAdYLlTm79",
        "outputId": "2387bccb-f7d1-4c7f-d3c9-a0b9cc4d488c"
      },
      "execution_count": 153,
      "outputs": [
        {
          "output_type": "stream",
          "name": "stdout",
          "text": [
            "Epoch 1/30\n",
            "8/8 [==============================] - 3s 175ms/step - loss: 1.8820 - accuracy: 0.5414 - val_loss: 1.7380 - val_accuracy: 0.8517\n",
            "Epoch 2/30\n",
            "8/8 [==============================] - 1s 119ms/step - loss: 1.6706 - accuracy: 0.9572 - val_loss: 1.6003 - val_accuracy: 0.9393\n",
            "Epoch 3/30\n",
            "8/8 [==============================] - 1s 85ms/step - loss: 1.5284 - accuracy: 0.9874 - val_loss: 1.4781 - val_accuracy: 0.9461\n",
            "Epoch 4/30\n",
            "8/8 [==============================] - 1s 68ms/step - loss: 1.3727 - accuracy: 0.9909 - val_loss: 1.3298 - val_accuracy: 0.9528\n",
            "Epoch 5/30\n",
            "8/8 [==============================] - 1s 71ms/step - loss: 1.1857 - accuracy: 0.9958 - val_loss: 1.1620 - val_accuracy: 0.9573\n",
            "Epoch 6/30\n",
            "8/8 [==============================] - 1s 69ms/step - loss: 0.9919 - accuracy: 0.9965 - val_loss: 1.0011 - val_accuracy: 0.9596\n",
            "Epoch 7/30\n",
            "8/8 [==============================] - 1s 68ms/step - loss: 0.8231 - accuracy: 0.9972 - val_loss: 0.8694 - val_accuracy: 0.9640\n",
            "Epoch 8/30\n",
            "8/8 [==============================] - 1s 69ms/step - loss: 0.6961 - accuracy: 0.9972 - val_loss: 0.7709 - val_accuracy: 0.9685\n",
            "Epoch 9/30\n",
            "8/8 [==============================] - 1s 70ms/step - loss: 0.6092 - accuracy: 0.9972 - val_loss: 0.7022 - val_accuracy: 0.9708\n",
            "Epoch 10/30\n",
            "8/8 [==============================] - 1s 70ms/step - loss: 0.5496 - accuracy: 0.9986 - val_loss: 0.6528 - val_accuracy: 0.9753\n",
            "Epoch 11/30\n",
            "8/8 [==============================] - 1s 64ms/step - loss: 0.5069 - accuracy: 0.9993 - val_loss: 0.6163 - val_accuracy: 0.9753\n",
            "Epoch 12/30\n",
            "8/8 [==============================] - 0s 51ms/step - loss: 0.4744 - accuracy: 1.0000 - val_loss: 0.5867 - val_accuracy: 0.9730\n",
            "Epoch 13/30\n",
            "8/8 [==============================] - 0s 52ms/step - loss: 0.4484 - accuracy: 0.9993 - val_loss: 0.5627 - val_accuracy: 0.9730\n",
            "Epoch 14/30\n",
            "8/8 [==============================] - 0s 54ms/step - loss: 0.4272 - accuracy: 0.9993 - val_loss: 0.5443 - val_accuracy: 0.9753\n",
            "Epoch 15/30\n",
            "8/8 [==============================] - 0s 58ms/step - loss: 0.4091 - accuracy: 1.0000 - val_loss: 0.5267 - val_accuracy: 0.9730\n",
            "Epoch 16/30\n",
            "8/8 [==============================] - 0s 54ms/step - loss: 0.3941 - accuracy: 1.0000 - val_loss: 0.5119 - val_accuracy: 0.9730\n",
            "Epoch 17/30\n",
            "8/8 [==============================] - 0s 50ms/step - loss: 0.3807 - accuracy: 1.0000 - val_loss: 0.5006 - val_accuracy: 0.9775\n",
            "Epoch 18/30\n",
            "8/8 [==============================] - 0s 54ms/step - loss: 0.3689 - accuracy: 1.0000 - val_loss: 0.4874 - val_accuracy: 0.9730\n",
            "Epoch 19/30\n",
            "8/8 [==============================] - 0s 53ms/step - loss: 0.3586 - accuracy: 1.0000 - val_loss: 0.4776 - val_accuracy: 0.9775\n",
            "Epoch 20/30\n",
            "8/8 [==============================] - 0s 56ms/step - loss: 0.3499 - accuracy: 1.0000 - val_loss: 0.4693 - val_accuracy: 0.9730\n",
            "Epoch 21/30\n",
            "8/8 [==============================] - 0s 63ms/step - loss: 0.3415 - accuracy: 1.0000 - val_loss: 0.4617 - val_accuracy: 0.9730\n",
            "Epoch 22/30\n",
            "8/8 [==============================] - 1s 69ms/step - loss: 0.3335 - accuracy: 1.0000 - val_loss: 0.4536 - val_accuracy: 0.9753\n",
            "Epoch 23/30\n",
            "8/8 [==============================] - 1s 86ms/step - loss: 0.3260 - accuracy: 1.0000 - val_loss: 0.4464 - val_accuracy: 0.9730\n",
            "Epoch 24/30\n",
            "8/8 [==============================] - 2s 279ms/step - loss: 0.3194 - accuracy: 1.0000 - val_loss: 0.4395 - val_accuracy: 0.9730\n",
            "Epoch 25/30\n",
            "8/8 [==============================] - 1s 103ms/step - loss: 0.3131 - accuracy: 1.0000 - val_loss: 0.4318 - val_accuracy: 0.9730\n",
            "Epoch 26/30\n",
            "8/8 [==============================] - 1s 104ms/step - loss: 0.3072 - accuracy: 1.0000 - val_loss: 0.4257 - val_accuracy: 0.9730\n",
            "Epoch 27/30\n",
            "8/8 [==============================] - 1s 97ms/step - loss: 0.3020 - accuracy: 1.0000 - val_loss: 0.4193 - val_accuracy: 0.9730\n",
            "Epoch 28/30\n",
            "8/8 [==============================] - 1s 66ms/step - loss: 0.2968 - accuracy: 1.0000 - val_loss: 0.4133 - val_accuracy: 0.9730\n",
            "Epoch 29/30\n",
            "8/8 [==============================] - 1s 75ms/step - loss: 0.2918 - accuracy: 1.0000 - val_loss: 0.4091 - val_accuracy: 0.9753\n",
            "Epoch 30/30\n",
            "8/8 [==============================] - 0s 53ms/step - loss: 0.2876 - accuracy: 1.0000 - val_loss: 0.4053 - val_accuracy: 0.9730\n"
          ]
        }
      ]
    },
    {
      "cell_type": "markdown",
      "source": [
        "Wnioski: Val accuracy na zbiorze testowym spadło, więc przestaję eksperymentować z szerokością sieci."
      ],
      "metadata": {
        "id": "xoPZvn9JJGM6"
      }
    },
    {
      "cell_type": "markdown",
      "source": [
        "Najlepiej wypadła sieć o 64 neuronach w 1 warstwie oraz 32 w 2 warstwie (val_accuracy ok 98 %, więc na niej będę dokonywać dalsze eksperymenty."
      ],
      "metadata": {
        "id": "940U98l0Jn4Z"
      }
    },
    {
      "cell_type": "markdown",
      "source": [
        "# Zmiany głębokości sieci"
      ],
      "metadata": {
        "id": "ERNWsb-5JenP"
      }
    },
    {
      "cell_type": "markdown",
      "source": [
        "Dodanie warstwy o 64 neuronach"
      ],
      "metadata": {
        "id": "bJYEZVcIMX5x"
      }
    },
    {
      "cell_type": "code",
      "source": [
        "from tensorflow.keras.models import Sequential\n",
        "from tensorflow.keras import regularizers\n",
        "\n",
        "\n",
        "model = Sequential([\n",
        "    Dense(64, kernel_regularizer=regularizers.l2(0.002), activation=\"relu\"),\n",
        "    Dense(64, kernel_regularizer=regularizers.l2(0.002), activation=\"relu\"),\n",
        "    Dense(32, kernel_regularizer=regularizers.l2(0.002), activation=\"relu\"),\n",
        "    Dense(num_classes, activation='softmax')\n",
        "])\n",
        "\n",
        "model.compile(optimizer='adam', loss='categorical_crossentropy', metrics=['accuracy'])\n",
        "\n",
        "history = model.fit(x_train_ready, y_train_ready,\n",
        "                    epochs=30, batch_size=200,\n",
        "                    validation_data=(x_val_ready, y_val_ready))"
      ],
      "metadata": {
        "colab": {
          "base_uri": "https://localhost:8080/"
        },
        "id": "gGsGscBOMtDf",
        "outputId": "718bc845-dfd5-4637-d6b9-bda44bd49651"
      },
      "execution_count": 156,
      "outputs": [
        {
          "output_type": "stream",
          "name": "stdout",
          "text": [
            "Epoch 1/30\n",
            "8/8 [==============================] - 5s 158ms/step - loss: 1.9621 - accuracy: 0.3933 - val_loss: 1.8127 - val_accuracy: 0.6376\n",
            "Epoch 2/30\n",
            "8/8 [==============================] - 1s 117ms/step - loss: 1.7429 - accuracy: 0.6840 - val_loss: 1.6666 - val_accuracy: 0.6994\n",
            "Epoch 3/30\n",
            "8/8 [==============================] - 1s 160ms/step - loss: 1.5886 - accuracy: 0.7654 - val_loss: 1.5280 - val_accuracy: 0.7360\n",
            "Epoch 4/30\n",
            "8/8 [==============================] - 1s 158ms/step - loss: 1.4134 - accuracy: 0.8111 - val_loss: 1.3565 - val_accuracy: 0.7809\n",
            "Epoch 5/30\n",
            "8/8 [==============================] - 1s 115ms/step - loss: 1.2053 - accuracy: 0.8806 - val_loss: 1.1657 - val_accuracy: 0.8961\n",
            "Epoch 6/30\n",
            "8/8 [==============================] - 1s 66ms/step - loss: 0.9964 - accuracy: 0.9796 - val_loss: 0.9906 - val_accuracy: 0.9213\n",
            "Epoch 7/30\n",
            "8/8 [==============================] - 0s 60ms/step - loss: 0.8113 - accuracy: 0.9937 - val_loss: 0.8306 - val_accuracy: 0.9579\n",
            "Epoch 8/30\n",
            "8/8 [==============================] - 1s 67ms/step - loss: 0.6643 - accuracy: 0.9972 - val_loss: 0.7161 - val_accuracy: 0.9607\n",
            "Epoch 9/30\n",
            "8/8 [==============================] - 1s 64ms/step - loss: 0.5615 - accuracy: 0.9986 - val_loss: 0.6368 - val_accuracy: 0.9747\n",
            "Epoch 10/30\n",
            "8/8 [==============================] - 0s 53ms/step - loss: 0.4978 - accuracy: 0.9993 - val_loss: 0.5872 - val_accuracy: 0.9747\n",
            "Epoch 11/30\n",
            "8/8 [==============================] - 0s 50ms/step - loss: 0.4546 - accuracy: 0.9993 - val_loss: 0.5519 - val_accuracy: 0.9747\n",
            "Epoch 12/30\n",
            "8/8 [==============================] - 0s 51ms/step - loss: 0.4235 - accuracy: 0.9993 - val_loss: 0.5228 - val_accuracy: 0.9719\n",
            "Epoch 13/30\n",
            "8/8 [==============================] - 0s 54ms/step - loss: 0.3993 - accuracy: 1.0000 - val_loss: 0.5021 - val_accuracy: 0.9775\n",
            "Epoch 14/30\n",
            "8/8 [==============================] - 0s 53ms/step - loss: 0.3798 - accuracy: 1.0000 - val_loss: 0.4846 - val_accuracy: 0.9719\n",
            "Epoch 15/30\n",
            "8/8 [==============================] - 0s 51ms/step - loss: 0.3637 - accuracy: 1.0000 - val_loss: 0.4687 - val_accuracy: 0.9803\n",
            "Epoch 16/30\n",
            "8/8 [==============================] - 0s 53ms/step - loss: 0.3507 - accuracy: 1.0000 - val_loss: 0.4573 - val_accuracy: 0.9775\n",
            "Epoch 17/30\n",
            "8/8 [==============================] - 0s 49ms/step - loss: 0.3394 - accuracy: 1.0000 - val_loss: 0.4468 - val_accuracy: 0.9775\n",
            "Epoch 18/30\n",
            "8/8 [==============================] - 0s 50ms/step - loss: 0.3294 - accuracy: 1.0000 - val_loss: 0.4363 - val_accuracy: 0.9803\n",
            "Epoch 19/30\n",
            "8/8 [==============================] - 0s 59ms/step - loss: 0.3210 - accuracy: 1.0000 - val_loss: 0.4303 - val_accuracy: 0.9803\n",
            "Epoch 20/30\n",
            "8/8 [==============================] - 0s 58ms/step - loss: 0.3132 - accuracy: 1.0000 - val_loss: 0.4221 - val_accuracy: 0.9747\n",
            "Epoch 21/30\n",
            "8/8 [==============================] - 0s 54ms/step - loss: 0.3058 - accuracy: 1.0000 - val_loss: 0.4139 - val_accuracy: 0.9775\n",
            "Epoch 22/30\n",
            "8/8 [==============================] - 0s 51ms/step - loss: 0.2989 - accuracy: 1.0000 - val_loss: 0.4081 - val_accuracy: 0.9803\n",
            "Epoch 23/30\n",
            "8/8 [==============================] - 0s 51ms/step - loss: 0.2930 - accuracy: 1.0000 - val_loss: 0.4044 - val_accuracy: 0.9719\n",
            "Epoch 24/30\n",
            "8/8 [==============================] - 0s 52ms/step - loss: 0.2874 - accuracy: 1.0000 - val_loss: 0.3973 - val_accuracy: 0.9719\n",
            "Epoch 25/30\n",
            "8/8 [==============================] - 0s 53ms/step - loss: 0.2826 - accuracy: 1.0000 - val_loss: 0.3955 - val_accuracy: 0.9719\n",
            "Epoch 26/30\n",
            "8/8 [==============================] - 0s 52ms/step - loss: 0.2779 - accuracy: 1.0000 - val_loss: 0.3913 - val_accuracy: 0.9747\n",
            "Epoch 27/30\n",
            "8/8 [==============================] - 0s 57ms/step - loss: 0.2731 - accuracy: 1.0000 - val_loss: 0.3862 - val_accuracy: 0.9663\n",
            "Epoch 28/30\n",
            "8/8 [==============================] - 0s 55ms/step - loss: 0.2684 - accuracy: 1.0000 - val_loss: 0.3801 - val_accuracy: 0.9691\n",
            "Epoch 29/30\n",
            "8/8 [==============================] - 1s 81ms/step - loss: 0.2642 - accuracy: 1.0000 - val_loss: 0.3797 - val_accuracy: 0.9719\n",
            "Epoch 30/30\n",
            "8/8 [==============================] - 1s 87ms/step - loss: 0.2607 - accuracy: 1.0000 - val_loss: 0.3763 - val_accuracy: 0.9719\n"
          ]
        }
      ]
    },
    {
      "cell_type": "markdown",
      "source": [
        "Wnioski: Ponownie val Accuracy 0.9719 słabsze niż w modelu wybranym powyżej, więc nie ma sensu sprawdzać na danych testowych."
      ],
      "metadata": {
        "id": "7ZzjdKd6V_R3"
      }
    },
    {
      "cell_type": "markdown",
      "source": [
        "Dodanie warstwy 128 neuronów"
      ],
      "metadata": {
        "id": "-vJBmAfAXe1I"
      }
    },
    {
      "cell_type": "code",
      "source": [
        "from tensorflow.keras.models import Sequential\n",
        "from tensorflow.keras import regularizers\n",
        "\n",
        "\n",
        "model = Sequential([\n",
        "    Dense(128, kernel_regularizer=regularizers.l2(0.002), activation=\"relu\"),\n",
        "    Dense(64, kernel_regularizer=regularizers.l2(0.002), activation=\"relu\"),\n",
        "    Dense(32, kernel_regularizer=regularizers.l2(0.002), activation=\"relu\"),\n",
        "    Dense(num_classes, activation='softmax')\n",
        "])\n",
        "\n",
        "model.compile(optimizer='adam', loss='categorical_crossentropy', metrics=['accuracy'])\n",
        "\n",
        "history = model.fit(x_train_ready, y_train_ready,\n",
        "                    epochs=30, batch_size=200,\n",
        "                    validation_data=(x_val_ready, y_val_ready))"
      ],
      "metadata": {
        "colab": {
          "base_uri": "https://localhost:8080/"
        },
        "id": "tXUfHwU0kT62",
        "outputId": "e83fac6c-1b70-47f1-e756-4f3f3aee53a1"
      },
      "execution_count": 161,
      "outputs": [
        {
          "output_type": "stream",
          "name": "stdout",
          "text": [
            "Epoch 1/30\n",
            "8/8 [==============================] - 9s 339ms/step - loss: 2.1578 - accuracy: 0.4853 - val_loss: 1.8900 - val_accuracy: 0.6404\n",
            "Epoch 2/30\n",
            "8/8 [==============================] - 1s 175ms/step - loss: 1.7881 - accuracy: 0.7437 - val_loss: 1.6710 - val_accuracy: 0.7809\n",
            "Epoch 3/30\n",
            "8/8 [==============================] - 1s 102ms/step - loss: 1.5789 - accuracy: 0.8933 - val_loss: 1.4886 - val_accuracy: 0.8287\n",
            "Epoch 4/30\n",
            "8/8 [==============================] - 1s 104ms/step - loss: 1.3576 - accuracy: 0.9361 - val_loss: 1.2752 - val_accuracy: 0.8848\n",
            "Epoch 5/30\n",
            "8/8 [==============================] - 1s 123ms/step - loss: 1.1168 - accuracy: 0.9740 - val_loss: 1.0662 - val_accuracy: 0.9185\n",
            "Epoch 6/30\n",
            "8/8 [==============================] - 1s 162ms/step - loss: 0.8983 - accuracy: 0.9888 - val_loss: 0.8920 - val_accuracy: 0.9382\n",
            "Epoch 7/30\n",
            "8/8 [==============================] - 1s 165ms/step - loss: 0.7224 - accuracy: 0.9986 - val_loss: 0.7549 - val_accuracy: 0.9691\n",
            "Epoch 8/30\n",
            "8/8 [==============================] - 1s 161ms/step - loss: 0.6058 - accuracy: 0.9986 - val_loss: 0.6645 - val_accuracy: 0.9663\n",
            "Epoch 9/30\n",
            "8/8 [==============================] - 1s 89ms/step - loss: 0.5328 - accuracy: 0.9986 - val_loss: 0.6068 - val_accuracy: 0.9719\n",
            "Epoch 10/30\n",
            "8/8 [==============================] - 1s 81ms/step - loss: 0.4823 - accuracy: 0.9993 - val_loss: 0.5661 - val_accuracy: 0.9747\n",
            "Epoch 11/30\n",
            "8/8 [==============================] - 1s 104ms/step - loss: 0.4469 - accuracy: 1.0000 - val_loss: 0.5363 - val_accuracy: 0.9691\n",
            "Epoch 12/30\n",
            "8/8 [==============================] - 1s 102ms/step - loss: 0.4191 - accuracy: 1.0000 - val_loss: 0.5118 - val_accuracy: 0.9691\n",
            "Epoch 13/30\n",
            "8/8 [==============================] - 1s 93ms/step - loss: 0.3978 - accuracy: 1.0000 - val_loss: 0.4948 - val_accuracy: 0.9691\n",
            "Epoch 14/30\n",
            "8/8 [==============================] - 1s 80ms/step - loss: 0.3812 - accuracy: 1.0000 - val_loss: 0.4778 - val_accuracy: 0.9691\n",
            "Epoch 15/30\n",
            "8/8 [==============================] - 1s 82ms/step - loss: 0.3654 - accuracy: 1.0000 - val_loss: 0.4629 - val_accuracy: 0.9747\n",
            "Epoch 16/30\n",
            "8/8 [==============================] - 1s 83ms/step - loss: 0.3524 - accuracy: 1.0000 - val_loss: 0.4509 - val_accuracy: 0.9747\n",
            "Epoch 17/30\n",
            "8/8 [==============================] - 1s 100ms/step - loss: 0.3400 - accuracy: 1.0000 - val_loss: 0.4403 - val_accuracy: 0.9691\n",
            "Epoch 18/30\n",
            "8/8 [==============================] - 1s 84ms/step - loss: 0.3301 - accuracy: 1.0000 - val_loss: 0.4292 - val_accuracy: 0.9719\n",
            "Epoch 19/30\n",
            "8/8 [==============================] - 1s 79ms/step - loss: 0.3215 - accuracy: 1.0000 - val_loss: 0.4221 - val_accuracy: 0.9719\n",
            "Epoch 20/30\n",
            "8/8 [==============================] - 1s 84ms/step - loss: 0.3141 - accuracy: 1.0000 - val_loss: 0.4142 - val_accuracy: 0.9663\n",
            "Epoch 21/30\n",
            "8/8 [==============================] - 1s 78ms/step - loss: 0.3057 - accuracy: 1.0000 - val_loss: 0.4071 - val_accuracy: 0.9663\n",
            "Epoch 22/30\n",
            "8/8 [==============================] - 1s 80ms/step - loss: 0.2979 - accuracy: 1.0000 - val_loss: 0.4005 - val_accuracy: 0.9691\n",
            "Epoch 23/30\n",
            "8/8 [==============================] - 1s 117ms/step - loss: 0.2905 - accuracy: 1.0000 - val_loss: 0.3938 - val_accuracy: 0.9635\n",
            "Epoch 24/30\n",
            "8/8 [==============================] - 1s 145ms/step - loss: 0.2844 - accuracy: 1.0000 - val_loss: 0.3884 - val_accuracy: 0.9663\n",
            "Epoch 25/30\n",
            "8/8 [==============================] - 1s 167ms/step - loss: 0.2787 - accuracy: 1.0000 - val_loss: 0.3832 - val_accuracy: 0.9663\n",
            "Epoch 26/30\n",
            "8/8 [==============================] - 1s 141ms/step - loss: 0.2734 - accuracy: 1.0000 - val_loss: 0.3765 - val_accuracy: 0.9635\n",
            "Epoch 27/30\n",
            "8/8 [==============================] - 1s 96ms/step - loss: 0.2684 - accuracy: 1.0000 - val_loss: 0.3706 - val_accuracy: 0.9635\n",
            "Epoch 28/30\n",
            "8/8 [==============================] - 1s 100ms/step - loss: 0.2640 - accuracy: 1.0000 - val_loss: 0.3648 - val_accuracy: 0.9663\n",
            "Epoch 29/30\n",
            "8/8 [==============================] - 1s 100ms/step - loss: 0.2611 - accuracy: 1.0000 - val_loss: 0.3596 - val_accuracy: 0.9663\n",
            "Epoch 30/30\n",
            "8/8 [==============================] - 1s 97ms/step - loss: 0.2568 - accuracy: 1.0000 - val_loss: 0.3567 - val_accuracy: 0.9691\n"
          ]
        }
      ]
    },
    {
      "cell_type": "markdown",
      "source": [
        "Wnioski: Val_accuracy takie jak w modelu referencyjnym, dlatego przestaję już dodawać warstwy."
      ],
      "metadata": {
        "id": "LKywB3pEXGgG"
      }
    },
    {
      "cell_type": "markdown",
      "source": [
        "Usunięcie 1 warstwy o 64 neuronach"
      ],
      "metadata": {
        "id": "jlDB6ab0Nis-"
      }
    },
    {
      "cell_type": "code",
      "source": [
        "from tensorflow.keras.models import Sequential\n",
        "from tensorflow.keras import regularizers\n",
        "\n",
        "\n",
        "model = Sequential([\n",
        "    Dense(32, kernel_regularizer=regularizers.l2(0.002), activation=\"relu\"),\n",
        "    Dense(num_classes, activation='softmax')\n",
        "])\n",
        "\n",
        "model.compile(optimizer='adam', loss='categorical_crossentropy', metrics=['accuracy'])\n",
        "\n",
        "history = model.fit(x_train_ready, y_train_ready,\n",
        "                    epochs=30, batch_size=200,\n",
        "                    validation_data=(x_val_ready, y_val_ready))"
      ],
      "metadata": {
        "colab": {
          "base_uri": "https://localhost:8080/"
        },
        "id": "dHHs9dX3NlnL",
        "outputId": "522a9cf2-78cf-49e9-df32-de01be666a8f"
      },
      "execution_count": 162,
      "outputs": [
        {
          "output_type": "stream",
          "name": "stdout",
          "text": [
            "Epoch 1/30\n",
            "8/8 [==============================] - 5s 137ms/step - loss: 1.6714 - accuracy: 0.5878 - val_loss: 1.5747 - val_accuracy: 0.8258\n",
            "Epoch 2/30\n",
            "8/8 [==============================] - 1s 87ms/step - loss: 1.5190 - accuracy: 0.9052 - val_loss: 1.4755 - val_accuracy: 0.8792\n",
            "Epoch 3/30\n",
            "8/8 [==============================] - 1s 74ms/step - loss: 1.4189 - accuracy: 0.9487 - val_loss: 1.4056 - val_accuracy: 0.8989\n",
            "Epoch 4/30\n",
            "8/8 [==============================] - 1s 139ms/step - loss: 1.3398 - accuracy: 0.9684 - val_loss: 1.3447 - val_accuracy: 0.9157\n",
            "Epoch 5/30\n",
            "8/8 [==============================] - 1s 108ms/step - loss: 1.2698 - accuracy: 0.9782 - val_loss: 1.2885 - val_accuracy: 0.9270\n",
            "Epoch 6/30\n",
            "8/8 [==============================] - 1s 91ms/step - loss: 1.2065 - accuracy: 0.9860 - val_loss: 1.2358 - val_accuracy: 0.9326\n",
            "Epoch 7/30\n",
            "8/8 [==============================] - 1s 159ms/step - loss: 1.1491 - accuracy: 0.9874 - val_loss: 1.1867 - val_accuracy: 0.9466\n",
            "Epoch 8/30\n",
            "8/8 [==============================] - 1s 179ms/step - loss: 1.0963 - accuracy: 0.9888 - val_loss: 1.1419 - val_accuracy: 0.9466\n",
            "Epoch 9/30\n",
            "8/8 [==============================] - 3s 398ms/step - loss: 1.0478 - accuracy: 0.9895 - val_loss: 1.0992 - val_accuracy: 0.9466\n",
            "Epoch 10/30\n",
            "8/8 [==============================] - 1s 117ms/step - loss: 1.0024 - accuracy: 0.9923 - val_loss: 1.0597 - val_accuracy: 0.9494\n",
            "Epoch 11/30\n",
            "8/8 [==============================] - 1s 85ms/step - loss: 0.9612 - accuracy: 0.9937 - val_loss: 1.0230 - val_accuracy: 0.9579\n",
            "Epoch 12/30\n",
            "8/8 [==============================] - 1s 72ms/step - loss: 0.9235 - accuracy: 0.9944 - val_loss: 0.9901 - val_accuracy: 0.9607\n",
            "Epoch 13/30\n",
            "8/8 [==============================] - 1s 71ms/step - loss: 0.8892 - accuracy: 0.9944 - val_loss: 0.9595 - val_accuracy: 0.9579\n",
            "Epoch 14/30\n",
            "8/8 [==============================] - 1s 63ms/step - loss: 0.8580 - accuracy: 0.9951 - val_loss: 0.9309 - val_accuracy: 0.9635\n",
            "Epoch 15/30\n",
            "8/8 [==============================] - 0s 58ms/step - loss: 0.8294 - accuracy: 0.9958 - val_loss: 0.9045 - val_accuracy: 0.9691\n",
            "Epoch 16/30\n",
            "8/8 [==============================] - 0s 39ms/step - loss: 0.8034 - accuracy: 0.9958 - val_loss: 0.8814 - val_accuracy: 0.9691\n",
            "Epoch 17/30\n",
            "8/8 [==============================] - 0s 38ms/step - loss: 0.7800 - accuracy: 0.9951 - val_loss: 0.8603 - val_accuracy: 0.9663\n",
            "Epoch 18/30\n",
            "8/8 [==============================] - 0s 51ms/step - loss: 0.7578 - accuracy: 0.9951 - val_loss: 0.8404 - val_accuracy: 0.9691\n",
            "Epoch 19/30\n",
            "8/8 [==============================] - 0s 58ms/step - loss: 0.7379 - accuracy: 0.9958 - val_loss: 0.8226 - val_accuracy: 0.9691\n",
            "Epoch 20/30\n",
            "8/8 [==============================] - 0s 46ms/step - loss: 0.7193 - accuracy: 0.9965 - val_loss: 0.8055 - val_accuracy: 0.9719\n",
            "Epoch 21/30\n",
            "8/8 [==============================] - 0s 38ms/step - loss: 0.7020 - accuracy: 0.9972 - val_loss: 0.7895 - val_accuracy: 0.9747\n",
            "Epoch 22/30\n",
            "8/8 [==============================] - 0s 39ms/step - loss: 0.6860 - accuracy: 0.9965 - val_loss: 0.7746 - val_accuracy: 0.9747\n",
            "Epoch 23/30\n",
            "8/8 [==============================] - 0s 37ms/step - loss: 0.6709 - accuracy: 0.9965 - val_loss: 0.7605 - val_accuracy: 0.9747\n",
            "Epoch 24/30\n",
            "8/8 [==============================] - 0s 43ms/step - loss: 0.6572 - accuracy: 0.9965 - val_loss: 0.7472 - val_accuracy: 0.9747\n",
            "Epoch 25/30\n",
            "8/8 [==============================] - 0s 37ms/step - loss: 0.6442 - accuracy: 0.9965 - val_loss: 0.7354 - val_accuracy: 0.9747\n",
            "Epoch 26/30\n",
            "8/8 [==============================] - 0s 38ms/step - loss: 0.6320 - accuracy: 0.9965 - val_loss: 0.7238 - val_accuracy: 0.9747\n",
            "Epoch 27/30\n",
            "8/8 [==============================] - 0s 35ms/step - loss: 0.6204 - accuracy: 0.9972 - val_loss: 0.7137 - val_accuracy: 0.9775\n",
            "Epoch 28/30\n",
            "8/8 [==============================] - 0s 37ms/step - loss: 0.6096 - accuracy: 0.9972 - val_loss: 0.7033 - val_accuracy: 0.9775\n",
            "Epoch 29/30\n",
            "8/8 [==============================] - 0s 38ms/step - loss: 0.5990 - accuracy: 0.9972 - val_loss: 0.6936 - val_accuracy: 0.9775\n",
            "Epoch 30/30\n",
            "8/8 [==============================] - 0s 41ms/step - loss: 0.5895 - accuracy: 0.9972 - val_loss: 0.6849 - val_accuracy: 0.9747\n"
          ]
        }
      ]
    },
    {
      "cell_type": "code",
      "source": [
        "from tensorflow.keras.models import Sequential\n",
        "from tensorflow.keras import regularizers\n",
        "\n",
        "\n",
        "model = Sequential([\n",
        "    Dense(32, kernel_regularizer=regularizers.l2(0.002), activation=\"relu\"),\n",
        "    Dense(num_classes, activation='softmax')\n",
        "])\n",
        "\n",
        "model.compile(optimizer='adam', loss='categorical_crossentropy', metrics=['accuracy'])\n",
        "\n",
        "history = model.fit(x_train_ready, y_train_ready,\n",
        "                    epochs=30, batch_size=200,\n",
        "                    validation_data=(x_test_ready, y_test_ready))"
      ],
      "metadata": {
        "colab": {
          "base_uri": "https://localhost:8080/"
        },
        "id": "QiqgcOWIYLAj",
        "outputId": "f93b54af-4ecd-4236-f44f-b46c72c7867f"
      },
      "execution_count": 163,
      "outputs": [
        {
          "output_type": "stream",
          "name": "stdout",
          "text": [
            "Epoch 1/30\n",
            "8/8 [==============================] - 2s 118ms/step - loss: 1.6695 - accuracy: 0.4607 - val_loss: 1.5732 - val_accuracy: 0.6337\n",
            "Epoch 2/30\n",
            "8/8 [==============================] - 1s 79ms/step - loss: 1.5146 - accuracy: 0.7669 - val_loss: 1.4732 - val_accuracy: 0.6719\n",
            "Epoch 3/30\n",
            "8/8 [==============================] - 1s 94ms/step - loss: 1.4126 - accuracy: 0.8301 - val_loss: 1.4053 - val_accuracy: 0.7079\n",
            "Epoch 4/30\n",
            "8/8 [==============================] - 0s 60ms/step - loss: 1.3352 - accuracy: 0.8694 - val_loss: 1.3491 - val_accuracy: 0.7393\n",
            "Epoch 5/30\n",
            "8/8 [==============================] - 0s 43ms/step - loss: 1.2684 - accuracy: 0.8989 - val_loss: 1.2987 - val_accuracy: 0.7798\n",
            "Epoch 6/30\n",
            "8/8 [==============================] - 0s 52ms/step - loss: 1.2102 - accuracy: 0.9171 - val_loss: 1.2530 - val_accuracy: 0.8045\n",
            "Epoch 7/30\n",
            "8/8 [==============================] - 0s 56ms/step - loss: 1.1585 - accuracy: 0.9340 - val_loss: 1.2115 - val_accuracy: 0.8135\n",
            "Epoch 8/30\n",
            "8/8 [==============================] - 0s 44ms/step - loss: 1.1116 - accuracy: 0.9445 - val_loss: 1.1732 - val_accuracy: 0.8427\n",
            "Epoch 9/30\n",
            "8/8 [==============================] - 0s 38ms/step - loss: 1.0686 - accuracy: 0.9544 - val_loss: 1.1367 - val_accuracy: 0.8697\n",
            "Epoch 10/30\n",
            "8/8 [==============================] - 0s 46ms/step - loss: 1.0286 - accuracy: 0.9635 - val_loss: 1.1022 - val_accuracy: 0.8876\n",
            "Epoch 11/30\n",
            "8/8 [==============================] - 0s 36ms/step - loss: 0.9918 - accuracy: 0.9705 - val_loss: 1.0696 - val_accuracy: 0.8989\n",
            "Epoch 12/30\n",
            "8/8 [==============================] - 0s 42ms/step - loss: 0.9569 - accuracy: 0.9775 - val_loss: 1.0389 - val_accuracy: 0.9146\n",
            "Epoch 13/30\n",
            "8/8 [==============================] - 0s 39ms/step - loss: 0.9252 - accuracy: 0.9824 - val_loss: 1.0110 - val_accuracy: 0.9191\n",
            "Epoch 14/30\n",
            "8/8 [==============================] - 0s 44ms/step - loss: 0.8953 - accuracy: 0.9874 - val_loss: 0.9847 - val_accuracy: 0.9281\n",
            "Epoch 15/30\n",
            "8/8 [==============================] - 0s 48ms/step - loss: 0.8675 - accuracy: 0.9888 - val_loss: 0.9596 - val_accuracy: 0.9303\n",
            "Epoch 16/30\n",
            "8/8 [==============================] - 0s 50ms/step - loss: 0.8416 - accuracy: 0.9909 - val_loss: 0.9363 - val_accuracy: 0.9371\n",
            "Epoch 17/30\n",
            "8/8 [==============================] - 0s 52ms/step - loss: 0.8171 - accuracy: 0.9930 - val_loss: 0.9149 - val_accuracy: 0.9393\n",
            "Epoch 18/30\n",
            "8/8 [==============================] - 1s 77ms/step - loss: 0.7945 - accuracy: 0.9937 - val_loss: 0.8947 - val_accuracy: 0.9393\n",
            "Epoch 19/30\n",
            "8/8 [==============================] - 1s 82ms/step - loss: 0.7733 - accuracy: 0.9951 - val_loss: 0.8759 - val_accuracy: 0.9461\n",
            "Epoch 20/30\n",
            "8/8 [==============================] - 1s 84ms/step - loss: 0.7533 - accuracy: 0.9958 - val_loss: 0.8581 - val_accuracy: 0.9461\n",
            "Epoch 21/30\n",
            "8/8 [==============================] - 1s 83ms/step - loss: 0.7348 - accuracy: 0.9958 - val_loss: 0.8410 - val_accuracy: 0.9483\n",
            "Epoch 22/30\n",
            "8/8 [==============================] - 1s 65ms/step - loss: 0.7174 - accuracy: 0.9958 - val_loss: 0.8251 - val_accuracy: 0.9528\n",
            "Epoch 23/30\n",
            "8/8 [==============================] - 1s 65ms/step - loss: 0.7009 - accuracy: 0.9965 - val_loss: 0.8102 - val_accuracy: 0.9528\n",
            "Epoch 24/30\n",
            "8/8 [==============================] - 1s 78ms/step - loss: 0.6857 - accuracy: 0.9965 - val_loss: 0.7959 - val_accuracy: 0.9528\n",
            "Epoch 25/30\n",
            "8/8 [==============================] - 0s 59ms/step - loss: 0.6717 - accuracy: 0.9972 - val_loss: 0.7810 - val_accuracy: 0.9596\n",
            "Epoch 26/30\n",
            "8/8 [==============================] - 0s 43ms/step - loss: 0.6581 - accuracy: 0.9979 - val_loss: 0.7684 - val_accuracy: 0.9506\n",
            "Epoch 27/30\n",
            "8/8 [==============================] - 0s 43ms/step - loss: 0.6456 - accuracy: 0.9979 - val_loss: 0.7564 - val_accuracy: 0.9551\n",
            "Epoch 28/30\n",
            "8/8 [==============================] - 0s 37ms/step - loss: 0.6336 - accuracy: 0.9979 - val_loss: 0.7446 - val_accuracy: 0.9596\n",
            "Epoch 29/30\n",
            "8/8 [==============================] - 0s 41ms/step - loss: 0.6223 - accuracy: 0.9979 - val_loss: 0.7333 - val_accuracy: 0.9573\n",
            "Epoch 30/30\n",
            "8/8 [==============================] - 0s 37ms/step - loss: 0.6117 - accuracy: 0.9972 - val_loss: 0.7230 - val_accuracy: 0.9596\n"
          ]
        }
      ]
    },
    {
      "cell_type": "markdown",
      "source": [
        "Usunięcie warstwy o 32 neuronach"
      ],
      "metadata": {
        "id": "L43dNo0NEBdQ"
      }
    },
    {
      "cell_type": "code",
      "source": [
        "from tensorflow.keras.models import Sequential\n",
        "from tensorflow.keras import regularizers\n",
        "\n",
        "\n",
        "model = Sequential([\n",
        "    Dense(64, kernel_regularizer=regularizers.l2(0.002), activation=\"relu\"),\n",
        "    Dense(num_classes, activation='softmax')\n",
        "])\n",
        "\n",
        "model.compile(optimizer='adam', loss='categorical_crossentropy', metrics=['accuracy'])\n",
        "\n",
        "history = model.fit(x_train_ready, y_train_ready,\n",
        "                    epochs=30, batch_size=200,\n",
        "                    validation_data=(x_train_ready, y_train_ready))"
      ],
      "metadata": {
        "colab": {
          "base_uri": "https://localhost:8080/"
        },
        "id": "YHaIk0xdZbv5",
        "outputId": "d53c195d-6952-4ee1-80e7-6e9ec1d9ab11"
      },
      "execution_count": 169,
      "outputs": [
        {
          "output_type": "stream",
          "name": "stdout",
          "text": [
            "Epoch 1/30\n",
            "8/8 [==============================] - 2s 164ms/step - loss: 1.7456 - accuracy: 0.5646 - val_loss: 1.5679 - val_accuracy: 0.8631\n",
            "Epoch 2/30\n",
            "8/8 [==============================] - 1s 142ms/step - loss: 1.5030 - accuracy: 0.8757 - val_loss: 1.4064 - val_accuracy: 0.9277\n",
            "Epoch 3/30\n",
            "8/8 [==============================] - 1s 139ms/step - loss: 1.3687 - accuracy: 0.9312 - val_loss: 1.3019 - val_accuracy: 0.9494\n",
            "Epoch 4/30\n",
            "8/8 [==============================] - 1s 145ms/step - loss: 1.2714 - accuracy: 0.9529 - val_loss: 1.2137 - val_accuracy: 0.9621\n",
            "Epoch 5/30\n",
            "8/8 [==============================] - 1s 128ms/step - loss: 1.1875 - accuracy: 0.9649 - val_loss: 1.1366 - val_accuracy: 0.9740\n",
            "Epoch 6/30\n",
            "8/8 [==============================] - 1s 80ms/step - loss: 1.1148 - accuracy: 0.9747 - val_loss: 1.0696 - val_accuracy: 0.9846\n",
            "Epoch 7/30\n",
            "8/8 [==============================] - 1s 105ms/step - loss: 1.0508 - accuracy: 0.9860 - val_loss: 1.0104 - val_accuracy: 0.9881\n",
            "Epoch 8/30\n",
            "8/8 [==============================] - 1s 88ms/step - loss: 0.9940 - accuracy: 0.9881 - val_loss: 0.9575 - val_accuracy: 0.9902\n",
            "Epoch 9/30\n",
            "8/8 [==============================] - 1s 85ms/step - loss: 0.9434 - accuracy: 0.9909 - val_loss: 0.9106 - val_accuracy: 0.9930\n",
            "Epoch 10/30\n",
            "8/8 [==============================] - 1s 106ms/step - loss: 0.8983 - accuracy: 0.9937 - val_loss: 0.8687 - val_accuracy: 0.9944\n",
            "Epoch 11/30\n",
            "8/8 [==============================] - 1s 144ms/step - loss: 0.8582 - accuracy: 0.9930 - val_loss: 0.8309 - val_accuracy: 0.9958\n",
            "Epoch 12/30\n",
            "8/8 [==============================] - 1s 144ms/step - loss: 0.8218 - accuracy: 0.9951 - val_loss: 0.7972 - val_accuracy: 0.9972\n",
            "Epoch 13/30\n",
            "8/8 [==============================] - 1s 121ms/step - loss: 0.7893 - accuracy: 0.9972 - val_loss: 0.7666 - val_accuracy: 0.9972\n",
            "Epoch 14/30\n",
            "8/8 [==============================] - 1s 124ms/step - loss: 0.7596 - accuracy: 0.9958 - val_loss: 0.7390 - val_accuracy: 0.9958\n",
            "Epoch 15/30\n",
            "8/8 [==============================] - 1s 65ms/step - loss: 0.7335 - accuracy: 0.9951 - val_loss: 0.7146 - val_accuracy: 0.9958\n",
            "Epoch 16/30\n",
            "8/8 [==============================] - 1s 70ms/step - loss: 0.7099 - accuracy: 0.9958 - val_loss: 0.6923 - val_accuracy: 0.9965\n",
            "Epoch 17/30\n",
            "8/8 [==============================] - 1s 67ms/step - loss: 0.6880 - accuracy: 0.9965 - val_loss: 0.6720 - val_accuracy: 0.9965\n",
            "Epoch 18/30\n",
            "8/8 [==============================] - 1s 88ms/step - loss: 0.6686 - accuracy: 0.9965 - val_loss: 0.6532 - val_accuracy: 0.9965\n",
            "Epoch 19/30\n",
            "8/8 [==============================] - 1s 67ms/step - loss: 0.6499 - accuracy: 0.9965 - val_loss: 0.6360 - val_accuracy: 0.9965\n",
            "Epoch 20/30\n",
            "8/8 [==============================] - 1s 67ms/step - loss: 0.6337 - accuracy: 0.9965 - val_loss: 0.6203 - val_accuracy: 0.9965\n",
            "Epoch 21/30\n",
            "8/8 [==============================] - 1s 69ms/step - loss: 0.6184 - accuracy: 0.9965 - val_loss: 0.6057 - val_accuracy: 0.9972\n",
            "Epoch 22/30\n",
            "8/8 [==============================] - 1s 68ms/step - loss: 0.6038 - accuracy: 0.9972 - val_loss: 0.5918 - val_accuracy: 0.9972\n",
            "Epoch 23/30\n",
            "8/8 [==============================] - 1s 101ms/step - loss: 0.5905 - accuracy: 0.9979 - val_loss: 0.5790 - val_accuracy: 0.9979\n",
            "Epoch 24/30\n",
            "8/8 [==============================] - 1s 103ms/step - loss: 0.5781 - accuracy: 0.9979 - val_loss: 0.5675 - val_accuracy: 0.9972\n",
            "Epoch 25/30\n",
            "8/8 [==============================] - 1s 103ms/step - loss: 0.5667 - accuracy: 0.9972 - val_loss: 0.5562 - val_accuracy: 0.9972\n",
            "Epoch 26/30\n",
            "8/8 [==============================] - 1s 107ms/step - loss: 0.5555 - accuracy: 0.9972 - val_loss: 0.5454 - val_accuracy: 0.9972\n",
            "Epoch 27/30\n",
            "8/8 [==============================] - 1s 69ms/step - loss: 0.5450 - accuracy: 0.9972 - val_loss: 0.5353 - val_accuracy: 0.9972\n",
            "Epoch 28/30\n",
            "8/8 [==============================] - 1s 66ms/step - loss: 0.5351 - accuracy: 0.9972 - val_loss: 0.5259 - val_accuracy: 0.9972\n",
            "Epoch 29/30\n",
            "8/8 [==============================] - 1s 67ms/step - loss: 0.5260 - accuracy: 0.9972 - val_loss: 0.5171 - val_accuracy: 0.9979\n",
            "Epoch 30/30\n",
            "8/8 [==============================] - 1s 66ms/step - loss: 0.5170 - accuracy: 0.9979 - val_loss: 0.5085 - val_accuracy: 0.9979\n"
          ]
        }
      ]
    },
    {
      "cell_type": "code",
      "source": [
        "from tensorflow.keras.models import Sequential\n",
        "from tensorflow.keras import regularizers\n",
        "\n",
        "\n",
        "model = Sequential([\n",
        "    Dense(64, kernel_regularizer=regularizers.l2(0.002), activation=\"relu\"),\n",
        "    Dense(num_classes, activation='softmax')\n",
        "])\n",
        "\n",
        "model.compile(optimizer='adam', loss='categorical_crossentropy', metrics=['accuracy'])\n",
        "\n",
        "history = model.fit(x_train_ready, y_train_ready,\n",
        "                    epochs=30, batch_size=200,\n",
        "                    validation_data=(x_test_ready, y_test_ready))"
      ],
      "metadata": {
        "colab": {
          "base_uri": "https://localhost:8080/"
        },
        "id": "Gwa0O7q3amF9",
        "outputId": "ffaf7127-1ea6-4b6a-f898-94a5ccf5164a"
      },
      "execution_count": 172,
      "outputs": [
        {
          "output_type": "stream",
          "name": "stdout",
          "text": [
            "Epoch 1/30\n",
            "8/8 [==============================] - 3s 187ms/step - loss: 1.7472 - accuracy: 0.5815 - val_loss: 1.5897 - val_accuracy: 0.8899\n",
            "Epoch 2/30\n",
            "8/8 [==============================] - 1s 73ms/step - loss: 1.5096 - accuracy: 0.9607 - val_loss: 1.4506 - val_accuracy: 0.9281\n",
            "Epoch 3/30\n",
            "8/8 [==============================] - 0s 58ms/step - loss: 1.3755 - accuracy: 0.9782 - val_loss: 1.3644 - val_accuracy: 0.9371\n",
            "Epoch 4/30\n",
            "8/8 [==============================] - 0s 53ms/step - loss: 1.2763 - accuracy: 0.9895 - val_loss: 1.2898 - val_accuracy: 0.9393\n",
            "Epoch 5/30\n",
            "8/8 [==============================] - 0s 59ms/step - loss: 1.1890 - accuracy: 0.9888 - val_loss: 1.2219 - val_accuracy: 0.9416\n",
            "Epoch 6/30\n",
            "8/8 [==============================] - 0s 54ms/step - loss: 1.1124 - accuracy: 0.9902 - val_loss: 1.1603 - val_accuracy: 0.9461\n",
            "Epoch 7/30\n",
            "8/8 [==============================] - 0s 62ms/step - loss: 1.0444 - accuracy: 0.9916 - val_loss: 1.1045 - val_accuracy: 0.9483\n",
            "Epoch 8/30\n",
            "8/8 [==============================] - 0s 56ms/step - loss: 0.9845 - accuracy: 0.9923 - val_loss: 1.0543 - val_accuracy: 0.9506\n",
            "Epoch 9/30\n",
            "8/8 [==============================] - 1s 66ms/step - loss: 0.9312 - accuracy: 0.9937 - val_loss: 1.0099 - val_accuracy: 0.9506\n",
            "Epoch 10/30\n",
            "8/8 [==============================] - 1s 71ms/step - loss: 0.8853 - accuracy: 0.9944 - val_loss: 0.9696 - val_accuracy: 0.9528\n",
            "Epoch 11/30\n",
            "8/8 [==============================] - 1s 74ms/step - loss: 0.8438 - accuracy: 0.9951 - val_loss: 0.9345 - val_accuracy: 0.9573\n",
            "Epoch 12/30\n",
            "8/8 [==============================] - 1s 74ms/step - loss: 0.8079 - accuracy: 0.9944 - val_loss: 0.9031 - val_accuracy: 0.9573\n",
            "Epoch 13/30\n",
            "8/8 [==============================] - 0s 58ms/step - loss: 0.7761 - accuracy: 0.9951 - val_loss: 0.8745 - val_accuracy: 0.9596\n",
            "Epoch 14/30\n",
            "8/8 [==============================] - 1s 91ms/step - loss: 0.7471 - accuracy: 0.9958 - val_loss: 0.8493 - val_accuracy: 0.9596\n",
            "Epoch 15/30\n",
            "8/8 [==============================] - 1s 98ms/step - loss: 0.7214 - accuracy: 0.9958 - val_loss: 0.8249 - val_accuracy: 0.9596\n",
            "Epoch 16/30\n",
            "8/8 [==============================] - 1s 127ms/step - loss: 0.6983 - accuracy: 0.9972 - val_loss: 0.8035 - val_accuracy: 0.9640\n",
            "Epoch 17/30\n",
            "8/8 [==============================] - 1s 107ms/step - loss: 0.6777 - accuracy: 0.9979 - val_loss: 0.7858 - val_accuracy: 0.9618\n",
            "Epoch 18/30\n",
            "8/8 [==============================] - 1s 111ms/step - loss: 0.6586 - accuracy: 0.9979 - val_loss: 0.7677 - val_accuracy: 0.9618\n",
            "Epoch 19/30\n",
            "8/8 [==============================] - 1s 82ms/step - loss: 0.6407 - accuracy: 0.9979 - val_loss: 0.7517 - val_accuracy: 0.9618\n",
            "Epoch 20/30\n",
            "8/8 [==============================] - 0s 54ms/step - loss: 0.6241 - accuracy: 0.9979 - val_loss: 0.7366 - val_accuracy: 0.9618\n",
            "Epoch 21/30\n",
            "8/8 [==============================] - 0s 60ms/step - loss: 0.6091 - accuracy: 0.9979 - val_loss: 0.7221 - val_accuracy: 0.9618\n",
            "Epoch 22/30\n",
            "8/8 [==============================] - 1s 73ms/step - loss: 0.5953 - accuracy: 0.9986 - val_loss: 0.7094 - val_accuracy: 0.9618\n",
            "Epoch 23/30\n",
            "8/8 [==============================] - 1s 87ms/step - loss: 0.5822 - accuracy: 0.9979 - val_loss: 0.6958 - val_accuracy: 0.9618\n",
            "Epoch 24/30\n",
            "8/8 [==============================] - 1s 73ms/step - loss: 0.5696 - accuracy: 0.9979 - val_loss: 0.6844 - val_accuracy: 0.9596\n",
            "Epoch 25/30\n",
            "8/8 [==============================] - 1s 75ms/step - loss: 0.5587 - accuracy: 0.9979 - val_loss: 0.6748 - val_accuracy: 0.9596\n",
            "Epoch 26/30\n",
            "8/8 [==============================] - 1s 70ms/step - loss: 0.5479 - accuracy: 0.9972 - val_loss: 0.6640 - val_accuracy: 0.9618\n",
            "Epoch 27/30\n",
            "8/8 [==============================] - 0s 61ms/step - loss: 0.5379 - accuracy: 0.9979 - val_loss: 0.6538 - val_accuracy: 0.9618\n",
            "Epoch 28/30\n",
            "8/8 [==============================] - 0s 59ms/step - loss: 0.5280 - accuracy: 0.9979 - val_loss: 0.6434 - val_accuracy: 0.9618\n",
            "Epoch 29/30\n",
            "8/8 [==============================] - 1s 74ms/step - loss: 0.5186 - accuracy: 0.9986 - val_loss: 0.6343 - val_accuracy: 0.9596\n",
            "Epoch 30/30\n",
            "8/8 [==============================] - 1s 68ms/step - loss: 0.5098 - accuracy: 0.9972 - val_loss: 0.6251 - val_accuracy: 0.9596\n"
          ]
        }
      ]
    },
    {
      "cell_type": "markdown",
      "source": [
        "Wnioski: Najlepsze wynik otrzymano w trakcie eksperymentów z szerokością sieci."
      ],
      "metadata": {
        "id": "aewnK0tFa0GC"
      }
    },
    {
      "cell_type": "markdown",
      "source": [
        "# Regresja logistyczna\n",
        "Dodatkowo porównuję z wynikiem prostszego klasyfikatora."
      ],
      "metadata": {
        "id": "EzWxPPDwb1jl"
      }
    },
    {
      "cell_type": "code",
      "source": [
        "import numpy as np\n",
        "from sklearn.linear_model import LogisticRegression\n",
        "from sklearn.metrics import accuracy_score\n",
        "\n",
        "lgr = LogisticRegression()\n",
        "\n",
        "# Przekształacam one-hot encoded labelki na etykiety liczb całkowitych\n",
        "y_train_labels = np.argmax(y_train_ready, axis=1)\n",
        "y_test_labels = np.argmax(y_test_ready, axis=1)\n",
        "\n",
        "lgr.fit(x_train_ready, y_train_labels)\n",
        "predicted_labels = lgr.predict(x_test_ready)\n",
        "\n",
        "accuracy_of_model = accuracy_score(y_test_labels, predicted_labels)\n",
        "print(\"Accuracy\", accuracy_of_model)"
      ],
      "metadata": {
        "colab": {
          "base_uri": "https://localhost:8080/"
        },
        "id": "S562rotMbKev",
        "outputId": "54ff1125-5a50-4ea2-9950-ba9827e5e953"
      },
      "execution_count": 171,
      "outputs": [
        {
          "output_type": "stream",
          "name": "stdout",
          "text": [
            "Accuracy is 0.9662921348314607\n"
          ]
        }
      ]
    },
    {
      "cell_type": "markdown",
      "source": [
        "# PODSUMOWANIE"
      ],
      "metadata": {
        "id": "PtS7dx-BefCd"
      }
    },
    {
      "cell_type": "markdown",
      "source": [
        "Podczas wykonywanych eksperymentów udało się poprawić Accuracy (dokładność) modelu na danych testowych z 0.9730 (ok 97%) w modelu referencyjnym do 0.9775 (ok 98%). Dodatkowo osiągnał on także lepszą dokładność niż model regresji logistycznej, który miał Accuracy 0.9662 (ok 97%) Poniżej zamieściłam porównanie najlepszego modelu wraz z modelem referencyjnym i dodałam raporty dot. F1-score, precision, recall i oczywiście Accuracy."
      ],
      "metadata": {
        "id": "SniZkZ7hehTL"
      }
    },
    {
      "cell_type": "markdown",
      "source": [
        "Model referencyjny na zbiorze testowym"
      ],
      "metadata": {
        "id": "YEWEIr74zYfS"
      }
    },
    {
      "cell_type": "code",
      "source": [
        "from tensorflow.keras.models import Sequential\n",
        "\n",
        "\n",
        "model = Sequential([\n",
        "    Dense(16, activation='relu'),\n",
        "    Dense(16, activation='relu'),\n",
        "    Dense(num_classes, activation='softmax')\n",
        "])\n",
        "\n",
        "model.compile(optimizer='adam', loss='categorical_crossentropy', metrics=['accuracy'])\n",
        "\n",
        "history = model.fit(x_train_ready, y_train_ready,\n",
        "                    epochs=30, batch_size=200,\n",
        "                    validation_data=(x_test_ready, y_test_ready))"
      ],
      "metadata": {
        "colab": {
          "base_uri": "https://localhost:8080/"
        },
        "outputId": "4379d9dd-05d4-470b-b353-3fdd69aec017",
        "id": "pIi_OM1lzWWJ"
      },
      "execution_count": null,
      "outputs": [
        {
          "output_type": "stream",
          "name": "stdout",
          "text": [
            "Epoch 1/30\n",
            "8/8 [==============================] - 2s 70ms/step - loss: 1.6027 - accuracy: 0.4185 - val_loss: 1.5856 - val_accuracy: 0.5596\n",
            "Epoch 2/30\n",
            "8/8 [==============================] - 0s 40ms/step - loss: 1.5650 - accuracy: 0.6685 - val_loss: 1.5459 - val_accuracy: 0.6427\n",
            "Epoch 3/30\n",
            "8/8 [==============================] - 0s 40ms/step - loss: 1.5126 - accuracy: 0.7500 - val_loss: 1.4975 - val_accuracy: 0.7124\n",
            "Epoch 4/30\n",
            "8/8 [==============================] - 0s 47ms/step - loss: 1.4479 - accuracy: 0.8378 - val_loss: 1.4405 - val_accuracy: 0.7551\n",
            "Epoch 5/30\n",
            "8/8 [==============================] - 0s 46ms/step - loss: 1.3730 - accuracy: 0.8848 - val_loss: 1.3757 - val_accuracy: 0.7798\n",
            "Epoch 6/30\n",
            "8/8 [==============================] - 0s 42ms/step - loss: 1.2880 - accuracy: 0.9263 - val_loss: 1.3031 - val_accuracy: 0.8202\n",
            "Epoch 7/30\n",
            "8/8 [==============================] - 0s 43ms/step - loss: 1.1935 - accuracy: 0.9473 - val_loss: 1.2233 - val_accuracy: 0.8494\n",
            "Epoch 8/30\n",
            "8/8 [==============================] - 0s 45ms/step - loss: 1.0904 - accuracy: 0.9677 - val_loss: 1.1369 - val_accuracy: 0.8652\n",
            "Epoch 9/30\n",
            "8/8 [==============================] - 0s 44ms/step - loss: 0.9813 - accuracy: 0.9747 - val_loss: 1.0464 - val_accuracy: 0.8697\n",
            "Epoch 10/30\n",
            "8/8 [==============================] - 0s 39ms/step - loss: 0.8694 - accuracy: 0.9789 - val_loss: 0.9525 - val_accuracy: 0.8854\n",
            "Epoch 11/30\n",
            "8/8 [==============================] - 0s 39ms/step - loss: 0.7561 - accuracy: 0.9860 - val_loss: 0.8574 - val_accuracy: 0.9034\n",
            "Epoch 12/30\n",
            "8/8 [==============================] - 0s 38ms/step - loss: 0.6478 - accuracy: 0.9888 - val_loss: 0.7669 - val_accuracy: 0.9191\n",
            "Epoch 13/30\n",
            "8/8 [==============================] - 0s 46ms/step - loss: 0.5493 - accuracy: 0.9923 - val_loss: 0.6822 - val_accuracy: 0.9236\n",
            "Epoch 14/30\n",
            "8/8 [==============================] - 0s 44ms/step - loss: 0.4618 - accuracy: 0.9951 - val_loss: 0.6071 - val_accuracy: 0.9258\n",
            "Epoch 15/30\n",
            "8/8 [==============================] - 0s 59ms/step - loss: 0.3867 - accuracy: 0.9972 - val_loss: 0.5406 - val_accuracy: 0.9326\n",
            "Epoch 16/30\n",
            "8/8 [==============================] - 1s 66ms/step - loss: 0.3224 - accuracy: 0.9986 - val_loss: 0.4823 - val_accuracy: 0.9438\n",
            "Epoch 17/30\n",
            "8/8 [==============================] - 0s 63ms/step - loss: 0.2679 - accuracy: 0.9986 - val_loss: 0.4313 - val_accuracy: 0.9461\n",
            "Epoch 18/30\n",
            "8/8 [==============================] - 0s 62ms/step - loss: 0.2223 - accuracy: 0.9986 - val_loss: 0.3875 - val_accuracy: 0.9483\n",
            "Epoch 19/30\n",
            "8/8 [==============================] - 0s 63ms/step - loss: 0.1847 - accuracy: 0.9986 - val_loss: 0.3503 - val_accuracy: 0.9528\n",
            "Epoch 20/30\n",
            "8/8 [==============================] - 0s 50ms/step - loss: 0.1536 - accuracy: 0.9993 - val_loss: 0.3185 - val_accuracy: 0.9640\n",
            "Epoch 21/30\n",
            "8/8 [==============================] - 0s 46ms/step - loss: 0.1284 - accuracy: 1.0000 - val_loss: 0.2916 - val_accuracy: 0.9685\n",
            "Epoch 22/30\n",
            "8/8 [==============================] - 0s 48ms/step - loss: 0.1078 - accuracy: 1.0000 - val_loss: 0.2685 - val_accuracy: 0.9708\n",
            "Epoch 23/30\n",
            "8/8 [==============================] - 0s 50ms/step - loss: 0.0913 - accuracy: 1.0000 - val_loss: 0.2485 - val_accuracy: 0.9730\n",
            "Epoch 24/30\n",
            "8/8 [==============================] - 0s 49ms/step - loss: 0.0777 - accuracy: 1.0000 - val_loss: 0.2321 - val_accuracy: 0.9730\n",
            "Epoch 25/30\n",
            "8/8 [==============================] - 0s 38ms/step - loss: 0.0666 - accuracy: 1.0000 - val_loss: 0.2182 - val_accuracy: 0.9730\n",
            "Epoch 26/30\n",
            "8/8 [==============================] - 0s 40ms/step - loss: 0.0578 - accuracy: 1.0000 - val_loss: 0.2061 - val_accuracy: 0.9730\n",
            "Epoch 27/30\n",
            "8/8 [==============================] - 0s 48ms/step - loss: 0.0506 - accuracy: 1.0000 - val_loss: 0.1960 - val_accuracy: 0.9730\n",
            "Epoch 28/30\n",
            "8/8 [==============================] - 0s 36ms/step - loss: 0.0447 - accuracy: 1.0000 - val_loss: 0.1872 - val_accuracy: 0.9708\n",
            "Epoch 29/30\n",
            "8/8 [==============================] - 0s 36ms/step - loss: 0.0396 - accuracy: 1.0000 - val_loss: 0.1797 - val_accuracy: 0.9708\n",
            "Epoch 30/30\n",
            "8/8 [==============================] - 0s 29ms/step - loss: 0.0354 - accuracy: 1.0000 - val_loss: 0.1730 - val_accuracy: 0.9730\n"
          ]
        }
      ]
    },
    {
      "cell_type": "code",
      "source": [
        "from sklearn.metrics import classification_report\n",
        "import numpy as np\n",
        "\n",
        "# Generuję predykcję na testowym i przekształcam przewidywania\n",
        "#z zakodowanego formatu one-hot na etykiety\n",
        "y_predition = model.predict(x_test_ready)\n",
        "y_pred_labels = np.argmax(y_predition, axis=1)\n",
        "\n",
        "# Generuję classification raport\n",
        "report = classification_report(y_test_labels, y_pred_labels, target_names=label_encoder.classes_)\n",
        "print(report)"
      ],
      "metadata": {
        "colab": {
          "base_uri": "https://localhost:8080/"
        },
        "outputId": "6915ae44-f3fe-4766-db1a-325b63b3b134",
        "id": "eAvvFQLezzAj"
      },
      "execution_count": null,
      "outputs": [
        {
          "output_type": "stream",
          "name": "stdout",
          "text": [
            "14/14 [==============================] - 0s 2ms/step\n",
            "               precision    recall  f1-score   support\n",
            "\n",
            "     business       0.96      0.95      0.96       101\n",
            "entertainment       1.00      0.95      0.97        81\n",
            "     politics       0.94      0.98      0.96        83\n",
            "        sport       0.99      1.00      0.99        98\n",
            "         tech       0.98      0.99      0.98        82\n",
            "\n",
            "     accuracy                           0.97       445\n",
            "    macro avg       0.97      0.97      0.97       445\n",
            " weighted avg       0.97      0.97      0.97       445\n",
            "\n"
          ]
        }
      ]
    },
    {
      "cell_type": "markdown",
      "source": [
        "NAJLEPSZY MODEL Z REGULARYZACJA L2 (0.002) ORAZ 64 NEURONAMI W 1 I 32 w 2 WARSTWIE"
      ],
      "metadata": {
        "id": "PEqLrr2Vc7qi"
      }
    },
    {
      "cell_type": "code",
      "source": [
        "from tensorflow.keras.models import Sequential\n",
        "from tensorflow.keras import regularizers\n",
        "\n",
        "\n",
        "model = Sequential([\n",
        "    Dense(64, kernel_regularizer=regularizers.l2(0.002), activation=\"relu\"),\n",
        "    Dense(32, kernel_regularizer=regularizers.l2(0.002), activation=\"relu\"),\n",
        "    Dense(num_classes, activation='softmax')\n",
        "])\n",
        "\n",
        "model.compile(optimizer='adam', loss='categorical_crossentropy', metrics=['accuracy'])\n",
        "\n",
        "history = model.fit(x_train_ready, y_train_ready,\n",
        "                    epochs=30, batch_size=200,\n",
        "                    validation_data=(x_test_ready, y_test_ready))"
      ],
      "metadata": {
        "colab": {
          "base_uri": "https://localhost:8080/"
        },
        "outputId": "e81a9d00-26e4-4def-d34f-ac89ac3b86ad",
        "id": "RAqlVgQ2yX5r"
      },
      "execution_count": null,
      "outputs": [
        {
          "output_type": "stream",
          "name": "stdout",
          "text": [
            "Epoch 1/30\n",
            "8/8 [==============================] - 2s 126ms/step - loss: 1.8345 - accuracy: 0.4684 - val_loss: 1.6797 - val_accuracy: 0.6989\n",
            "Epoch 2/30\n",
            "8/8 [==============================] - 1s 115ms/step - loss: 1.6030 - accuracy: 0.7963 - val_loss: 1.5321 - val_accuracy: 0.7730\n",
            "Epoch 3/30\n",
            "8/8 [==============================] - 1s 98ms/step - loss: 1.4520 - accuracy: 0.8933 - val_loss: 1.4201 - val_accuracy: 0.8157\n",
            "Epoch 4/30\n",
            "8/8 [==============================] - 1s 115ms/step - loss: 1.3141 - accuracy: 0.9403 - val_loss: 1.3024 - val_accuracy: 0.8539\n",
            "Epoch 5/30\n",
            "8/8 [==============================] - 1s 117ms/step - loss: 1.1717 - accuracy: 0.9600 - val_loss: 1.1836 - val_accuracy: 0.8921\n",
            "Epoch 6/30\n",
            "8/8 [==============================] - 1s 91ms/step - loss: 1.0340 - accuracy: 0.9684 - val_loss: 1.0684 - val_accuracy: 0.9258\n",
            "Epoch 7/30\n",
            "8/8 [==============================] - 1s 67ms/step - loss: 0.9075 - accuracy: 0.9895 - val_loss: 0.9617 - val_accuracy: 0.9461\n",
            "Epoch 8/30\n",
            "8/8 [==============================] - 1s 71ms/step - loss: 0.7965 - accuracy: 0.9951 - val_loss: 0.8665 - val_accuracy: 0.9528\n",
            "Epoch 9/30\n",
            "8/8 [==============================] - 1s 69ms/step - loss: 0.7032 - accuracy: 0.9972 - val_loss: 0.7892 - val_accuracy: 0.9573\n",
            "Epoch 10/30\n",
            "8/8 [==============================] - 1s 67ms/step - loss: 0.6314 - accuracy: 0.9986 - val_loss: 0.7304 - val_accuracy: 0.9663\n",
            "Epoch 11/30\n",
            "8/8 [==============================] - 1s 70ms/step - loss: 0.5776 - accuracy: 0.9986 - val_loss: 0.6829 - val_accuracy: 0.9730\n",
            "Epoch 12/30\n",
            "8/8 [==============================] - 1s 68ms/step - loss: 0.5356 - accuracy: 0.9993 - val_loss: 0.6479 - val_accuracy: 0.9685\n",
            "Epoch 13/30\n",
            "8/8 [==============================] - 1s 70ms/step - loss: 0.5032 - accuracy: 0.9993 - val_loss: 0.6172 - val_accuracy: 0.9730\n",
            "Epoch 14/30\n",
            "8/8 [==============================] - 1s 67ms/step - loss: 0.4765 - accuracy: 0.9993 - val_loss: 0.5919 - val_accuracy: 0.9730\n",
            "Epoch 15/30\n",
            "8/8 [==============================] - 1s 71ms/step - loss: 0.4542 - accuracy: 0.9993 - val_loss: 0.5719 - val_accuracy: 0.9730\n",
            "Epoch 16/30\n",
            "8/8 [==============================] - 1s 65ms/step - loss: 0.4357 - accuracy: 0.9993 - val_loss: 0.5539 - val_accuracy: 0.9730\n",
            "Epoch 17/30\n",
            "8/8 [==============================] - 0s 52ms/step - loss: 0.4197 - accuracy: 1.0000 - val_loss: 0.5386 - val_accuracy: 0.9730\n",
            "Epoch 18/30\n",
            "8/8 [==============================] - 0s 52ms/step - loss: 0.4057 - accuracy: 1.0000 - val_loss: 0.5262 - val_accuracy: 0.9753\n",
            "Epoch 19/30\n",
            "8/8 [==============================] - 1s 66ms/step - loss: 0.3934 - accuracy: 1.0000 - val_loss: 0.5150 - val_accuracy: 0.9730\n",
            "Epoch 20/30\n",
            "8/8 [==============================] - 1s 68ms/step - loss: 0.3828 - accuracy: 1.0000 - val_loss: 0.5030 - val_accuracy: 0.9730\n",
            "Epoch 21/30\n",
            "8/8 [==============================] - 1s 71ms/step - loss: 0.3725 - accuracy: 1.0000 - val_loss: 0.4929 - val_accuracy: 0.9753\n",
            "Epoch 22/30\n",
            "8/8 [==============================] - 1s 67ms/step - loss: 0.3634 - accuracy: 1.0000 - val_loss: 0.4822 - val_accuracy: 0.9775\n",
            "Epoch 23/30\n",
            "8/8 [==============================] - 0s 52ms/step - loss: 0.3548 - accuracy: 1.0000 - val_loss: 0.4759 - val_accuracy: 0.9753\n",
            "Epoch 24/30\n",
            "8/8 [==============================] - 0s 53ms/step - loss: 0.3484 - accuracy: 1.0000 - val_loss: 0.4687 - val_accuracy: 0.9730\n",
            "Epoch 25/30\n",
            "8/8 [==============================] - 0s 52ms/step - loss: 0.3414 - accuracy: 1.0000 - val_loss: 0.4596 - val_accuracy: 0.9775\n",
            "Epoch 26/30\n",
            "8/8 [==============================] - 1s 88ms/step - loss: 0.3348 - accuracy: 1.0000 - val_loss: 0.4536 - val_accuracy: 0.9753\n",
            "Epoch 27/30\n",
            "8/8 [==============================] - 1s 90ms/step - loss: 0.3293 - accuracy: 1.0000 - val_loss: 0.4468 - val_accuracy: 0.9730\n",
            "Epoch 28/30\n",
            "8/8 [==============================] - 1s 104ms/step - loss: 0.3238 - accuracy: 1.0000 - val_loss: 0.4432 - val_accuracy: 0.9798\n",
            "Epoch 29/30\n",
            "8/8 [==============================] - 1s 105ms/step - loss: 0.3184 - accuracy: 1.0000 - val_loss: 0.4376 - val_accuracy: 0.9730\n",
            "Epoch 30/30\n",
            "8/8 [==============================] - 1s 91ms/step - loss: 0.3132 - accuracy: 1.0000 - val_loss: 0.4320 - val_accuracy: 0.9775\n"
          ]
        }
      ]
    },
    {
      "cell_type": "code",
      "source": [
        "from sklearn.metrics import classification_report\n",
        "import numpy as np\n",
        "\n",
        "# Generuję predykcję na testowym i przekształcam przewidywania\n",
        "#z zakodowanego formatu one-hot na etykiety\n",
        "y_predition = model.predict(x_test_ready)\n",
        "y_pred_labels = np.argmax(y_predition, axis=1)\n",
        "# Generuję classification raport\n",
        "report = classification_report(y_test_labels, y_pred_labels, target_names=label_encoder.classes_)\n",
        "print(report)"
      ],
      "metadata": {
        "colab": {
          "base_uri": "https://localhost:8080/"
        },
        "id": "sXwOKipdeQQC",
        "outputId": "fd89a3d6-34fa-42c1-ce42-31bf28762bfc"
      },
      "execution_count": 179,
      "outputs": [
        {
          "output_type": "stream",
          "name": "stdout",
          "text": [
            "14/14 [==============================] - 0s 12ms/step\n",
            "               precision    recall  f1-score   support\n",
            "\n",
            "     business       0.97      0.95      0.96       101\n",
            "entertainment       1.00      0.98      0.99        81\n",
            "     politics       0.96      0.98      0.97        83\n",
            "        sport       0.98      1.00      0.99        98\n",
            "         tech       0.96      0.98      0.97        82\n",
            "\n",
            "     accuracy                           0.98       445\n",
            "    macro avg       0.98      0.98      0.98       445\n",
            " weighted avg       0.98      0.98      0.98       445\n",
            "\n"
          ]
        }
      ]
    }
  ],
  "metadata": {
    "colab": {
      "provenance": []
    },
    "kernelspec": {
      "display_name": "Python 3",
      "name": "python3"
    },
    "language_info": {
      "name": "python"
    }
  },
  "nbformat": 4,
  "nbformat_minor": 0
}